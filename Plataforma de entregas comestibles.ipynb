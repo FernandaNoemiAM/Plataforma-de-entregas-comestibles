{
 "cells": [
  {
   "cell_type": "markdown",
   "id": "3Xg_RQfnafXz",
   "metadata": {
    "id": "3Xg_RQfnafXz"
   },
   "source": [
    "# ¡Llena ese carrito!"
   ]
  },
  {
   "cell_type": "markdown",
   "id": "mhIvmmkW414q",
   "metadata": {
    "id": "mhIvmmkW414q"
   },
   "source": [
    "# Introducción\n",
    "\n",
    "Instacart es una plataforma de entregas de comestibles donde la clientela puede registrar un pedido y hacer que se lo entreguen, similar a Uber Eats y Door Dash.\n",
    "El conjunto de datos que te hemos proporcionado tiene modificaciones del original. Redujimos el tamaño del conjunto para que tus cálculos se hicieran más rápido e introdujimos valores ausentes y duplicados. Tuvimos cuidado de conservar las distribuciones de los datos originales cuando hicimos los cambios.\n",
    "\n",
    "Debes completar tres pasos. Para cada uno de ellos, escribe una breve introducción que refleje con claridad cómo pretendes resolver cada paso, y escribe párrafos explicatorios que justifiquen tus decisiones al tiempo que avanzas en tu solución.  También escribe una conclusión que resuma tus hallazgos y elecciones.\n"
   ]
  },
  {
   "cell_type": "markdown",
   "id": "3MbyzpOQZ5Or",
   "metadata": {
    "id": "3MbyzpOQZ5Or"
   },
   "source": [
    "## Diccionario de datos\n",
    "\n",
    "Hay cinco tablas en el conjunto de datos, y tendrás que usarlas todas para hacer el preprocesamiento de datos y el análisis exploratorio de datos. A continuación se muestra un diccionario de datos que enumera las columnas de cada tabla y describe los datos que contienen.\n",
    "\n",
    "- `instacart_orders.csv`: cada fila corresponde a un pedido en la aplicación Instacart.\n",
    "    - `'order_id'`: número de ID que identifica de manera única cada pedido.\n",
    "    - `'user_id'`: número de ID que identifica de manera única la cuenta de cada cliente.\n",
    "    - `'order_number'`: el número de veces que este cliente ha hecho un pedido.\n",
    "    - `'order_dow'`: día de la semana en que se hizo el pedido (0 si es domingo).\n",
    "    - `'order_hour_of_day'`: hora del día en que se hizo el pedido.\n",
    "    - `'days_since_prior_order'`: número de días transcurridos desde que este cliente hizo su pedido anterior.\n",
    "- `products.csv`: cada fila corresponde a un producto único que pueden comprar los clientes.\n",
    "    - `'product_id'`: número ID que identifica de manera única cada producto.\n",
    "    - `'product_name'`: nombre del producto.\n",
    "    - `'aisle_id'`: número ID que identifica de manera única cada categoría de pasillo de víveres.\n",
    "    - `'department_id'`: número ID que identifica de manera única cada departamento de víveres.\n",
    "- `order_products.csv`: cada fila corresponde a un artículo pedido en un pedido.\n",
    "    - `'order_id'`: número de ID que identifica de manera única cada pedido.\n",
    "    - `'product_id'`: número ID que identifica de manera única cada producto.\n",
    "    - `'add_to_cart_order'`: el orden secuencial en el que se añadió cada artículo en el carrito.\n",
    "    - `'reordered'`: 0 si el cliente nunca ha pedido este producto antes, 1 si lo ha pedido.\n",
    "- `aisles.csv`\n",
    "    - `'aisle_id'`: número ID que identifica de manera única cada categoría de pasillo de víveres.\n",
    "    - `'aisle'`: nombre del pasillo.\n",
    "- `departments.csv`\n",
    "    - `'department_id'`: número ID que identifica de manera única cada departamento de víveres.\n",
    "    - `'department'`: nombre del departamento."
   ]
  },
  {
   "cell_type": "markdown",
   "id": "n3Ha_cNSZ8lK",
   "metadata": {
    "id": "n3Ha_cNSZ8lK"
   },
   "source": [
    "# Paso 1. Descripción de los datos\n",
    "\n",
    "Lee los archivos de datos (`/datasets/instacart_orders.csv`, `/datasets/products.csv`, `/datasets/aisles.csv`, `/datasets/departments.csv` y `/datasets/order_products.csv`) con `pd.read_csv()` usando los parámetros adecuados para leer los datos correctamente. Verifica la información para cada DataFrame creado.\n"
   ]
  },
  {
   "cell_type": "markdown",
   "id": "OmlQPLlyaAfR",
   "metadata": {
    "id": "OmlQPLlyaAfR"
   },
   "source": [
    "## Plan de solución\n",
    "\n",
    "Escribe aquí tu plan de solución para el Paso 1. Descripción de los datos."
   ]
  },
  {
   "cell_type": "code",
   "execution_count": 1,
   "id": "fbf1adab",
   "metadata": {
    "id": "fbf1adab"
   },
   "outputs": [],
   "source": [
    "# importar librerías\n",
    "import pandas as pd\n",
    "from matplotlib import pyplot as plt\n",
    "import numpy as np "
   ]
  },
  {
   "cell_type": "code",
   "execution_count": 2,
   "id": "ad36396d",
   "metadata": {
    "id": "ad36396d"
   },
   "outputs": [],
   "source": [
    "# leer conjuntos de datos en los DataFrames\n",
    "df_orders = pd.read_csv('./instacart_orders.csv', sep=';')\n",
    "df_products = pd.read_csv('./products.csv', sep=';')\n",
    "df_order_products = pd.read_csv('./order_products.csv', sep=';')\n",
    "df_aisles = pd.read_csv('./aisles.csv', sep=';')\n",
    "df_departments = pd.read_csv('./departments.csv', sep=';')"
   ]
  },
  {
   "cell_type": "code",
   "execution_count": 3,
   "id": "ad6a1efa",
   "metadata": {
    "id": "ad6a1efa"
   },
   "outputs": [
    {
     "name": "stdout",
     "output_type": "stream",
     "text": [
      "<class 'pandas.core.frame.DataFrame'>\n",
      "RangeIndex: 478967 entries, 0 to 478966\n",
      "Data columns (total 6 columns):\n",
      " #   Column                  Non-Null Count   Dtype  \n",
      "---  ------                  --------------   -----  \n",
      " 0   order_id                478967 non-null  int64  \n",
      " 1   user_id                 478967 non-null  int64  \n",
      " 2   order_number            478967 non-null  int64  \n",
      " 3   order_dow               478967 non-null  int64  \n",
      " 4   order_hour_of_day       478967 non-null  int64  \n",
      " 5   days_since_prior_order  450148 non-null  float64\n",
      "dtypes: float64(1), int64(5)\n",
      "memory usage: 21.9 MB\n"
     ]
    },
    {
     "data": {
      "text/html": [
       "<div>\n",
       "<style scoped>\n",
       "    .dataframe tbody tr th:only-of-type {\n",
       "        vertical-align: middle;\n",
       "    }\n",
       "\n",
       "    .dataframe tbody tr th {\n",
       "        vertical-align: top;\n",
       "    }\n",
       "\n",
       "    .dataframe thead th {\n",
       "        text-align: right;\n",
       "    }\n",
       "</style>\n",
       "<table border=\"1\" class=\"dataframe\">\n",
       "  <thead>\n",
       "    <tr style=\"text-align: right;\">\n",
       "      <th></th>\n",
       "      <th>order_id</th>\n",
       "      <th>user_id</th>\n",
       "      <th>order_number</th>\n",
       "      <th>order_dow</th>\n",
       "      <th>order_hour_of_day</th>\n",
       "      <th>days_since_prior_order</th>\n",
       "    </tr>\n",
       "  </thead>\n",
       "  <tbody>\n",
       "    <tr>\n",
       "      <th>0</th>\n",
       "      <td>1515936</td>\n",
       "      <td>183418</td>\n",
       "      <td>11</td>\n",
       "      <td>6</td>\n",
       "      <td>13</td>\n",
       "      <td>30.0</td>\n",
       "    </tr>\n",
       "    <tr>\n",
       "      <th>1</th>\n",
       "      <td>1690866</td>\n",
       "      <td>163593</td>\n",
       "      <td>5</td>\n",
       "      <td>5</td>\n",
       "      <td>12</td>\n",
       "      <td>9.0</td>\n",
       "    </tr>\n",
       "    <tr>\n",
       "      <th>2</th>\n",
       "      <td>1454967</td>\n",
       "      <td>39980</td>\n",
       "      <td>4</td>\n",
       "      <td>5</td>\n",
       "      <td>19</td>\n",
       "      <td>2.0</td>\n",
       "    </tr>\n",
       "    <tr>\n",
       "      <th>3</th>\n",
       "      <td>1768857</td>\n",
       "      <td>82516</td>\n",
       "      <td>56</td>\n",
       "      <td>0</td>\n",
       "      <td>20</td>\n",
       "      <td>10.0</td>\n",
       "    </tr>\n",
       "    <tr>\n",
       "      <th>4</th>\n",
       "      <td>3007858</td>\n",
       "      <td>196724</td>\n",
       "      <td>2</td>\n",
       "      <td>4</td>\n",
       "      <td>12</td>\n",
       "      <td>17.0</td>\n",
       "    </tr>\n",
       "  </tbody>\n",
       "</table>\n",
       "</div>"
      ],
      "text/plain": [
       "   order_id  user_id  order_number  order_dow  order_hour_of_day  \\\n",
       "0   1515936   183418            11          6                 13   \n",
       "1   1690866   163593             5          5                 12   \n",
       "2   1454967    39980             4          5                 19   \n",
       "3   1768857    82516            56          0                 20   \n",
       "4   3007858   196724             2          4                 12   \n",
       "\n",
       "   days_since_prior_order  \n",
       "0                    30.0  \n",
       "1                     9.0  \n",
       "2                     2.0  \n",
       "3                    10.0  \n",
       "4                    17.0  "
      ]
     },
     "execution_count": 3,
     "metadata": {},
     "output_type": "execute_result"
    }
   ],
   "source": [
    "# mostrar información del DataFrame df_orders\n",
    "df_orders.info()\n",
    "df_orders.head()"
   ]
  },
  {
   "cell_type": "code",
   "execution_count": 4,
   "id": "ae39233d",
   "metadata": {},
   "outputs": [
    {
     "data": {
      "text/html": [
       "<div>\n",
       "<style scoped>\n",
       "    .dataframe tbody tr th:only-of-type {\n",
       "        vertical-align: middle;\n",
       "    }\n",
       "\n",
       "    .dataframe tbody tr th {\n",
       "        vertical-align: top;\n",
       "    }\n",
       "\n",
       "    .dataframe thead th {\n",
       "        text-align: right;\n",
       "    }\n",
       "</style>\n",
       "<table border=\"1\" class=\"dataframe\">\n",
       "  <thead>\n",
       "    <tr style=\"text-align: right;\">\n",
       "      <th></th>\n",
       "      <th>order_id</th>\n",
       "      <th>user_id</th>\n",
       "      <th>order_number</th>\n",
       "      <th>order_dow</th>\n",
       "      <th>order_hour_of_day</th>\n",
       "      <th>days_since_prior_order</th>\n",
       "    </tr>\n",
       "  </thead>\n",
       "  <tbody>\n",
       "    <tr>\n",
       "      <th>count</th>\n",
       "      <td>4.789670e+05</td>\n",
       "      <td>478967.000000</td>\n",
       "      <td>478967.000000</td>\n",
       "      <td>478967.000000</td>\n",
       "      <td>478967.000000</td>\n",
       "      <td>450148.000000</td>\n",
       "    </tr>\n",
       "    <tr>\n",
       "      <th>mean</th>\n",
       "      <td>1.709947e+06</td>\n",
       "      <td>102966.537475</td>\n",
       "      <td>17.157808</td>\n",
       "      <td>2.775058</td>\n",
       "      <td>13.446676</td>\n",
       "      <td>11.101751</td>\n",
       "    </tr>\n",
       "    <tr>\n",
       "      <th>std</th>\n",
       "      <td>9.869480e+05</td>\n",
       "      <td>59525.328991</td>\n",
       "      <td>17.704688</td>\n",
       "      <td>2.045869</td>\n",
       "      <td>4.224986</td>\n",
       "      <td>9.189975</td>\n",
       "    </tr>\n",
       "    <tr>\n",
       "      <th>min</th>\n",
       "      <td>4.000000e+00</td>\n",
       "      <td>2.000000</td>\n",
       "      <td>1.000000</td>\n",
       "      <td>0.000000</td>\n",
       "      <td>0.000000</td>\n",
       "      <td>0.000000</td>\n",
       "    </tr>\n",
       "    <tr>\n",
       "      <th>25%</th>\n",
       "      <td>8.564685e+05</td>\n",
       "      <td>51414.000000</td>\n",
       "      <td>5.000000</td>\n",
       "      <td>1.000000</td>\n",
       "      <td>10.000000</td>\n",
       "      <td>4.000000</td>\n",
       "    </tr>\n",
       "    <tr>\n",
       "      <th>50%</th>\n",
       "      <td>1.709522e+06</td>\n",
       "      <td>102633.000000</td>\n",
       "      <td>11.000000</td>\n",
       "      <td>3.000000</td>\n",
       "      <td>13.000000</td>\n",
       "      <td>7.000000</td>\n",
       "    </tr>\n",
       "    <tr>\n",
       "      <th>75%</th>\n",
       "      <td>2.562990e+06</td>\n",
       "      <td>154419.000000</td>\n",
       "      <td>23.000000</td>\n",
       "      <td>5.000000</td>\n",
       "      <td>16.000000</td>\n",
       "      <td>15.000000</td>\n",
       "    </tr>\n",
       "    <tr>\n",
       "      <th>max</th>\n",
       "      <td>3.421079e+06</td>\n",
       "      <td>206209.000000</td>\n",
       "      <td>100.000000</td>\n",
       "      <td>6.000000</td>\n",
       "      <td>23.000000</td>\n",
       "      <td>30.000000</td>\n",
       "    </tr>\n",
       "  </tbody>\n",
       "</table>\n",
       "</div>"
      ],
      "text/plain": [
       "           order_id        user_id   order_number      order_dow  \\\n",
       "count  4.789670e+05  478967.000000  478967.000000  478967.000000   \n",
       "mean   1.709947e+06  102966.537475      17.157808       2.775058   \n",
       "std    9.869480e+05   59525.328991      17.704688       2.045869   \n",
       "min    4.000000e+00       2.000000       1.000000       0.000000   \n",
       "25%    8.564685e+05   51414.000000       5.000000       1.000000   \n",
       "50%    1.709522e+06  102633.000000      11.000000       3.000000   \n",
       "75%    2.562990e+06  154419.000000      23.000000       5.000000   \n",
       "max    3.421079e+06  206209.000000     100.000000       6.000000   \n",
       "\n",
       "       order_hour_of_day  days_since_prior_order  \n",
       "count      478967.000000           450148.000000  \n",
       "mean           13.446676               11.101751  \n",
       "std             4.224986                9.189975  \n",
       "min             0.000000                0.000000  \n",
       "25%            10.000000                4.000000  \n",
       "50%            13.000000                7.000000  \n",
       "75%            16.000000               15.000000  \n",
       "max            23.000000               30.000000  "
      ]
     },
     "execution_count": 4,
     "metadata": {},
     "output_type": "execute_result"
    }
   ],
   "source": [
    "df_orders.describe()"
   ]
  },
  {
   "cell_type": "code",
   "execution_count": 5,
   "id": "5130e05e",
   "metadata": {
    "id": "5130e05e"
   },
   "outputs": [
    {
     "name": "stdout",
     "output_type": "stream",
     "text": [
      "<class 'pandas.core.frame.DataFrame'>\n",
      "RangeIndex: 49694 entries, 0 to 49693\n",
      "Data columns (total 4 columns):\n",
      " #   Column         Non-Null Count  Dtype \n",
      "---  ------         --------------  ----- \n",
      " 0   product_id     49694 non-null  int64 \n",
      " 1   product_name   48436 non-null  object\n",
      " 2   aisle_id       49694 non-null  int64 \n",
      " 3   department_id  49694 non-null  int64 \n",
      "dtypes: int64(3), object(1)\n",
      "memory usage: 1.5+ MB\n"
     ]
    },
    {
     "data": {
      "text/html": [
       "<div>\n",
       "<style scoped>\n",
       "    .dataframe tbody tr th:only-of-type {\n",
       "        vertical-align: middle;\n",
       "    }\n",
       "\n",
       "    .dataframe tbody tr th {\n",
       "        vertical-align: top;\n",
       "    }\n",
       "\n",
       "    .dataframe thead th {\n",
       "        text-align: right;\n",
       "    }\n",
       "</style>\n",
       "<table border=\"1\" class=\"dataframe\">\n",
       "  <thead>\n",
       "    <tr style=\"text-align: right;\">\n",
       "      <th></th>\n",
       "      <th>product_id</th>\n",
       "      <th>product_name</th>\n",
       "      <th>aisle_id</th>\n",
       "      <th>department_id</th>\n",
       "    </tr>\n",
       "  </thead>\n",
       "  <tbody>\n",
       "    <tr>\n",
       "      <th>0</th>\n",
       "      <td>1</td>\n",
       "      <td>Chocolate Sandwich Cookies</td>\n",
       "      <td>61</td>\n",
       "      <td>19</td>\n",
       "    </tr>\n",
       "    <tr>\n",
       "      <th>1</th>\n",
       "      <td>2</td>\n",
       "      <td>All-Seasons Salt</td>\n",
       "      <td>104</td>\n",
       "      <td>13</td>\n",
       "    </tr>\n",
       "    <tr>\n",
       "      <th>2</th>\n",
       "      <td>3</td>\n",
       "      <td>Robust Golden Unsweetened Oolong Tea</td>\n",
       "      <td>94</td>\n",
       "      <td>7</td>\n",
       "    </tr>\n",
       "    <tr>\n",
       "      <th>3</th>\n",
       "      <td>4</td>\n",
       "      <td>Smart Ones Classic Favorites Mini Rigatoni Wit...</td>\n",
       "      <td>38</td>\n",
       "      <td>1</td>\n",
       "    </tr>\n",
       "    <tr>\n",
       "      <th>4</th>\n",
       "      <td>5</td>\n",
       "      <td>Green Chile Anytime Sauce</td>\n",
       "      <td>5</td>\n",
       "      <td>13</td>\n",
       "    </tr>\n",
       "  </tbody>\n",
       "</table>\n",
       "</div>"
      ],
      "text/plain": [
       "   product_id                                       product_name  aisle_id  \\\n",
       "0           1                         Chocolate Sandwich Cookies        61   \n",
       "1           2                                   All-Seasons Salt       104   \n",
       "2           3               Robust Golden Unsweetened Oolong Tea        94   \n",
       "3           4  Smart Ones Classic Favorites Mini Rigatoni Wit...        38   \n",
       "4           5                          Green Chile Anytime Sauce         5   \n",
       "\n",
       "   department_id  \n",
       "0             19  \n",
       "1             13  \n",
       "2              7  \n",
       "3              1  \n",
       "4             13  "
      ]
     },
     "execution_count": 5,
     "metadata": {},
     "output_type": "execute_result"
    }
   ],
   "source": [
    "# mostrar información del DataFrame df_products\n",
    "df_products.info()\n",
    "df_products.head()"
   ]
  },
  {
   "cell_type": "code",
   "execution_count": 6,
   "id": "31b1d095",
   "metadata": {},
   "outputs": [
    {
     "data": {
      "text/html": [
       "<div>\n",
       "<style scoped>\n",
       "    .dataframe tbody tr th:only-of-type {\n",
       "        vertical-align: middle;\n",
       "    }\n",
       "\n",
       "    .dataframe tbody tr th {\n",
       "        vertical-align: top;\n",
       "    }\n",
       "\n",
       "    .dataframe thead th {\n",
       "        text-align: right;\n",
       "    }\n",
       "</style>\n",
       "<table border=\"1\" class=\"dataframe\">\n",
       "  <thead>\n",
       "    <tr style=\"text-align: right;\">\n",
       "      <th></th>\n",
       "      <th>product_id</th>\n",
       "      <th>aisle_id</th>\n",
       "      <th>department_id</th>\n",
       "    </tr>\n",
       "  </thead>\n",
       "  <tbody>\n",
       "    <tr>\n",
       "      <th>count</th>\n",
       "      <td>49694.000000</td>\n",
       "      <td>49694.000000</td>\n",
       "      <td>49694.000000</td>\n",
       "    </tr>\n",
       "    <tr>\n",
       "      <th>mean</th>\n",
       "      <td>24847.500000</td>\n",
       "      <td>67.773192</td>\n",
       "      <td>11.728478</td>\n",
       "    </tr>\n",
       "    <tr>\n",
       "      <th>std</th>\n",
       "      <td>14345.566475</td>\n",
       "      <td>38.317265</td>\n",
       "      <td>5.850314</td>\n",
       "    </tr>\n",
       "    <tr>\n",
       "      <th>min</th>\n",
       "      <td>1.000000</td>\n",
       "      <td>1.000000</td>\n",
       "      <td>1.000000</td>\n",
       "    </tr>\n",
       "    <tr>\n",
       "      <th>25%</th>\n",
       "      <td>12424.250000</td>\n",
       "      <td>35.000000</td>\n",
       "      <td>7.000000</td>\n",
       "    </tr>\n",
       "    <tr>\n",
       "      <th>50%</th>\n",
       "      <td>24847.500000</td>\n",
       "      <td>69.000000</td>\n",
       "      <td>13.000000</td>\n",
       "    </tr>\n",
       "    <tr>\n",
       "      <th>75%</th>\n",
       "      <td>37270.750000</td>\n",
       "      <td>100.000000</td>\n",
       "      <td>17.000000</td>\n",
       "    </tr>\n",
       "    <tr>\n",
       "      <th>max</th>\n",
       "      <td>49694.000000</td>\n",
       "      <td>134.000000</td>\n",
       "      <td>21.000000</td>\n",
       "    </tr>\n",
       "  </tbody>\n",
       "</table>\n",
       "</div>"
      ],
      "text/plain": [
       "         product_id      aisle_id  department_id\n",
       "count  49694.000000  49694.000000   49694.000000\n",
       "mean   24847.500000     67.773192      11.728478\n",
       "std    14345.566475     38.317265       5.850314\n",
       "min        1.000000      1.000000       1.000000\n",
       "25%    12424.250000     35.000000       7.000000\n",
       "50%    24847.500000     69.000000      13.000000\n",
       "75%    37270.750000    100.000000      17.000000\n",
       "max    49694.000000    134.000000      21.000000"
      ]
     },
     "execution_count": 6,
     "metadata": {},
     "output_type": "execute_result"
    }
   ],
   "source": [
    "df_products.describe()"
   ]
  },
  {
   "cell_type": "code",
   "execution_count": 7,
   "id": "d8370c05",
   "metadata": {
    "id": "d8370c05"
   },
   "outputs": [
    {
     "name": "stdout",
     "output_type": "stream",
     "text": [
      "<class 'pandas.core.frame.DataFrame'>\n",
      "RangeIndex: 4545007 entries, 0 to 4545006\n",
      "Data columns (total 4 columns):\n",
      " #   Column             Non-Null Count    Dtype  \n",
      "---  ------             --------------    -----  \n",
      " 0   order_id           4545007 non-null  int64  \n",
      " 1   product_id         4545007 non-null  int64  \n",
      " 2   add_to_cart_order  4544171 non-null  float64\n",
      " 3   reordered          4545007 non-null  int64  \n",
      "dtypes: float64(1), int64(3)\n",
      "memory usage: 138.7 MB\n"
     ]
    },
    {
     "data": {
      "text/html": [
       "<div>\n",
       "<style scoped>\n",
       "    .dataframe tbody tr th:only-of-type {\n",
       "        vertical-align: middle;\n",
       "    }\n",
       "\n",
       "    .dataframe tbody tr th {\n",
       "        vertical-align: top;\n",
       "    }\n",
       "\n",
       "    .dataframe thead th {\n",
       "        text-align: right;\n",
       "    }\n",
       "</style>\n",
       "<table border=\"1\" class=\"dataframe\">\n",
       "  <thead>\n",
       "    <tr style=\"text-align: right;\">\n",
       "      <th></th>\n",
       "      <th>order_id</th>\n",
       "      <th>product_id</th>\n",
       "      <th>add_to_cart_order</th>\n",
       "      <th>reordered</th>\n",
       "    </tr>\n",
       "  </thead>\n",
       "  <tbody>\n",
       "    <tr>\n",
       "      <th>0</th>\n",
       "      <td>2141543</td>\n",
       "      <td>11440</td>\n",
       "      <td>17.0</td>\n",
       "      <td>0</td>\n",
       "    </tr>\n",
       "    <tr>\n",
       "      <th>1</th>\n",
       "      <td>567889</td>\n",
       "      <td>1560</td>\n",
       "      <td>1.0</td>\n",
       "      <td>1</td>\n",
       "    </tr>\n",
       "    <tr>\n",
       "      <th>2</th>\n",
       "      <td>2261212</td>\n",
       "      <td>26683</td>\n",
       "      <td>1.0</td>\n",
       "      <td>1</td>\n",
       "    </tr>\n",
       "    <tr>\n",
       "      <th>3</th>\n",
       "      <td>491251</td>\n",
       "      <td>8670</td>\n",
       "      <td>35.0</td>\n",
       "      <td>1</td>\n",
       "    </tr>\n",
       "    <tr>\n",
       "      <th>4</th>\n",
       "      <td>2571142</td>\n",
       "      <td>1940</td>\n",
       "      <td>5.0</td>\n",
       "      <td>1</td>\n",
       "    </tr>\n",
       "  </tbody>\n",
       "</table>\n",
       "</div>"
      ],
      "text/plain": [
       "   order_id  product_id  add_to_cart_order  reordered\n",
       "0   2141543       11440               17.0          0\n",
       "1    567889        1560                1.0          1\n",
       "2   2261212       26683                1.0          1\n",
       "3    491251        8670               35.0          1\n",
       "4   2571142        1940                5.0          1"
      ]
     },
     "execution_count": 7,
     "metadata": {},
     "output_type": "execute_result"
    }
   ],
   "source": [
    "# mostrar información del DataFrame df_order_products\n",
    "df_order_products.info(show_counts=True)\n",
    "df_order_products.head()"
   ]
  },
  {
   "cell_type": "code",
   "execution_count": 8,
   "id": "4202212c",
   "metadata": {},
   "outputs": [
    {
     "data": {
      "text/html": [
       "<div>\n",
       "<style scoped>\n",
       "    .dataframe tbody tr th:only-of-type {\n",
       "        vertical-align: middle;\n",
       "    }\n",
       "\n",
       "    .dataframe tbody tr th {\n",
       "        vertical-align: top;\n",
       "    }\n",
       "\n",
       "    .dataframe thead th {\n",
       "        text-align: right;\n",
       "    }\n",
       "</style>\n",
       "<table border=\"1\" class=\"dataframe\">\n",
       "  <thead>\n",
       "    <tr style=\"text-align: right;\">\n",
       "      <th></th>\n",
       "      <th>order_id</th>\n",
       "      <th>product_id</th>\n",
       "      <th>add_to_cart_order</th>\n",
       "      <th>reordered</th>\n",
       "    </tr>\n",
       "  </thead>\n",
       "  <tbody>\n",
       "    <tr>\n",
       "      <th>count</th>\n",
       "      <td>4.545007e+06</td>\n",
       "      <td>4.545007e+06</td>\n",
       "      <td>4.544171e+06</td>\n",
       "      <td>4.545007e+06</td>\n",
       "    </tr>\n",
       "    <tr>\n",
       "      <th>mean</th>\n",
       "      <td>1.711166e+06</td>\n",
       "      <td>2.558084e+04</td>\n",
       "      <td>8.351669e+00</td>\n",
       "      <td>5.905025e-01</td>\n",
       "    </tr>\n",
       "    <tr>\n",
       "      <th>std</th>\n",
       "      <td>9.850955e+05</td>\n",
       "      <td>1.409552e+04</td>\n",
       "      <td>7.080368e+00</td>\n",
       "      <td>4.917411e-01</td>\n",
       "    </tr>\n",
       "    <tr>\n",
       "      <th>min</th>\n",
       "      <td>4.000000e+00</td>\n",
       "      <td>1.000000e+00</td>\n",
       "      <td>1.000000e+00</td>\n",
       "      <td>0.000000e+00</td>\n",
       "    </tr>\n",
       "    <tr>\n",
       "      <th>25%</th>\n",
       "      <td>8.608170e+05</td>\n",
       "      <td>1.353500e+04</td>\n",
       "      <td>3.000000e+00</td>\n",
       "      <td>0.000000e+00</td>\n",
       "    </tr>\n",
       "    <tr>\n",
       "      <th>50%</th>\n",
       "      <td>1.711530e+06</td>\n",
       "      <td>2.527200e+04</td>\n",
       "      <td>6.000000e+00</td>\n",
       "      <td>1.000000e+00</td>\n",
       "    </tr>\n",
       "    <tr>\n",
       "      <th>75%</th>\n",
       "      <td>2.561311e+06</td>\n",
       "      <td>3.793500e+04</td>\n",
       "      <td>1.100000e+01</td>\n",
       "      <td>1.000000e+00</td>\n",
       "    </tr>\n",
       "    <tr>\n",
       "      <th>max</th>\n",
       "      <td>3.421079e+06</td>\n",
       "      <td>4.969400e+04</td>\n",
       "      <td>6.400000e+01</td>\n",
       "      <td>1.000000e+00</td>\n",
       "    </tr>\n",
       "  </tbody>\n",
       "</table>\n",
       "</div>"
      ],
      "text/plain": [
       "           order_id    product_id  add_to_cart_order     reordered\n",
       "count  4.545007e+06  4.545007e+06       4.544171e+06  4.545007e+06\n",
       "mean   1.711166e+06  2.558084e+04       8.351669e+00  5.905025e-01\n",
       "std    9.850955e+05  1.409552e+04       7.080368e+00  4.917411e-01\n",
       "min    4.000000e+00  1.000000e+00       1.000000e+00  0.000000e+00\n",
       "25%    8.608170e+05  1.353500e+04       3.000000e+00  0.000000e+00\n",
       "50%    1.711530e+06  2.527200e+04       6.000000e+00  1.000000e+00\n",
       "75%    2.561311e+06  3.793500e+04       1.100000e+01  1.000000e+00\n",
       "max    3.421079e+06  4.969400e+04       6.400000e+01  1.000000e+00"
      ]
     },
     "execution_count": 8,
     "metadata": {},
     "output_type": "execute_result"
    }
   ],
   "source": [
    "df_order_products.describe()"
   ]
  },
  {
   "cell_type": "code",
   "execution_count": 9,
   "id": "59e2090f",
   "metadata": {
    "id": "59e2090f"
   },
   "outputs": [
    {
     "name": "stdout",
     "output_type": "stream",
     "text": [
      "<class 'pandas.core.frame.DataFrame'>\n",
      "RangeIndex: 134 entries, 0 to 133\n",
      "Data columns (total 2 columns):\n",
      " #   Column    Non-Null Count  Dtype \n",
      "---  ------    --------------  ----- \n",
      " 0   aisle_id  134 non-null    int64 \n",
      " 1   aisle     134 non-null    object\n",
      "dtypes: int64(1), object(1)\n",
      "memory usage: 2.2+ KB\n"
     ]
    },
    {
     "data": {
      "text/html": [
       "<div>\n",
       "<style scoped>\n",
       "    .dataframe tbody tr th:only-of-type {\n",
       "        vertical-align: middle;\n",
       "    }\n",
       "\n",
       "    .dataframe tbody tr th {\n",
       "        vertical-align: top;\n",
       "    }\n",
       "\n",
       "    .dataframe thead th {\n",
       "        text-align: right;\n",
       "    }\n",
       "</style>\n",
       "<table border=\"1\" class=\"dataframe\">\n",
       "  <thead>\n",
       "    <tr style=\"text-align: right;\">\n",
       "      <th></th>\n",
       "      <th>aisle_id</th>\n",
       "      <th>aisle</th>\n",
       "    </tr>\n",
       "  </thead>\n",
       "  <tbody>\n",
       "    <tr>\n",
       "      <th>0</th>\n",
       "      <td>1</td>\n",
       "      <td>prepared soups salads</td>\n",
       "    </tr>\n",
       "    <tr>\n",
       "      <th>1</th>\n",
       "      <td>2</td>\n",
       "      <td>specialty cheeses</td>\n",
       "    </tr>\n",
       "    <tr>\n",
       "      <th>2</th>\n",
       "      <td>3</td>\n",
       "      <td>energy granola bars</td>\n",
       "    </tr>\n",
       "    <tr>\n",
       "      <th>3</th>\n",
       "      <td>4</td>\n",
       "      <td>instant foods</td>\n",
       "    </tr>\n",
       "    <tr>\n",
       "      <th>4</th>\n",
       "      <td>5</td>\n",
       "      <td>marinades meat preparation</td>\n",
       "    </tr>\n",
       "  </tbody>\n",
       "</table>\n",
       "</div>"
      ],
      "text/plain": [
       "   aisle_id                       aisle\n",
       "0         1       prepared soups salads\n",
       "1         2           specialty cheeses\n",
       "2         3         energy granola bars\n",
       "3         4               instant foods\n",
       "4         5  marinades meat preparation"
      ]
     },
     "execution_count": 9,
     "metadata": {},
     "output_type": "execute_result"
    }
   ],
   "source": [
    "# mostrar información del DataFrame df_aisles\n",
    "df_aisles.info()\n",
    "df_aisles.head()"
   ]
  },
  {
   "cell_type": "code",
   "execution_count": 10,
   "id": "5b15d314",
   "metadata": {},
   "outputs": [
    {
     "data": {
      "text/html": [
       "<div>\n",
       "<style scoped>\n",
       "    .dataframe tbody tr th:only-of-type {\n",
       "        vertical-align: middle;\n",
       "    }\n",
       "\n",
       "    .dataframe tbody tr th {\n",
       "        vertical-align: top;\n",
       "    }\n",
       "\n",
       "    .dataframe thead th {\n",
       "        text-align: right;\n",
       "    }\n",
       "</style>\n",
       "<table border=\"1\" class=\"dataframe\">\n",
       "  <thead>\n",
       "    <tr style=\"text-align: right;\">\n",
       "      <th></th>\n",
       "      <th>aisle_id</th>\n",
       "    </tr>\n",
       "  </thead>\n",
       "  <tbody>\n",
       "    <tr>\n",
       "      <th>count</th>\n",
       "      <td>134.000000</td>\n",
       "    </tr>\n",
       "    <tr>\n",
       "      <th>mean</th>\n",
       "      <td>67.500000</td>\n",
       "    </tr>\n",
       "    <tr>\n",
       "      <th>std</th>\n",
       "      <td>38.826537</td>\n",
       "    </tr>\n",
       "    <tr>\n",
       "      <th>min</th>\n",
       "      <td>1.000000</td>\n",
       "    </tr>\n",
       "    <tr>\n",
       "      <th>25%</th>\n",
       "      <td>34.250000</td>\n",
       "    </tr>\n",
       "    <tr>\n",
       "      <th>50%</th>\n",
       "      <td>67.500000</td>\n",
       "    </tr>\n",
       "    <tr>\n",
       "      <th>75%</th>\n",
       "      <td>100.750000</td>\n",
       "    </tr>\n",
       "    <tr>\n",
       "      <th>max</th>\n",
       "      <td>134.000000</td>\n",
       "    </tr>\n",
       "  </tbody>\n",
       "</table>\n",
       "</div>"
      ],
      "text/plain": [
       "         aisle_id\n",
       "count  134.000000\n",
       "mean    67.500000\n",
       "std     38.826537\n",
       "min      1.000000\n",
       "25%     34.250000\n",
       "50%     67.500000\n",
       "75%    100.750000\n",
       "max    134.000000"
      ]
     },
     "execution_count": 10,
     "metadata": {},
     "output_type": "execute_result"
    }
   ],
   "source": [
    "df_aisles.describe()"
   ]
  },
  {
   "cell_type": "code",
   "execution_count": 11,
   "id": "6fc81694",
   "metadata": {
    "id": "6fc81694"
   },
   "outputs": [
    {
     "name": "stdout",
     "output_type": "stream",
     "text": [
      "<class 'pandas.core.frame.DataFrame'>\n",
      "RangeIndex: 21 entries, 0 to 20\n",
      "Data columns (total 2 columns):\n",
      " #   Column         Non-Null Count  Dtype \n",
      "---  ------         --------------  ----- \n",
      " 0   department_id  21 non-null     int64 \n",
      " 1   department     21 non-null     object\n",
      "dtypes: int64(1), object(1)\n",
      "memory usage: 468.0+ bytes\n"
     ]
    },
    {
     "data": {
      "text/html": [
       "<div>\n",
       "<style scoped>\n",
       "    .dataframe tbody tr th:only-of-type {\n",
       "        vertical-align: middle;\n",
       "    }\n",
       "\n",
       "    .dataframe tbody tr th {\n",
       "        vertical-align: top;\n",
       "    }\n",
       "\n",
       "    .dataframe thead th {\n",
       "        text-align: right;\n",
       "    }\n",
       "</style>\n",
       "<table border=\"1\" class=\"dataframe\">\n",
       "  <thead>\n",
       "    <tr style=\"text-align: right;\">\n",
       "      <th></th>\n",
       "      <th>department_id</th>\n",
       "      <th>department</th>\n",
       "    </tr>\n",
       "  </thead>\n",
       "  <tbody>\n",
       "    <tr>\n",
       "      <th>0</th>\n",
       "      <td>1</td>\n",
       "      <td>frozen</td>\n",
       "    </tr>\n",
       "    <tr>\n",
       "      <th>1</th>\n",
       "      <td>2</td>\n",
       "      <td>other</td>\n",
       "    </tr>\n",
       "    <tr>\n",
       "      <th>2</th>\n",
       "      <td>3</td>\n",
       "      <td>bakery</td>\n",
       "    </tr>\n",
       "    <tr>\n",
       "      <th>3</th>\n",
       "      <td>4</td>\n",
       "      <td>produce</td>\n",
       "    </tr>\n",
       "    <tr>\n",
       "      <th>4</th>\n",
       "      <td>5</td>\n",
       "      <td>alcohol</td>\n",
       "    </tr>\n",
       "  </tbody>\n",
       "</table>\n",
       "</div>"
      ],
      "text/plain": [
       "   department_id department\n",
       "0              1     frozen\n",
       "1              2      other\n",
       "2              3     bakery\n",
       "3              4    produce\n",
       "4              5    alcohol"
      ]
     },
     "execution_count": 11,
     "metadata": {},
     "output_type": "execute_result"
    }
   ],
   "source": [
    "# mostrar información del DataFrame df_departments\n",
    "df_departments.info()\n",
    "df_departments.head()"
   ]
  },
  {
   "cell_type": "code",
   "execution_count": 12,
   "id": "e31f9e8f",
   "metadata": {},
   "outputs": [
    {
     "data": {
      "text/html": [
       "<div>\n",
       "<style scoped>\n",
       "    .dataframe tbody tr th:only-of-type {\n",
       "        vertical-align: middle;\n",
       "    }\n",
       "\n",
       "    .dataframe tbody tr th {\n",
       "        vertical-align: top;\n",
       "    }\n",
       "\n",
       "    .dataframe thead th {\n",
       "        text-align: right;\n",
       "    }\n",
       "</style>\n",
       "<table border=\"1\" class=\"dataframe\">\n",
       "  <thead>\n",
       "    <tr style=\"text-align: right;\">\n",
       "      <th></th>\n",
       "      <th>department_id</th>\n",
       "    </tr>\n",
       "  </thead>\n",
       "  <tbody>\n",
       "    <tr>\n",
       "      <th>count</th>\n",
       "      <td>21.000000</td>\n",
       "    </tr>\n",
       "    <tr>\n",
       "      <th>mean</th>\n",
       "      <td>11.000000</td>\n",
       "    </tr>\n",
       "    <tr>\n",
       "      <th>std</th>\n",
       "      <td>6.204837</td>\n",
       "    </tr>\n",
       "    <tr>\n",
       "      <th>min</th>\n",
       "      <td>1.000000</td>\n",
       "    </tr>\n",
       "    <tr>\n",
       "      <th>25%</th>\n",
       "      <td>6.000000</td>\n",
       "    </tr>\n",
       "    <tr>\n",
       "      <th>50%</th>\n",
       "      <td>11.000000</td>\n",
       "    </tr>\n",
       "    <tr>\n",
       "      <th>75%</th>\n",
       "      <td>16.000000</td>\n",
       "    </tr>\n",
       "    <tr>\n",
       "      <th>max</th>\n",
       "      <td>21.000000</td>\n",
       "    </tr>\n",
       "  </tbody>\n",
       "</table>\n",
       "</div>"
      ],
      "text/plain": [
       "       department_id\n",
       "count      21.000000\n",
       "mean       11.000000\n",
       "std         6.204837\n",
       "min         1.000000\n",
       "25%         6.000000\n",
       "50%        11.000000\n",
       "75%        16.000000\n",
       "max        21.000000"
      ]
     },
     "execution_count": 12,
     "metadata": {},
     "output_type": "execute_result"
    }
   ],
   "source": [
    "df_departments.describe()"
   ]
  },
  {
   "cell_type": "markdown",
   "id": "t75BD19oaR5f",
   "metadata": {
    "id": "t75BD19oaR5f"
   },
   "source": [
    "## Conclusiones\n",
    "\n",
    "Escribe aquí tus conclusiones intermedias sobre el Paso 1. \n",
    "Descripción de los datos.\n",
    "\n",
    "Se observa que en el primer dataframe (df_orders) contiene los pedidos en la aplicación. En las primeras filas no hay valores nulos y son de tipo int 64, en days_since_prior_order sí hay valores nulos y este dato es de tipo float64 y el número es bastante considerable, se puede observar que el rango en este va de 0-30 días. \n",
    "En el segundo dataframe(df_products) se observan los productos únicos que pueden comprar los clientes, se observa que en una de las 4 columnas (product_name) hay valores nulos y en este caso es de tipo object. \n",
    "En el tercer dataframe (df_order_products)se observan los articulos pedidos en un pedido, en este caso no contiene valores nulos. \n",
    "En el cuarto dataframe (df_aisles) se muestra la información de los pasillos y en este caso tampoco hay valores nulos.\n",
    "Finalmente se puede observar el dataframe (df_departments) mostrando la información de los departamentos en el que tampoco hay valores nulos. "
   ]
  },
  {
   "cell_type": "markdown",
   "id": "8RJHqxVmaVsF",
   "metadata": {
    "id": "8RJHqxVmaVsF"
   },
   "source": [
    "# Paso 2. Preprocesamiento de los datos\n",
    "\n",
    "Preprocesa los datos de la siguiente manera:\n",
    "\n",
    "- Verifica y corrige los tipos de datos (por ejemplo, asegúrate de que las columnas de ID sean números enteros).\n",
    "- Identifica y completa los valores ausentes.\n",
    "- Identifica y elimina los valores duplicados.\n",
    "\n",
    "Asegúrate de explicar qué tipos de valores ausentes y duplicados encontraste, cómo los completaste o eliminaste y por qué usaste esos métodos. ¿Por qué crees que estos valores ausentes y duplicados pueden haber estado presentes en el conjunto de datos?"
   ]
  },
  {
   "cell_type": "markdown",
   "id": "p6poABZQaZYb",
   "metadata": {
    "id": "p6poABZQaZYb"
   },
   "source": [
    "## Plan de solución\n",
    "\n",
    "Escribe aquí tu plan para el Paso 2. Preprocesamiento de los datos.\n",
    "\n",
    "1.-Verifica y corrige los tipos de datos (por ejemplo, asegúrate de que las columnas de ID sean números enteros).\n",
    "Se observará con el metodo info. \n",
    "\n",
    "\n",
    "2.-Identifica y completa los valores ausentes.\n",
    "Se identificarán con el método info e isna y se completarán con filna\n",
    "\n",
    "3.-Identifica y elimina los valores duplicados.\n",
    "Se identificarán por medio del procesamiento de valores duplicados con el método duplicated y el método drop_duplicates\n",
    "\n",
    "\n",
    "4.-¿Por qué crees que estos valores ausentes y duplicados pueden haber estado presentes en el conjunto de datos?\n",
    "Creo que puede haber valores ausentes debido algúna actualización de la app en donde se haya guardado el id pero no el nombre del producto o que sea algún producto nuevo en el que aún no se le haya asignado el nombre. Por otra parte podría haber valores duplicados porque algún error en la aplicación."
   ]
  },
  {
   "cell_type": "markdown",
   "id": "07357848-dc64-4156-9cc3-01ff4365226d",
   "metadata": {
    "id": "07357848-dc64-4156-9cc3-01ff4365226d"
   },
   "source": [
    "## Encuentra y elimina los valores duplicados (y describe cómo tomaste tus decisiones)."
   ]
  },
  {
   "cell_type": "markdown",
   "id": "f179f0a9",
   "metadata": {
    "id": "f179f0a9"
   },
   "source": [
    "### `instacart_orders` data frame"
   ]
  },
  {
   "cell_type": "code",
   "execution_count": 13,
   "id": "b99297a5-405a-463d-8535-9adc3da4ad74",
   "metadata": {
    "id": "b99297a5-405a-463d-8535-9adc3da4ad74",
    "scrolled": true
   },
   "outputs": [
    {
     "name": "stdout",
     "output_type": "stream",
     "text": [
      "El número de pedidos duplicados es: 15\n",
      "\n",
      "Las filas duplicadas son:\n",
      "        order_id  user_id  order_number  order_dow  order_hour_of_day  \\\n",
      "145574    794638    50898            24          3                  2   \n",
      "223105   2160484   107525            16          3                  2   \n",
      "230807   1918001   188546            14          3                  2   \n",
      "266232   1782114   106752             1          3                  2   \n",
      "273805   1112182   202304            84          3                  2   \n",
      "284038   2845099    31189            11          3                  2   \n",
      "311713   1021560    53767             3          3                  2   \n",
      "321100    408114    68324             4          3                  2   \n",
      "323900   1919531   191501            32          3                  2   \n",
      "345917   2232988    82565             1          3                  2   \n",
      "371905    391768    57671            19          3                  2   \n",
      "394347    467134    63189            21          3                  2   \n",
      "411408   1286742   183220            48          3                  2   \n",
      "415163   2282673    86751            49          3                  2   \n",
      "441599   2125197    14050            48          3                  2   \n",
      "\n",
      "        days_since_prior_order  \n",
      "145574                     2.0  \n",
      "223105                    30.0  \n",
      "230807                    16.0  \n",
      "266232                     NaN  \n",
      "273805                     6.0  \n",
      "284038                     7.0  \n",
      "311713                     9.0  \n",
      "321100                    18.0  \n",
      "323900                     7.0  \n",
      "345917                     NaN  \n",
      "371905                    10.0  \n",
      "394347                     2.0  \n",
      "411408                     4.0  \n",
      "415163                     2.0  \n",
      "441599                     3.0  \n"
     ]
    }
   ],
   "source": [
    "# Revisa si hay pedidos duplicados\n",
    "duplicated=df_orders.duplicated().sum()\n",
    "print('El número de pedidos duplicados es:', duplicated)\n",
    "print()\n",
    "duplicated_rows = df_orders[df_orders.duplicated()] \n",
    "print('Las filas duplicadas son:') \n",
    "print(duplicated_rows)"
   ]
  },
  {
   "cell_type": "markdown",
   "id": "PEkwUX_gvt5A",
   "metadata": {
    "id": "PEkwUX_gvt5A"
   },
   "source": [
    "¿Tienes líneas duplicadas? Si sí, ¿qué tienen en común?\n",
    "Lo que tienen en común son el día de la semana en que se hizo un pedido, en este caso se realizaron el día 3 de la semana o miércoles y la hora del día en que se hizo el pedido, en este caso, la segunda hora del día (2 am)."
   ]
  },
  {
   "cell_type": "code",
   "execution_count": 14,
   "id": "0d44de5d",
   "metadata": {
    "id": "0d44de5d"
   },
   "outputs": [
    {
     "name": "stdout",
     "output_type": "stream",
     "text": [
      "        order_id  user_id  order_number  order_dow  order_hour_of_day  \\\n",
      "4838     2766110   162084            41          3                  2   \n",
      "5156     2190225   138285            18          3                  2   \n",
      "15506     553049    58599            13          3                  2   \n",
      "18420     382357   120200            19          3                  2   \n",
      "24691     690242    77357             2          3                  2   \n",
      "...          ...      ...           ...        ...                ...   \n",
      "457013   3384021    14881             6          3                  2   \n",
      "458816    910166   164782            18          3                  2   \n",
      "459635   1680532   106435             6          3                  2   \n",
      "468324    222962    54979            59          3                  2   \n",
      "477526   2592344    46860            38          3                  2   \n",
      "\n",
      "        days_since_prior_order  \n",
      "4838                      16.0  \n",
      "5156                      11.0  \n",
      "15506                      7.0  \n",
      "18420                     11.0  \n",
      "24691                      9.0  \n",
      "...                        ...  \n",
      "457013                    30.0  \n",
      "458816                     4.0  \n",
      "459635                    21.0  \n",
      "468324                     3.0  \n",
      "477526                     3.0  \n",
      "\n",
      "[121 rows x 6 columns]\n"
     ]
    }
   ],
   "source": [
    "# Basándote en tus hallazgos,\n",
    "# Verifica todos los pedidos que se hicieron el miércoles a las 2:00 a.m.\n",
    "filtered_orders = df_orders[(df_orders['order_dow'] == 3) & (df_orders['order_hour_of_day'] == 2)]\n",
    "print(filtered_orders)"
   ]
  },
  {
   "cell_type": "markdown",
   "id": "vu2OWyoqwOx5",
   "metadata": {
    "id": "vu2OWyoqwOx5"
   },
   "source": [
    "¿Qué sugiere este resultado?\n",
    "Que hay 121 ordenes o pedidos que se hicieron en día miércoles a las 2am. "
   ]
  },
  {
   "cell_type": "code",
   "execution_count": 15,
   "id": "480563c7",
   "metadata": {
    "id": "480563c7"
   },
   "outputs": [
    {
     "name": "stdout",
     "output_type": "stream",
     "text": [
      "        order_id  user_id  order_number  order_dow  order_hour_of_day  \\\n",
      "0        1515936   183418            11          6                 13   \n",
      "1        1690866   163593             5          5                 12   \n",
      "2        1454967    39980             4          5                 19   \n",
      "3        1768857    82516            56          0                 20   \n",
      "4        3007858   196724             2          4                 12   \n",
      "...          ...      ...           ...        ...                ...   \n",
      "478962   3210681     5617             5          1                 14   \n",
      "478963   3270802   112087             2          3                 13   \n",
      "478964    885349    82944            16          2                 11   \n",
      "478965    216274     4391             3          3                  8   \n",
      "478966   2071924     1730            18          1                 14   \n",
      "\n",
      "        days_since_prior_order  \n",
      "0                         30.0  \n",
      "1                          9.0  \n",
      "2                          2.0  \n",
      "3                         10.0  \n",
      "4                         17.0  \n",
      "...                        ...  \n",
      "478962                     7.0  \n",
      "478963                     6.0  \n",
      "478964                     6.0  \n",
      "478965                     8.0  \n",
      "478966                    15.0  \n",
      "\n",
      "[478952 rows x 6 columns]\n"
     ]
    }
   ],
   "source": [
    "# Elimina los pedidos duplicados\n",
    "df_orders.drop_duplicates(inplace=True)\n",
    "print(df_orders)"
   ]
  },
  {
   "cell_type": "code",
   "execution_count": 16,
   "id": "0b2396a2",
   "metadata": {
    "id": "0b2396a2"
   },
   "outputs": [
    {
     "name": "stdout",
     "output_type": "stream",
     "text": [
      "0\n"
     ]
    }
   ],
   "source": [
    "# Vuelve a verificar si hay filas duplicadas\n",
    "print(df_orders.duplicated().sum())"
   ]
  },
  {
   "cell_type": "code",
   "execution_count": 17,
   "id": "f6113ef1",
   "metadata": {
    "id": "f6113ef1"
   },
   "outputs": [
    {
     "name": "stdout",
     "output_type": "stream",
     "text": [
      "0\n"
     ]
    }
   ],
   "source": [
    "# Vuelve a verificar si hay IDs duplicados de pedidos\n",
    "print(df_orders.duplicated(subset='order_id').sum())"
   ]
  },
  {
   "cell_type": "markdown",
   "id": "5e8905ae",
   "metadata": {
    "id": "5e8905ae"
   },
   "source": [
    "Describe brevemente tus hallazgos y lo que hiciste con ellos\n",
    "\n",
    "Se trabajaron de manera adecuada los valores duplicados tanto para onbservarlos como para su eliminación. \n",
    "Se comprobó la eliminación de los mismos con el método duplicated().sum y con el método subset(). De igual forma se comprobó que el ID sea entero en la observación de la información con el método info()."
   ]
  },
  {
   "cell_type": "markdown",
   "id": "45e6bc46",
   "metadata": {
    "id": "45e6bc46"
   },
   "source": [
    "### `products` data frame"
   ]
  },
  {
   "cell_type": "code",
   "execution_count": 18,
   "id": "5f526b5b-8175-46fa-a0fd-441767d50e64",
   "metadata": {
    "id": "5f526b5b-8175-46fa-a0fd-441767d50e64"
   },
   "outputs": [
    {
     "name": "stdout",
     "output_type": "stream",
     "text": [
      "0\n"
     ]
    }
   ],
   "source": [
    "# Verifica si hay filas totalmente duplicadas\n",
    "print(df_products.duplicated().sum())"
   ]
  },
  {
   "cell_type": "code",
   "execution_count": 19,
   "id": "88daa4f4",
   "metadata": {
    "id": "88daa4f4"
   },
   "outputs": [
    {
     "name": "stdout",
     "output_type": "stream",
     "text": [
      "0\n"
     ]
    }
   ],
   "source": [
    "# Verifica si hay IDs duplicadas de productos\n",
    "print(df_products.duplicated(subset='product_id').sum())"
   ]
  },
  {
   "cell_type": "code",
   "execution_count": 20,
   "id": "c773f0bf",
   "metadata": {
    "id": "c773f0bf"
   },
   "outputs": [
    {
     "name": "stdout",
     "output_type": "stream",
     "text": [
      "1257\n"
     ]
    }
   ],
   "source": [
    "# Revisa si hay nombres duplicados de productos (convierte los nombres a letras mayúsculas para compararlos mejor)\n",
    "df_products['product_name'].str.upper()\n",
    "print(df_products.duplicated(subset='product_name').sum())"
   ]
  },
  {
   "cell_type": "code",
   "execution_count": 21,
   "id": "01efd02e",
   "metadata": {
    "id": "01efd02e"
   },
   "outputs": [
    {
     "data": {
      "text/html": [
       "<div>\n",
       "<style scoped>\n",
       "    .dataframe tbody tr th:only-of-type {\n",
       "        vertical-align: middle;\n",
       "    }\n",
       "\n",
       "    .dataframe tbody tr th {\n",
       "        vertical-align: top;\n",
       "    }\n",
       "\n",
       "    .dataframe thead th {\n",
       "        text-align: right;\n",
       "    }\n",
       "</style>\n",
       "<table border=\"1\" class=\"dataframe\">\n",
       "  <thead>\n",
       "    <tr style=\"text-align: right;\">\n",
       "      <th></th>\n",
       "      <th>product_id</th>\n",
       "      <th>product_name</th>\n",
       "      <th>aisle_id</th>\n",
       "      <th>department_id</th>\n",
       "    </tr>\n",
       "  </thead>\n",
       "  <tbody>\n",
       "    <tr>\n",
       "      <th>2058</th>\n",
       "      <td>2059</td>\n",
       "      <td>Biotin 1000 Mcg</td>\n",
       "      <td>47</td>\n",
       "      <td>11</td>\n",
       "    </tr>\n",
       "    <tr>\n",
       "      <th>5455</th>\n",
       "      <td>5456</td>\n",
       "      <td>Green Tea With Ginseng and Honey</td>\n",
       "      <td>96</td>\n",
       "      <td>20</td>\n",
       "    </tr>\n",
       "    <tr>\n",
       "      <th>5558</th>\n",
       "      <td>5559</td>\n",
       "      <td>Cream Of Mushroom Soup</td>\n",
       "      <td>69</td>\n",
       "      <td>15</td>\n",
       "    </tr>\n",
       "    <tr>\n",
       "      <th>7558</th>\n",
       "      <td>7559</td>\n",
       "      <td>Cinnamon Rolls with Icing</td>\n",
       "      <td>105</td>\n",
       "      <td>13</td>\n",
       "    </tr>\n",
       "    <tr>\n",
       "      <th>9037</th>\n",
       "      <td>9038</td>\n",
       "      <td>American Cheese slices</td>\n",
       "      <td>21</td>\n",
       "      <td>16</td>\n",
       "    </tr>\n",
       "    <tr>\n",
       "      <th>...</th>\n",
       "      <td>...</td>\n",
       "      <td>...</td>\n",
       "      <td>...</td>\n",
       "      <td>...</td>\n",
       "    </tr>\n",
       "    <tr>\n",
       "      <th>49689</th>\n",
       "      <td>49690</td>\n",
       "      <td>HIGH PERFORMANCE ENERGY DRINK</td>\n",
       "      <td>64</td>\n",
       "      <td>7</td>\n",
       "    </tr>\n",
       "    <tr>\n",
       "      <th>49690</th>\n",
       "      <td>49691</td>\n",
       "      <td>ORIGINAL PANCAKE &amp; WAFFLE MIX</td>\n",
       "      <td>130</td>\n",
       "      <td>14</td>\n",
       "    </tr>\n",
       "    <tr>\n",
       "      <th>49691</th>\n",
       "      <td>49692</td>\n",
       "      <td>ORGANIC INSTANT OATMEAL LIGHT MAPLE BROWN SUGAR</td>\n",
       "      <td>130</td>\n",
       "      <td>14</td>\n",
       "    </tr>\n",
       "    <tr>\n",
       "      <th>49692</th>\n",
       "      <td>49693</td>\n",
       "      <td>SPRING WATER BODY WASH</td>\n",
       "      <td>127</td>\n",
       "      <td>11</td>\n",
       "    </tr>\n",
       "    <tr>\n",
       "      <th>49693</th>\n",
       "      <td>49694</td>\n",
       "      <td>BURRITO- STEAK &amp; CHEESE</td>\n",
       "      <td>38</td>\n",
       "      <td>1</td>\n",
       "    </tr>\n",
       "  </tbody>\n",
       "</table>\n",
       "<p>104 rows × 4 columns</p>\n",
       "</div>"
      ],
      "text/plain": [
       "       product_id                                     product_name  aisle_id  \\\n",
       "2058         2059                                  Biotin 1000 Mcg        47   \n",
       "5455         5456                 Green Tea With Ginseng and Honey        96   \n",
       "5558         5559                           Cream Of Mushroom Soup        69   \n",
       "7558         7559                        Cinnamon Rolls with Icing       105   \n",
       "9037         9038                           American Cheese slices        21   \n",
       "...           ...                                              ...       ...   \n",
       "49689       49690                    HIGH PERFORMANCE ENERGY DRINK        64   \n",
       "49690       49691                    ORIGINAL PANCAKE & WAFFLE MIX       130   \n",
       "49691       49692  ORGANIC INSTANT OATMEAL LIGHT MAPLE BROWN SUGAR       130   \n",
       "49692       49693                           SPRING WATER BODY WASH       127   \n",
       "49693       49694                          BURRITO- STEAK & CHEESE        38   \n",
       "\n",
       "       department_id  \n",
       "2058              11  \n",
       "5455              20  \n",
       "5558              15  \n",
       "7558              13  \n",
       "9037              16  \n",
       "...              ...  \n",
       "49689              7  \n",
       "49690             14  \n",
       "49691             14  \n",
       "49692             11  \n",
       "49693              1  \n",
       "\n",
       "[104 rows x 4 columns]"
      ]
     },
     "execution_count": 21,
     "metadata": {},
     "output_type": "execute_result"
    }
   ],
   "source": [
    "# Revisa si hay nombres duplicados de productos no faltantes\n",
    "df_products[~(df_products['product_name'].isna())&(df_products['product_name'].str.upper().duplicated())]"
   ]
  },
  {
   "cell_type": "markdown",
   "id": "9da8d293",
   "metadata": {
    "id": "9da8d293"
   },
   "source": [
    "Describe brevemente tus hallazgos y lo que hiciste con ellos.\n",
    "\n",
    "Se encontraron 1257 nombres de productos duplicados y 104 nombres duplicados de productos no faltantes (no nulos). Supongo que esto debe ser común por ejemplo en nuevas ediciones de productos o ediciones limitadas de productos en donde se duplican los nombres, por ejemplo algunos chocolates que de pronto tienen ediciones de doble chocolate pero conservan el mismo lugar en los estantes y los mismos costos, etc."
   ]
  },
  {
   "cell_type": "markdown",
   "id": "60f30db1",
   "metadata": {
    "id": "60f30db1"
   },
   "source": [
    "### `departments` data frame"
   ]
  },
  {
   "cell_type": "code",
   "execution_count": 22,
   "id": "fb410ad4-0fbf-4b80-bb09-23fdea79afe3",
   "metadata": {
    "id": "fb410ad4-0fbf-4b80-bb09-23fdea79afe3"
   },
   "outputs": [
    {
     "name": "stdout",
     "output_type": "stream",
     "text": [
      "0\n"
     ]
    }
   ],
   "source": [
    "# Revisa si hay filas totalmente duplicadas\n",
    "print(df_departments.duplicated().sum())"
   ]
  },
  {
   "cell_type": "code",
   "execution_count": 23,
   "id": "332b12bb",
   "metadata": {
    "id": "332b12bb"
   },
   "outputs": [
    {
     "name": "stdout",
     "output_type": "stream",
     "text": [
      "0\n"
     ]
    }
   ],
   "source": [
    "# Revisa si hay IDs duplicadas de productos\n",
    "print(df_departments.duplicated(subset='department_id').sum())"
   ]
  },
  {
   "cell_type": "markdown",
   "id": "bd30d78e",
   "metadata": {
    "id": "bd30d78e"
   },
   "source": [
    "Describe brevemente tus hallazgos y lo que hiciste con ellos.\n",
    "\n",
    "En este caso no se encontraron filas totalmente duplicadas y tampoco IDs duplicados en productos, creo que esto se debe a que la cantidad de departamentos (21) es pequeña a comparación de otras categorías."
   ]
  },
  {
   "cell_type": "markdown",
   "id": "889349c1",
   "metadata": {
    "id": "889349c1"
   },
   "source": [
    "### `aisles` data frame"
   ]
  },
  {
   "cell_type": "code",
   "execution_count": 24,
   "id": "9da89fb9-4679-40f5-ad0d-c34df753a3f8",
   "metadata": {
    "id": "9da89fb9-4679-40f5-ad0d-c34df753a3f8"
   },
   "outputs": [
    {
     "name": "stdout",
     "output_type": "stream",
     "text": [
      "0\n"
     ]
    }
   ],
   "source": [
    "# Revisa si hay filas totalmente duplicadas\n",
    "print(df_aisles.duplicated().sum())"
   ]
  },
  {
   "cell_type": "code",
   "execution_count": 25,
   "id": "da7c2822",
   "metadata": {
    "id": "da7c2822"
   },
   "outputs": [
    {
     "name": "stdout",
     "output_type": "stream",
     "text": [
      "0\n"
     ]
    }
   ],
   "source": [
    "# Revisa si hay IDs duplicadas de productos\n",
    "print(df_aisles.duplicated(subset='aisle_id').sum())"
   ]
  },
  {
   "cell_type": "markdown",
   "id": "ac63826f",
   "metadata": {
    "id": "ac63826f"
   },
   "source": [
    "Describe brevemente tus hallazgos y lo que hiciste con ellos.\n",
    "\n",
    "En este caso no se encontraron filas totalmente duplicadas y tampoco IDs duplicados en productos. Creo que al igual que en el caso anterior hay una cantidad que no es grande (134) pasillos y esto da menos probabilidades de errores en la captura y ordenamiento de los dataframes."
   ]
  },
  {
   "cell_type": "markdown",
   "id": "274cd06a",
   "metadata": {
    "id": "274cd06a"
   },
   "source": [
    "### `order_products` data frame"
   ]
  },
  {
   "cell_type": "code",
   "execution_count": 26,
   "id": "52326689-84a8-4b8f-a881-7c68780f62c9",
   "metadata": {
    "id": "52326689-84a8-4b8f-a881-7c68780f62c9"
   },
   "outputs": [
    {
     "name": "stdout",
     "output_type": "stream",
     "text": [
      "0\n"
     ]
    }
   ],
   "source": [
    "# Revisa si hay filas totalmente duplicadas\n",
    "print(df_order_products.duplicated().sum())"
   ]
  },
  {
   "cell_type": "code",
   "execution_count": 27,
   "id": "7b861391",
   "metadata": {
    "id": "7b861391"
   },
   "outputs": [
    {
     "name": "stdout",
     "output_type": "stream",
     "text": [
      "0\n"
     ]
    }
   ],
   "source": [
    "# Vuelve a verificar si hay cualquier otro duplicado engañoso\n",
    "print(df_order_products.duplicated(subset=['order_id', 'product_id']).sum())"
   ]
  },
  {
   "cell_type": "markdown",
   "id": "0b890492",
   "metadata": {
    "id": "0b890492"
   },
   "source": [
    "Describe brevemente tus hallazgos y lo que hiciste con ellos.\n",
    "En este caso no se encontraron filas totalmente duplicadas y tampoco algún otro duplicado engañoso, aquí se hizo la prueba con order_id y product_id porque considero que estos son los que podrían haber tenido posibilidad de duplicarse. "
   ]
  },
  {
   "cell_type": "markdown",
   "id": "1e46de76",
   "metadata": {
    "id": "1e46de76"
   },
   "source": [
    "## Encuentra y elimina los valores ausentes\n",
    "\n",
    "Al trabajar con valores duplicados, pudimos observar que también nos falta investigar valores ausentes:\n",
    "\n",
    "* La columna `'product_name'` de la tabla products.\n",
    "* La columna `'days_since_prior_order'` de la tabla orders.\n",
    "* La columna `'add_to_cart_order'` de la tabla order_productos."
   ]
  },
  {
   "cell_type": "markdown",
   "id": "c0aebd78",
   "metadata": {
    "id": "c0aebd78"
   },
   "source": [
    "### `products` data frame"
   ]
  },
  {
   "cell_type": "code",
   "execution_count": 28,
   "id": "fe4a8b0f",
   "metadata": {
    "id": "fe4a8b0f"
   },
   "outputs": [
    {
     "name": "stdout",
     "output_type": "stream",
     "text": [
      "       product_id product_name  aisle_id  department_id\n",
      "37             38          NaN       100             21\n",
      "71             72          NaN       100             21\n",
      "109           110          NaN       100             21\n",
      "296           297          NaN       100             21\n",
      "416           417          NaN       100             21\n",
      "...           ...          ...       ...            ...\n",
      "49552       49553          NaN       100             21\n",
      "49574       49575          NaN       100             21\n",
      "49640       49641          NaN       100             21\n",
      "49663       49664          NaN       100             21\n",
      "49668       49669          NaN       100             21\n",
      "\n",
      "[1258 rows x 4 columns]\n"
     ]
    }
   ],
   "source": [
    "# Encuentra los valores ausentes en la columna 'product_name'\n",
    "missing=df_products[(df_products['product_name'].isna())]\n",
    "print(missing)"
   ]
  },
  {
   "cell_type": "markdown",
   "id": "-A6x1AbJhjkp",
   "metadata": {
    "id": "-A6x1AbJhjkp"
   },
   "source": [
    "Describe brevemente cuáles son tus hallazgos.\n",
    "Se encontraron 1250 valores ausentes y se observa que están en el pasillo 100 del departamento 21, el cuál es el último departamento de la tienda."
   ]
  },
  {
   "cell_type": "code",
   "execution_count": 29,
   "id": "e96167bc",
   "metadata": {
    "id": "e96167bc"
   },
   "outputs": [
    {
     "name": "stdout",
     "output_type": "stream",
     "text": [
      "True\n"
     ]
    }
   ],
   "source": [
    "#  ¿Todos los nombres de productos ausentes están relacionados con el pasillo con ID 100?\n",
    "all_missing= (missing['aisle_id']==100).all()\n",
    "print(all_missing)"
   ]
  },
  {
   "cell_type": "markdown",
   "id": "WRpIfXRphpSL",
   "metadata": {
    "id": "WRpIfXRphpSL"
   },
   "source": [
    "Describe brevemente cuáles son tus hallazgos. \n",
    "Se encontró que efectivamente todos los nombres de productos ausentes están relacionados con el pasillo ID 100 por medio de la comprobación .all()."
   ]
  },
  {
   "cell_type": "code",
   "execution_count": 30,
   "id": "8fd0a541",
   "metadata": {
    "id": "8fd0a541"
   },
   "outputs": [
    {
     "name": "stdout",
     "output_type": "stream",
     "text": [
      "True\n"
     ]
    }
   ],
   "source": [
    "# ¿Todos los nombres de productos ausentes están relacionados con el departamento con ID 21?\n",
    "all_products_names= (missing['department_id']==21).all()\n",
    "print(all_products_names)"
   ]
  },
  {
   "cell_type": "markdown",
   "id": "qDpdYn1Fht_I",
   "metadata": {
    "id": "qDpdYn1Fht_I"
   },
   "source": [
    "Describe brevemente cuáles son tus hallazgos.\n",
    "Se encontró que efectivamente todos los nombres de productos ausentes están relacionados con el departamento ID 21 por medio de la comprobación .all()."
   ]
  },
  {
   "cell_type": "code",
   "execution_count": 31,
   "id": "325c3464",
   "metadata": {
    "id": "325c3464"
   },
   "outputs": [
    {
     "name": "stdout",
     "output_type": "stream",
     "text": [
      "product_id       1258\n",
      "product_name        0\n",
      "aisle_id         1258\n",
      "department_id    1258\n",
      "dtype: int64\n",
      "\n",
      "product_id       1258\n",
      "product_name        0\n",
      "aisle_id         1258\n",
      "department_id    1258\n",
      "dtype: int64\n"
     ]
    }
   ],
   "source": [
    "# Usa las tablas department y aisle para revisar los datos del pasillo con ID 100 y el departamento con ID 21.\n",
    "aisle_100 = df_products[df_products['aisle_id'] ==100].count()\n",
    "print(aisle_100)\n",
    "print()\n",
    "department_21=df_products[df_products['department_id']==21].count()\n",
    "print(department_21)"
   ]
  },
  {
   "cell_type": "markdown",
   "id": "nqhSTUPhhvEJ",
   "metadata": {
    "id": "nqhSTUPhhvEJ"
   },
   "source": [
    "Describe brevemente cuáles son tus hallazgos.\n",
    "\n",
    "Se comprobó por medio de las tablas la información encontrada en los dos pasos anteriores ya que se contaron los valores ausentes que como resultado fueron 1258."
   ]
  },
  {
   "cell_type": "code",
   "execution_count": 32,
   "id": "6b295120",
   "metadata": {
    "id": "6b295120"
   },
   "outputs": [
    {
     "data": {
      "text/plain": [
       "np.int64(0)"
      ]
     },
     "execution_count": 32,
     "metadata": {},
     "output_type": "execute_result"
    }
   ],
   "source": [
    "# Completa los nombres de productos ausentes con 'Unknown'\n",
    "df_products['product_name']=df_products['product_name'].fillna(value='Unknown')\n",
    "df_products['product_name'].isna().sum()"
   ]
  },
  {
   "cell_type": "code",
   "execution_count": 33,
   "id": "fa9b64fa",
   "metadata": {},
   "outputs": [
    {
     "data": {
      "text/html": [
       "<div>\n",
       "<style scoped>\n",
       "    .dataframe tbody tr th:only-of-type {\n",
       "        vertical-align: middle;\n",
       "    }\n",
       "\n",
       "    .dataframe tbody tr th {\n",
       "        vertical-align: top;\n",
       "    }\n",
       "\n",
       "    .dataframe thead th {\n",
       "        text-align: right;\n",
       "    }\n",
       "</style>\n",
       "<table border=\"1\" class=\"dataframe\">\n",
       "  <thead>\n",
       "    <tr style=\"text-align: right;\">\n",
       "      <th></th>\n",
       "      <th>product_id</th>\n",
       "      <th>product_name</th>\n",
       "      <th>aisle_id</th>\n",
       "      <th>department_id</th>\n",
       "    </tr>\n",
       "  </thead>\n",
       "  <tbody>\n",
       "    <tr>\n",
       "      <th>37</th>\n",
       "      <td>38</td>\n",
       "      <td>Unknown</td>\n",
       "      <td>100</td>\n",
       "      <td>21</td>\n",
       "    </tr>\n",
       "  </tbody>\n",
       "</table>\n",
       "</div>"
      ],
      "text/plain": [
       "    product_id product_name  aisle_id  department_id\n",
       "37          38      Unknown       100             21"
      ]
     },
     "execution_count": 33,
     "metadata": {},
     "output_type": "execute_result"
    }
   ],
   "source": [
    "#Comprobación de haber completado los nombres\n",
    "df_products[df_products['product_id']==38]"
   ]
  },
  {
   "cell_type": "markdown",
   "id": "fc70e5ad",
   "metadata": {
    "id": "fc70e5ad"
   },
   "source": [
    "Describe brevemente tus hallazgos y lo que hiciste con ellos.\n",
    "\n",
    "Se completaron los productos ausentes con el metodo fillna y posteriormente se hizo la comprobación con el producto con el id=38 para visualizar que el nombre ahora es Unknown."
   ]
  },
  {
   "cell_type": "markdown",
   "id": "7eb45c86",
   "metadata": {
    "id": "7eb45c86"
   },
   "source": [
    "### `orders` data frame"
   ]
  },
  {
   "cell_type": "code",
   "execution_count": 34,
   "id": "93e41d96",
   "metadata": {
    "id": "93e41d96"
   },
   "outputs": [
    {
     "data": {
      "text/html": [
       "<div>\n",
       "<style scoped>\n",
       "    .dataframe tbody tr th:only-of-type {\n",
       "        vertical-align: middle;\n",
       "    }\n",
       "\n",
       "    .dataframe tbody tr th {\n",
       "        vertical-align: top;\n",
       "    }\n",
       "\n",
       "    .dataframe thead th {\n",
       "        text-align: right;\n",
       "    }\n",
       "</style>\n",
       "<table border=\"1\" class=\"dataframe\">\n",
       "  <thead>\n",
       "    <tr style=\"text-align: right;\">\n",
       "      <th></th>\n",
       "      <th>order_id</th>\n",
       "      <th>user_id</th>\n",
       "      <th>order_number</th>\n",
       "      <th>order_dow</th>\n",
       "      <th>order_hour_of_day</th>\n",
       "      <th>days_since_prior_order</th>\n",
       "    </tr>\n",
       "  </thead>\n",
       "  <tbody>\n",
       "    <tr>\n",
       "      <th>28</th>\n",
       "      <td>133707</td>\n",
       "      <td>182261</td>\n",
       "      <td>1</td>\n",
       "      <td>3</td>\n",
       "      <td>10</td>\n",
       "      <td>NaN</td>\n",
       "    </tr>\n",
       "    <tr>\n",
       "      <th>96</th>\n",
       "      <td>787445</td>\n",
       "      <td>25685</td>\n",
       "      <td>1</td>\n",
       "      <td>6</td>\n",
       "      <td>18</td>\n",
       "      <td>NaN</td>\n",
       "    </tr>\n",
       "    <tr>\n",
       "      <th>100</th>\n",
       "      <td>294410</td>\n",
       "      <td>111449</td>\n",
       "      <td>1</td>\n",
       "      <td>0</td>\n",
       "      <td>19</td>\n",
       "      <td>NaN</td>\n",
       "    </tr>\n",
       "    <tr>\n",
       "      <th>103</th>\n",
       "      <td>2869915</td>\n",
       "      <td>123958</td>\n",
       "      <td>1</td>\n",
       "      <td>4</td>\n",
       "      <td>16</td>\n",
       "      <td>NaN</td>\n",
       "    </tr>\n",
       "    <tr>\n",
       "      <th>104</th>\n",
       "      <td>2521921</td>\n",
       "      <td>42286</td>\n",
       "      <td>1</td>\n",
       "      <td>3</td>\n",
       "      <td>18</td>\n",
       "      <td>NaN</td>\n",
       "    </tr>\n",
       "    <tr>\n",
       "      <th>...</th>\n",
       "      <td>...</td>\n",
       "      <td>...</td>\n",
       "      <td>...</td>\n",
       "      <td>...</td>\n",
       "      <td>...</td>\n",
       "      <td>...</td>\n",
       "    </tr>\n",
       "    <tr>\n",
       "      <th>478895</th>\n",
       "      <td>2589657</td>\n",
       "      <td>205028</td>\n",
       "      <td>1</td>\n",
       "      <td>0</td>\n",
       "      <td>16</td>\n",
       "      <td>NaN</td>\n",
       "    </tr>\n",
       "    <tr>\n",
       "      <th>478896</th>\n",
       "      <td>2222353</td>\n",
       "      <td>141211</td>\n",
       "      <td>1</td>\n",
       "      <td>2</td>\n",
       "      <td>13</td>\n",
       "      <td>NaN</td>\n",
       "    </tr>\n",
       "    <tr>\n",
       "      <th>478922</th>\n",
       "      <td>2272807</td>\n",
       "      <td>204154</td>\n",
       "      <td>1</td>\n",
       "      <td>1</td>\n",
       "      <td>15</td>\n",
       "      <td>NaN</td>\n",
       "    </tr>\n",
       "    <tr>\n",
       "      <th>478926</th>\n",
       "      <td>2499542</td>\n",
       "      <td>68810</td>\n",
       "      <td>1</td>\n",
       "      <td>4</td>\n",
       "      <td>19</td>\n",
       "      <td>NaN</td>\n",
       "    </tr>\n",
       "    <tr>\n",
       "      <th>478945</th>\n",
       "      <td>1387033</td>\n",
       "      <td>22496</td>\n",
       "      <td>1</td>\n",
       "      <td>5</td>\n",
       "      <td>14</td>\n",
       "      <td>NaN</td>\n",
       "    </tr>\n",
       "  </tbody>\n",
       "</table>\n",
       "<p>28817 rows × 6 columns</p>\n",
       "</div>"
      ],
      "text/plain": [
       "        order_id  user_id  order_number  order_dow  order_hour_of_day  \\\n",
       "28        133707   182261             1          3                 10   \n",
       "96        787445    25685             1          6                 18   \n",
       "100       294410   111449             1          0                 19   \n",
       "103      2869915   123958             1          4                 16   \n",
       "104      2521921    42286             1          3                 18   \n",
       "...          ...      ...           ...        ...                ...   \n",
       "478895   2589657   205028             1          0                 16   \n",
       "478896   2222353   141211             1          2                 13   \n",
       "478922   2272807   204154             1          1                 15   \n",
       "478926   2499542    68810             1          4                 19   \n",
       "478945   1387033    22496             1          5                 14   \n",
       "\n",
       "        days_since_prior_order  \n",
       "28                         NaN  \n",
       "96                         NaN  \n",
       "100                        NaN  \n",
       "103                        NaN  \n",
       "104                        NaN  \n",
       "...                        ...  \n",
       "478895                     NaN  \n",
       "478896                     NaN  \n",
       "478922                     NaN  \n",
       "478926                     NaN  \n",
       "478945                     NaN  \n",
       "\n",
       "[28817 rows x 6 columns]"
      ]
     },
     "execution_count": 34,
     "metadata": {},
     "output_type": "execute_result"
    }
   ],
   "source": [
    "# Encuentra los valores ausentes\n",
    "df_orders[df_orders['days_since_prior_order'].isna()]"
   ]
  },
  {
   "cell_type": "code",
   "execution_count": 35,
   "id": "166e5a86",
   "metadata": {
    "id": "166e5a86"
   },
   "outputs": [
    {
     "data": {
      "text/html": [
       "<div>\n",
       "<style scoped>\n",
       "    .dataframe tbody tr th:only-of-type {\n",
       "        vertical-align: middle;\n",
       "    }\n",
       "\n",
       "    .dataframe tbody tr th {\n",
       "        vertical-align: top;\n",
       "    }\n",
       "\n",
       "    .dataframe thead th {\n",
       "        text-align: right;\n",
       "    }\n",
       "</style>\n",
       "<table border=\"1\" class=\"dataframe\">\n",
       "  <thead>\n",
       "    <tr style=\"text-align: right;\">\n",
       "      <th></th>\n",
       "      <th>order_id</th>\n",
       "      <th>user_id</th>\n",
       "      <th>order_number</th>\n",
       "      <th>order_dow</th>\n",
       "      <th>order_hour_of_day</th>\n",
       "      <th>days_since_prior_order</th>\n",
       "    </tr>\n",
       "  </thead>\n",
       "  <tbody>\n",
       "  </tbody>\n",
       "</table>\n",
       "</div>"
      ],
      "text/plain": [
       "Empty DataFrame\n",
       "Columns: [order_id, user_id, order_number, order_dow, order_hour_of_day, days_since_prior_order]\n",
       "Index: []"
      ]
     },
     "execution_count": 35,
     "metadata": {},
     "output_type": "execute_result"
    }
   ],
   "source": [
    "# ¿Hay algún valor ausente que no sea el primer pedido del cliente?\n",
    "\n",
    "df_orders[(df_orders['days_since_prior_order'].isna())&(df_orders['order_number']!=1)]"
   ]
  },
  {
   "cell_type": "markdown",
   "id": "4e23d089",
   "metadata": {
    "id": "4e23d089"
   },
   "source": [
    "Describe brevemente tus hallazgos y lo que hiciste con ellos.\n",
    "Se encontraron 28817 valores ausentes en la columna days_since_prior_order.\n",
    "Se comprobó que todos estos valores son en el primer pedido del cliente y esto se debe a que al ser el primero, no existe algún dato para asignar en esa columna."
   ]
  },
  {
   "cell_type": "markdown",
   "id": "69dc9ca4",
   "metadata": {
    "id": "69dc9ca4"
   },
   "source": [
    "### `order_products` data frame"
   ]
  },
  {
   "cell_type": "code",
   "execution_count": 36,
   "id": "b8240253",
   "metadata": {
    "id": "b8240253"
   },
   "outputs": [
    {
     "data": {
      "text/html": [
       "<div>\n",
       "<style scoped>\n",
       "    .dataframe tbody tr th:only-of-type {\n",
       "        vertical-align: middle;\n",
       "    }\n",
       "\n",
       "    .dataframe tbody tr th {\n",
       "        vertical-align: top;\n",
       "    }\n",
       "\n",
       "    .dataframe thead th {\n",
       "        text-align: right;\n",
       "    }\n",
       "</style>\n",
       "<table border=\"1\" class=\"dataframe\">\n",
       "  <thead>\n",
       "    <tr style=\"text-align: right;\">\n",
       "      <th></th>\n",
       "      <th>order_id</th>\n",
       "      <th>product_id</th>\n",
       "      <th>add_to_cart_order</th>\n",
       "      <th>reordered</th>\n",
       "    </tr>\n",
       "  </thead>\n",
       "  <tbody>\n",
       "    <tr>\n",
       "      <th>737</th>\n",
       "      <td>2449164</td>\n",
       "      <td>5068</td>\n",
       "      <td>NaN</td>\n",
       "      <td>0</td>\n",
       "    </tr>\n",
       "    <tr>\n",
       "      <th>9926</th>\n",
       "      <td>1968313</td>\n",
       "      <td>43867</td>\n",
       "      <td>NaN</td>\n",
       "      <td>0</td>\n",
       "    </tr>\n",
       "    <tr>\n",
       "      <th>14394</th>\n",
       "      <td>2926893</td>\n",
       "      <td>11688</td>\n",
       "      <td>NaN</td>\n",
       "      <td>0</td>\n",
       "    </tr>\n",
       "    <tr>\n",
       "      <th>16418</th>\n",
       "      <td>1717990</td>\n",
       "      <td>4142</td>\n",
       "      <td>NaN</td>\n",
       "      <td>0</td>\n",
       "    </tr>\n",
       "    <tr>\n",
       "      <th>30114</th>\n",
       "      <td>1959075</td>\n",
       "      <td>42828</td>\n",
       "      <td>NaN</td>\n",
       "      <td>1</td>\n",
       "    </tr>\n",
       "    <tr>\n",
       "      <th>...</th>\n",
       "      <td>...</td>\n",
       "      <td>...</td>\n",
       "      <td>...</td>\n",
       "      <td>...</td>\n",
       "    </tr>\n",
       "    <tr>\n",
       "      <th>4505662</th>\n",
       "      <td>1800005</td>\n",
       "      <td>7411</td>\n",
       "      <td>NaN</td>\n",
       "      <td>0</td>\n",
       "    </tr>\n",
       "    <tr>\n",
       "      <th>4511400</th>\n",
       "      <td>1633337</td>\n",
       "      <td>260</td>\n",
       "      <td>NaN</td>\n",
       "      <td>0</td>\n",
       "    </tr>\n",
       "    <tr>\n",
       "      <th>4517562</th>\n",
       "      <td>404157</td>\n",
       "      <td>9517</td>\n",
       "      <td>NaN</td>\n",
       "      <td>0</td>\n",
       "    </tr>\n",
       "    <tr>\n",
       "      <th>4534112</th>\n",
       "      <td>1673227</td>\n",
       "      <td>17835</td>\n",
       "      <td>NaN</td>\n",
       "      <td>0</td>\n",
       "    </tr>\n",
       "    <tr>\n",
       "      <th>4535739</th>\n",
       "      <td>1832957</td>\n",
       "      <td>17949</td>\n",
       "      <td>NaN</td>\n",
       "      <td>1</td>\n",
       "    </tr>\n",
       "  </tbody>\n",
       "</table>\n",
       "<p>836 rows × 4 columns</p>\n",
       "</div>"
      ],
      "text/plain": [
       "         order_id  product_id  add_to_cart_order  reordered\n",
       "737       2449164        5068                NaN          0\n",
       "9926      1968313       43867                NaN          0\n",
       "14394     2926893       11688                NaN          0\n",
       "16418     1717990        4142                NaN          0\n",
       "30114     1959075       42828                NaN          1\n",
       "...           ...         ...                ...        ...\n",
       "4505662   1800005        7411                NaN          0\n",
       "4511400   1633337         260                NaN          0\n",
       "4517562    404157        9517                NaN          0\n",
       "4534112   1673227       17835                NaN          0\n",
       "4535739   1832957       17949                NaN          1\n",
       "\n",
       "[836 rows x 4 columns]"
      ]
     },
     "execution_count": 36,
     "metadata": {},
     "output_type": "execute_result"
    }
   ],
   "source": [
    "# Encuentra los valores ausentes\n",
    "df_order_products[df_order_products['add_to_cart_order'].isna()]\n"
   ]
  },
  {
   "cell_type": "code",
   "execution_count": 37,
   "id": "9a78e5ee",
   "metadata": {
    "id": "9a78e5ee"
   },
   "outputs": [
    {
     "name": "stdout",
     "output_type": "stream",
     "text": [
      "El valor mínimo es: 1.0\n",
      "El valor máximo es: 64.0\n"
     ]
    }
   ],
   "source": [
    "# ¿Cuáles son los valores mínimos y máximos en esta columna?\n",
    "print('El valor mínimo es:', df_order_products['add_to_cart_order'].min())\n",
    "print('El valor máximo es:', df_order_products['add_to_cart_order'].max())"
   ]
  },
  {
   "cell_type": "markdown",
   "id": "-Z2Ja215jW78",
   "metadata": {
    "id": "-Z2Ja215jW78"
   },
   "source": [
    "Describe brevemente cuáles son tus hallazgos.\n",
    "Se encontraron 836 valores ausentes en add_to_cart_order y se observa que el valor mínimo es 1 y el máximo es 64."
   ]
  },
  {
   "cell_type": "code",
   "execution_count": 38,
   "id": "ab9d0c2b",
   "metadata": {
    "id": "ab9d0c2b"
   },
   "outputs": [
    {
     "data": {
      "text/plain": [
       "[2449164,\n",
       " 1968313,\n",
       " 2926893,\n",
       " 1717990,\n",
       " 1959075,\n",
       " 844733,\n",
       " 61355,\n",
       " 936852,\n",
       " 264710,\n",
       " 1717990,\n",
       " 1564093,\n",
       " 129627,\n",
       " 264710,\n",
       " 293169,\n",
       " 2849370,\n",
       " 1386261,\n",
       " 3308010,\n",
       " 903110,\n",
       " 2136777,\n",
       " 3347453,\n",
       " 1888628,\n",
       " 165801,\n",
       " 2449164,\n",
       " 2094761,\n",
       " 3347453,\n",
       " 1038146,\n",
       " 2136777,\n",
       " 2997021,\n",
       " 844733,\n",
       " 844733,\n",
       " 2136777,\n",
       " 813364,\n",
       " 165801,\n",
       " 2256933,\n",
       " 171934,\n",
       " 264710,\n",
       " 2449164,\n",
       " 2409109,\n",
       " 3347453,\n",
       " 813364,\n",
       " 2926893,\n",
       " 936852,\n",
       " 1730767,\n",
       " 1169835,\n",
       " 733526,\n",
       " 844733,\n",
       " 293169,\n",
       " 61355,\n",
       " 903110,\n",
       " 1968313,\n",
       " 733526,\n",
       " 2136777,\n",
       " 2926893,\n",
       " 404157,\n",
       " 1386261,\n",
       " 171934,\n",
       " 3125735,\n",
       " 747668,\n",
       " 3308010,\n",
       " 1169835,\n",
       " 1800005,\n",
       " 1961723,\n",
       " 936852,\n",
       " 2849370,\n",
       " 3308010,\n",
       " 61355,\n",
       " 871281,\n",
       " 1717990,\n",
       " 813364,\n",
       " 388234,\n",
       " 61355,\n",
       " 3125735,\n",
       " 1959075,\n",
       " 61355,\n",
       " 3125735,\n",
       " 1648217,\n",
       " 171934,\n",
       " 3125735,\n",
       " 61355,\n",
       " 1477139,\n",
       " 1959075,\n",
       " 1717990,\n",
       " 1717990,\n",
       " 61355,\n",
       " 1717990,\n",
       " 171934,\n",
       " 1038146,\n",
       " 3308010,\n",
       " 3347453,\n",
       " 102236,\n",
       " 936852,\n",
       " 171934,\n",
       " 1730767,\n",
       " 2926893,\n",
       " 1021563,\n",
       " 1832957,\n",
       " 1959075,\n",
       " 2256933,\n",
       " 1968313,\n",
       " 2721963,\n",
       " 293169,\n",
       " 102236,\n",
       " 3125735,\n",
       " 1959075,\n",
       " 264710,\n",
       " 678116,\n",
       " 1220886,\n",
       " 1386261,\n",
       " 171934,\n",
       " 1959075,\n",
       " 61355,\n",
       " 3308010,\n",
       " 61355,\n",
       " 102236,\n",
       " 388234,\n",
       " 171934,\n",
       " 3308010,\n",
       " 1961723,\n",
       " 2721963,\n",
       " 3308010,\n",
       " 1564093,\n",
       " 264710,\n",
       " 404157,\n",
       " 1673227,\n",
       " 813364,\n",
       " 2094761,\n",
       " 844733,\n",
       " 1386261,\n",
       " 1959075,\n",
       " 3125735,\n",
       " 61355,\n",
       " 102236,\n",
       " 3308010,\n",
       " 1386261,\n",
       " 936852,\n",
       " 2999801,\n",
       " 1038146,\n",
       " 1888628,\n",
       " 813364,\n",
       " 1800005,\n",
       " 1968313,\n",
       " 3308010,\n",
       " 2449164,\n",
       " 388234,\n",
       " 3125735,\n",
       " 102236,\n",
       " 903110,\n",
       " 1832957,\n",
       " 102236,\n",
       " 3308010,\n",
       " 2926893,\n",
       " 388234,\n",
       " 1800005,\n",
       " 2094761,\n",
       " 2721963,\n",
       " 844733,\n",
       " 2136777,\n",
       " 2926893,\n",
       " 813364,\n",
       " 2136777,\n",
       " 1673227,\n",
       " 1633337,\n",
       " 1021563,\n",
       " 102236,\n",
       " 1800005,\n",
       " 1477139,\n",
       " 2470674,\n",
       " 1220886,\n",
       " 2470674,\n",
       " 1648217,\n",
       " 264710,\n",
       " 1832957,\n",
       " 2721963,\n",
       " 2849370,\n",
       " 2625444,\n",
       " 871281,\n",
       " 1717990,\n",
       " 1220886,\n",
       " 1677118,\n",
       " 1730767,\n",
       " 1730767,\n",
       " 678116,\n",
       " 102236,\n",
       " 2136777,\n",
       " 61355,\n",
       " 2136777,\n",
       " 903110,\n",
       " 844733,\n",
       " 2849370,\n",
       " 1832957,\n",
       " 1730767,\n",
       " 2479011,\n",
       " 3383594,\n",
       " 61355,\n",
       " 1832957,\n",
       " 1021563,\n",
       " 1021563,\n",
       " 1959075,\n",
       " 1832957,\n",
       " 813364,\n",
       " 61355,\n",
       " 61355,\n",
       " 2926893,\n",
       " 1959075,\n",
       " 1648217,\n",
       " 2136777,\n",
       " 264710,\n",
       " 1800005,\n",
       " 2094761,\n",
       " 2926893,\n",
       " 1959075,\n",
       " 264710,\n",
       " 61355,\n",
       " 3308010,\n",
       " 2256933,\n",
       " 936852,\n",
       " 3308010,\n",
       " 1038146,\n",
       " 1183255,\n",
       " 2256933,\n",
       " 1832957,\n",
       " 1386261,\n",
       " 1713430,\n",
       " 1730767,\n",
       " 2136777,\n",
       " 3308010,\n",
       " 1717990,\n",
       " 171934,\n",
       " 1968313,\n",
       " 1717990,\n",
       " 2136777,\n",
       " 1648217,\n",
       " 1968313,\n",
       " 2652650,\n",
       " 733526,\n",
       " 1673227,\n",
       " 2849370,\n",
       " 61355,\n",
       " 3308010,\n",
       " 1169835,\n",
       " 3308010,\n",
       " 171934,\n",
       " 2999801,\n",
       " 1717990,\n",
       " 1386261,\n",
       " 936852,\n",
       " 1968313,\n",
       " 1713430,\n",
       " 1800005,\n",
       " 2136777,\n",
       " 264710,\n",
       " 264710,\n",
       " 2926893,\n",
       " 165801,\n",
       " 1598369,\n",
       " 2997021,\n",
       " 1730767,\n",
       " 61355,\n",
       " 1916118,\n",
       " 1730767,\n",
       " 3308010,\n",
       " 2479011,\n",
       " 2449164,\n",
       " 61355,\n",
       " 3125735,\n",
       " 2094761,\n",
       " 1888628,\n",
       " 3125735,\n",
       " 264710,\n",
       " 171934,\n",
       " 1800005,\n",
       " 1038146,\n",
       " 1959075,\n",
       " 102236,\n",
       " 3308010,\n",
       " 1386261,\n",
       " 1800005,\n",
       " 2470674,\n",
       " 2926893,\n",
       " 2470674,\n",
       " 102236,\n",
       " 3308010,\n",
       " 1717990,\n",
       " 903110,\n",
       " 2997021,\n",
       " 129627,\n",
       " 3383594,\n",
       " 3308010,\n",
       " 1386261,\n",
       " 854647,\n",
       " 102236,\n",
       " 1038146,\n",
       " 3308010,\n",
       " 936852,\n",
       " 264710,\n",
       " 264710,\n",
       " 1800005,\n",
       " 61355,\n",
       " 1220886,\n",
       " 2136777,\n",
       " 293169,\n",
       " 1800005,\n",
       " 1888628,\n",
       " 813364,\n",
       " 2136777,\n",
       " 61355,\n",
       " 1730767,\n",
       " 1021563,\n",
       " 2721963,\n",
       " 1730767,\n",
       " 1564093,\n",
       " 3308010,\n",
       " 2849370,\n",
       " 3308010,\n",
       " 1302315,\n",
       " 1888628,\n",
       " 61355,\n",
       " 1959075,\n",
       " 61355,\n",
       " 2136777,\n",
       " 733526,\n",
       " 3308010,\n",
       " 1730767,\n",
       " 1183255,\n",
       " 264710,\n",
       " 1730767,\n",
       " 678116,\n",
       " 2721963,\n",
       " 2136777,\n",
       " 3308010,\n",
       " 2721963,\n",
       " 2409109,\n",
       " 871281,\n",
       " 171934,\n",
       " 678116,\n",
       " 2849370,\n",
       " 813364,\n",
       " 3125735,\n",
       " 1730767,\n",
       " 61355,\n",
       " 2999801,\n",
       " 1648217,\n",
       " 936852,\n",
       " 3125735,\n",
       " 61355,\n",
       " 2849370,\n",
       " 1220886,\n",
       " 1959075,\n",
       " 2256933,\n",
       " 171934,\n",
       " 2926893,\n",
       " 2926893,\n",
       " 404157,\n",
       " 2136777,\n",
       " 3308010,\n",
       " 1021563,\n",
       " 404157,\n",
       " 171934,\n",
       " 61355,\n",
       " 2094761,\n",
       " 1832957,\n",
       " 293169,\n",
       " 813364,\n",
       " 293169,\n",
       " 3125735,\n",
       " 1021563,\n",
       " 1800005,\n",
       " 3308010,\n",
       " 936852,\n",
       " 264710,\n",
       " 171934,\n",
       " 888470,\n",
       " 1673227,\n",
       " 871281,\n",
       " 1800005,\n",
       " 3308010,\n",
       " 1730767,\n",
       " 180546,\n",
       " 2621907,\n",
       " 1730767,\n",
       " 936852,\n",
       " 1959075,\n",
       " 1169835,\n",
       " 1730767,\n",
       " 2926893,\n",
       " 854647,\n",
       " 2449164,\n",
       " 3308010,\n",
       " 2470674,\n",
       " 1183255,\n",
       " 61355,\n",
       " 1386261,\n",
       " 903110,\n",
       " 2094761,\n",
       " 903110,\n",
       " 264710,\n",
       " 1648217,\n",
       " 293169,\n",
       " 2479011,\n",
       " 1730767,\n",
       " 1730767,\n",
       " 2926893,\n",
       " 61355,\n",
       " 3125735,\n",
       " 1959075,\n",
       " 2409109,\n",
       " 2926893,\n",
       " 1021563,\n",
       " 1386261,\n",
       " 3308010,\n",
       " 2926893,\n",
       " 1800005,\n",
       " 61355,\n",
       " 2449164,\n",
       " 102236,\n",
       " 3308010,\n",
       " 1308785,\n",
       " 1800005,\n",
       " 2926893,\n",
       " 61355,\n",
       " 2136777,\n",
       " 1717990,\n",
       " 3308010,\n",
       " 1730767,\n",
       " 871281,\n",
       " 1673227,\n",
       " 102236,\n",
       " 2136777,\n",
       " 1717990,\n",
       " 813364,\n",
       " 1800005,\n",
       " 1959075,\n",
       " 813364,\n",
       " 165801,\n",
       " 2136777,\n",
       " 2729254,\n",
       " 1673227,\n",
       " 1961723,\n",
       " 61355,\n",
       " 1183255,\n",
       " 2136777,\n",
       " 1302315,\n",
       " 1386261,\n",
       " 2849370,\n",
       " 171934,\n",
       " 2136777,\n",
       " 3308010,\n",
       " 733526,\n",
       " 1959075,\n",
       " 9310,\n",
       " 813364,\n",
       " 2170451,\n",
       " 1800005,\n",
       " 404157,\n",
       " 871281,\n",
       " 3125735,\n",
       " 2721963,\n",
       " 404157,\n",
       " 129627,\n",
       " 678116,\n",
       " 2926893,\n",
       " 264710,\n",
       " 2256933,\n",
       " 102236,\n",
       " 102236,\n",
       " 1021563,\n",
       " 264710,\n",
       " 2926893,\n",
       " 936852,\n",
       " 102236,\n",
       " 1968313,\n",
       " 936852,\n",
       " 293169,\n",
       " 2136777,\n",
       " 2136777,\n",
       " 61355,\n",
       " 1183255,\n",
       " 1730767,\n",
       " 1800005,\n",
       " 2479011,\n",
       " 1386261,\n",
       " 1800005,\n",
       " 1673227,\n",
       " 3308010,\n",
       " 2926893,\n",
       " 2926893,\n",
       " 61355,\n",
       " 1832957,\n",
       " 1717990,\n",
       " 813364,\n",
       " 2999801,\n",
       " 264710,\n",
       " 3308010,\n",
       " 3347453,\n",
       " 3308010,\n",
       " 936852,\n",
       " 813364,\n",
       " 404157,\n",
       " 171934,\n",
       " 903110,\n",
       " 871281,\n",
       " 102236,\n",
       " 61355,\n",
       " 813364,\n",
       " 102236,\n",
       " 3308010,\n",
       " 1800005,\n",
       " 1832957,\n",
       " 2479011,\n",
       " 171934,\n",
       " 171934,\n",
       " 844733,\n",
       " 3308010,\n",
       " 171934,\n",
       " 1800005,\n",
       " 404157,\n",
       " 1673227,\n",
       " 3383594,\n",
       " 3308010,\n",
       " 2136777,\n",
       " 102236,\n",
       " 1717990,\n",
       " 2094761,\n",
       " 102236,\n",
       " 1959075,\n",
       " 171934,\n",
       " 2136777,\n",
       " 1386261,\n",
       " 2136777,\n",
       " 2449164,\n",
       " 171934,\n",
       " 3308010,\n",
       " 1220886,\n",
       " 2136777,\n",
       " 1959075,\n",
       " 2136777,\n",
       " 171934,\n",
       " 936852,\n",
       " 3308010,\n",
       " 2470674,\n",
       " 871281,\n",
       " 2721963,\n",
       " 102236,\n",
       " 61355,\n",
       " 3125735,\n",
       " 3308010,\n",
       " 1386261,\n",
       " 1717990,\n",
       " 293169,\n",
       " 61355,\n",
       " 1386261,\n",
       " 2721963,\n",
       " 2136777,\n",
       " 1888628,\n",
       " 264710,\n",
       " 1564093,\n",
       " 2136777,\n",
       " 1730767,\n",
       " 2849370,\n",
       " 2721963,\n",
       " 293169,\n",
       " 264710,\n",
       " 2721963,\n",
       " 3125735,\n",
       " 1959075,\n",
       " 404157,\n",
       " 171934,\n",
       " 61355,\n",
       " 1959075,\n",
       " 871281,\n",
       " 61355,\n",
       " 1183255,\n",
       " 1673227,\n",
       " 2849370,\n",
       " 1477139,\n",
       " 1730767,\n",
       " 903110,\n",
       " 844733,\n",
       " 3308010,\n",
       " 1673227,\n",
       " 61355,\n",
       " 171934,\n",
       " 2926893,\n",
       " 2926893,\n",
       " 1959075,\n",
       " 2479011,\n",
       " 3347453,\n",
       " 2721963,\n",
       " 2625444,\n",
       " 171934,\n",
       " 813364,\n",
       " 102236,\n",
       " 61355,\n",
       " 844733,\n",
       " 2721963,\n",
       " 1302315,\n",
       " 813364,\n",
       " 61355,\n",
       " 2926893,\n",
       " 1968313,\n",
       " 1968313,\n",
       " 264710,\n",
       " 1717990,\n",
       " 1730767,\n",
       " 2136777,\n",
       " 2721963,\n",
       " 2136777,\n",
       " 2721963,\n",
       " 171934,\n",
       " 171934,\n",
       " 2979697,\n",
       " 1730767,\n",
       " 1888628,\n",
       " 1625713,\n",
       " 2136777,\n",
       " 1800005,\n",
       " 2094761,\n",
       " 1961723,\n",
       " 1564093,\n",
       " 1959075,\n",
       " 1916118,\n",
       " 61355,\n",
       " 2997021,\n",
       " 293169,\n",
       " 3308010,\n",
       " 1529171,\n",
       " 61355,\n",
       " 2256933,\n",
       " 1959075,\n",
       " 2449164,\n",
       " 1673227,\n",
       " 2479011,\n",
       " 1888628,\n",
       " 1800005,\n",
       " 2470674,\n",
       " 1386261,\n",
       " 3125735,\n",
       " 2721963,\n",
       " 2926893,\n",
       " 1800005,\n",
       " 1386261,\n",
       " 2136777,\n",
       " 61355,\n",
       " 171934,\n",
       " 3308010,\n",
       " 61355,\n",
       " 936852,\n",
       " 61355,\n",
       " 936852,\n",
       " 293169,\n",
       " 1386261,\n",
       " 171934,\n",
       " 1800005,\n",
       " 871281,\n",
       " 3125735,\n",
       " 61355,\n",
       " 1959075,\n",
       " 1968313,\n",
       " 1717990,\n",
       " 3308010,\n",
       " 844733,\n",
       " 129627,\n",
       " 844733,\n",
       " 264710,\n",
       " 165801,\n",
       " 1386261,\n",
       " 2136777,\n",
       " 2721963,\n",
       " 1730767,\n",
       " 3125735,\n",
       " 2136777,\n",
       " 1183255,\n",
       " 171934,\n",
       " 936852,\n",
       " 854647,\n",
       " 1386261,\n",
       " 2926893,\n",
       " 1961723,\n",
       " 61355,\n",
       " 1730767,\n",
       " 1633337,\n",
       " 61355,\n",
       " 1959075,\n",
       " 102236,\n",
       " 404157,\n",
       " 1968313,\n",
       " 1386261,\n",
       " 2136777,\n",
       " 2999801,\n",
       " 1529171,\n",
       " 2721963,\n",
       " 61355,\n",
       " 3383594,\n",
       " 1730767,\n",
       " 936852,\n",
       " 2926893,\n",
       " 102236,\n",
       " 1959075,\n",
       " 102236,\n",
       " 1713430,\n",
       " 3383594,\n",
       " 102236,\n",
       " 1959075,\n",
       " 678116,\n",
       " 2449164,\n",
       " 844733,\n",
       " 61355,\n",
       " 3308010,\n",
       " 61355,\n",
       " 2136777,\n",
       " 264710,\n",
       " 171934,\n",
       " 813364,\n",
       " 3308010,\n",
       " 1730767,\n",
       " 61355,\n",
       " 102236,\n",
       " 61355,\n",
       " 1717990,\n",
       " 3308010,\n",
       " 1968313,\n",
       " 129627,\n",
       " 936852,\n",
       " 61355,\n",
       " 61355,\n",
       " 165801,\n",
       " 2409109,\n",
       " 2926893,\n",
       " 61355,\n",
       " 1961723,\n",
       " 1832957,\n",
       " 1961723,\n",
       " 1183255,\n",
       " 61355,\n",
       " 2999801,\n",
       " 1220886,\n",
       " 3125735,\n",
       " 171934,\n",
       " 388234,\n",
       " 102236,\n",
       " 102236,\n",
       " 61355,\n",
       " 2721963,\n",
       " 1800005,\n",
       " 1968313,\n",
       " 2136777,\n",
       " 61355,\n",
       " 1220886,\n",
       " 61355,\n",
       " 936852,\n",
       " 1673227,\n",
       " 936852,\n",
       " 1673227,\n",
       " 1625713,\n",
       " 171934,\n",
       " 2136777,\n",
       " 1800005,\n",
       " 1730767,\n",
       " 264710,\n",
       " 102236,\n",
       " 61355,\n",
       " 903110,\n",
       " 2136777,\n",
       " 1959075,\n",
       " 3125735,\n",
       " 171934,\n",
       " 1169835,\n",
       " 3308010,\n",
       " 61355,\n",
       " 1959075,\n",
       " 2721963,\n",
       " 813364,\n",
       " 1477139,\n",
       " 1888628,\n",
       " 1730767,\n",
       " 1959075,\n",
       " 2479011,\n",
       " 3308010,\n",
       " 2721963,\n",
       " 1717990,\n",
       " 2409109,\n",
       " 171934,\n",
       " 171934,\n",
       " 1183255,\n",
       " 1800005,\n",
       " 171934,\n",
       " 2136777,\n",
       " 388234,\n",
       " 264710,\n",
       " 61355,\n",
       " 1730767,\n",
       " 1717990,\n",
       " 1916118,\n",
       " 264710,\n",
       " 3125735,\n",
       " 1959075,\n",
       " 813364,\n",
       " 3347453,\n",
       " 293169,\n",
       " 171934,\n",
       " 1386261,\n",
       " 1183255,\n",
       " 1717990,\n",
       " 1308785,\n",
       " 2625444,\n",
       " 171934,\n",
       " 102236,\n",
       " 1386261,\n",
       " 1968313,\n",
       " 1386261,\n",
       " 404157,\n",
       " 1959075,\n",
       " 1832957,\n",
       " 1961723,\n",
       " 936852,\n",
       " 1386261,\n",
       " 2449164,\n",
       " 171934,\n",
       " 1959075,\n",
       " 2449164,\n",
       " 180546,\n",
       " 1183255,\n",
       " 1386261,\n",
       " 1968313,\n",
       " 2136777,\n",
       " 3308010,\n",
       " 2479011,\n",
       " 2979697,\n",
       " 1888628,\n",
       " 1832957,\n",
       " 1961723,\n",
       " 1800005,\n",
       " 1633337,\n",
       " 404157,\n",
       " 1673227,\n",
       " 1832957]"
      ]
     },
     "execution_count": 38,
     "metadata": {},
     "output_type": "execute_result"
    }
   ],
   "source": [
    "# Guarda todas las IDs de pedidos que tengan un valor ausente en 'add_to_cart_order'\n",
    "ids_orders=list(df_order_products[df_order_products['add_to_cart_order'].isna()]['order_id'])\n",
    "ids_orders"
   ]
  },
  {
   "cell_type": "code",
   "execution_count": 39,
   "id": "54c31695",
   "metadata": {
    "id": "54c31695"
   },
   "outputs": [
    {
     "data": {
      "text/plain": [
       "order_id\n",
       "9310        65\n",
       "747668      65\n",
       "1598369     65\n",
       "1677118     65\n",
       "2170451     65\n",
       "          ... \n",
       "1959075     98\n",
       "171934     104\n",
       "2136777    108\n",
       "3308010    115\n",
       "61355      127\n",
       "Name: product_id, Length: 70, dtype: int64"
      ]
     },
     "execution_count": 39,
     "metadata": {},
     "output_type": "execute_result"
    }
   ],
   "source": [
    "# ¿Todos los pedidos con valores ausentes tienen más de 64 productos?\n",
    "# Agrupa todos los pedidos con datos ausentes por su ID de pedido.\n",
    "# Cuenta el número de 'product_id' en cada pedido y revisa el valor mínimo del conteo.\n",
    "\n",
    "df_order_products[df_order_products['order_id'].isin(ids_orders)].groupby('order_id')['product_id'].count().sort_values()\n",
    "\n"
   ]
  },
  {
   "cell_type": "markdown",
   "id": "p9V6pddtjglj",
   "metadata": {
    "id": "p9V6pddtjglj"
   },
   "source": [
    "Describe brevemente cuáles son tus hallazgos.\n",
    "Se guardaron todos los valores en orden de lista porque al no ser muy grande el número, sería más facil de tratar posteriormente, con la obtención del valor mínimo y máximo se pudo observar que todos los pedidos con valores ausentes tienen más de 64 productos. Al ralizar el conteo por product_id se observa que el mínimo valor en este caso es 65."
   ]
  },
  {
   "cell_type": "code",
   "execution_count": 40,
   "id": "7a987d08",
   "metadata": {
    "id": "7a987d08"
   },
   "outputs": [
    {
     "name": "stdout",
     "output_type": "stream",
     "text": [
      "<class 'pandas.core.frame.DataFrame'>\n",
      "RangeIndex: 4545007 entries, 0 to 4545006\n",
      "Data columns (total 4 columns):\n",
      " #   Column             Dtype\n",
      "---  ------             -----\n",
      " 0   order_id           int64\n",
      " 1   product_id         int64\n",
      " 2   add_to_cart_order  int64\n",
      " 3   reordered          int64\n",
      "dtypes: int64(4)\n",
      "memory usage: 138.7 MB\n"
     ]
    }
   ],
   "source": [
    "# Remplaza los valores ausentes en la columna 'add_to_cart? con 999 y convierte la columna al tipo entero.\n",
    "df_order_products['add_to_cart_order']=df_order_products['add_to_cart_order'].fillna(value=999)\n",
    "df_order_products['add_to_cart_order']=df_order_products['add_to_cart_order'].astype(int)\n",
    "df_order_products.info()"
   ]
  },
  {
   "cell_type": "markdown",
   "id": "fea4bcc7",
   "metadata": {
    "id": "fea4bcc7"
   },
   "source": [
    "Describe brevemente tus hallazgos y lo que hiciste con ellos.\n",
    "\n",
    "Se reemplazaron los valores ausentes en add_to_cart de manera exitosa con el metodo fillna y se convirtieron a enteros con asytipe. Se realizó la comprobación con el método info."
   ]
  },
  {
   "cell_type": "markdown",
   "id": "RnplPFY1gSrb",
   "metadata": {
    "id": "RnplPFY1gSrb"
   },
   "source": [
    "## Conclusiones\n",
    "\n",
    "Escribe aquí tus conclusiones intermedias sobre el Paso 2. Preprocesamiento de los datos\n",
    "\n",
    "Se realizó de manera exitosa el preprocesamiento de los datos y es aquí en donde se obtuvo una mayor comprensión de por qué existían valores duplicados así como nulos, el ejemplo claro es en donde todos los valores ausentes en days_since_prior_order se debe a que no se puede tener información para esta columna en donde es el primer pedidio de los clientes. Se realizó de manera exitosa la visualización de duplicados y su eliminación así como los ausentes y la asignación de un nuevo valor en las filas correspondientes.\n"
   ]
  },
  {
   "cell_type": "markdown",
   "id": "UjrOIwTcz3ri",
   "metadata": {
    "id": "UjrOIwTcz3ri"
   },
   "source": [
    "# Paso 3. Análisis de los datos\n",
    "\n",
    "Una vez los datos estén procesados y listos, haz el siguiente análisis:"
   ]
  },
  {
   "cell_type": "markdown",
   "id": "turkish-kidney",
   "metadata": {
    "id": "turkish-kidney"
   },
   "source": [
    "# [A] Fácil (deben completarse todos para aprobar)\n",
    "\n",
    "1. Verifica que los valores en las columnas `'order_hour_of_day'` y `'order_dow'` en la tabla orders sean razonables (es decir, `'order_hour_of_day'` oscile entre 0 y 23 y `'order_dow'` oscile entre 0 y 6).\n",
    "2. Crea un gráfico que muestre el número de personas que hacen pedidos dependiendo de la hora del día.\n",
    "3. Crea un gráfico que muestre qué día de la semana la gente hace sus compras.\n",
    "4. Crea un gráfico que muestre el tiempo que la gente espera hasta hacer su siguiente pedido, y comenta sobre los valores mínimos y máximos."
   ]
  },
  {
   "cell_type": "markdown",
   "id": "short-capability",
   "metadata": {
    "id": "short-capability"
   },
   "source": [
    "### [A1] Verifica que los valores sean sensibles"
   ]
  },
  {
   "cell_type": "code",
   "execution_count": 41,
   "id": "growing-fruit",
   "metadata": {
    "id": "growing-fruit"
   },
   "outputs": [
    {
     "data": {
      "text/html": [
       "<div>\n",
       "<style scoped>\n",
       "    .dataframe tbody tr th:only-of-type {\n",
       "        vertical-align: middle;\n",
       "    }\n",
       "\n",
       "    .dataframe tbody tr th {\n",
       "        vertical-align: top;\n",
       "    }\n",
       "\n",
       "    .dataframe thead th {\n",
       "        text-align: right;\n",
       "    }\n",
       "</style>\n",
       "<table border=\"1\" class=\"dataframe\">\n",
       "  <thead>\n",
       "    <tr style=\"text-align: right;\">\n",
       "      <th></th>\n",
       "      <th>order_id</th>\n",
       "      <th>user_id</th>\n",
       "      <th>order_number</th>\n",
       "      <th>order_dow</th>\n",
       "      <th>order_hour_of_day</th>\n",
       "      <th>days_since_prior_order</th>\n",
       "    </tr>\n",
       "  </thead>\n",
       "  <tbody>\n",
       "  </tbody>\n",
       "</table>\n",
       "</div>"
      ],
      "text/plain": [
       "Empty DataFrame\n",
       "Columns: [order_id, user_id, order_number, order_dow, order_hour_of_day, days_since_prior_order]\n",
       "Index: []"
      ]
     },
     "execution_count": 41,
     "metadata": {},
     "output_type": "execute_result"
    }
   ],
   "source": [
    "invalid_hour = df_orders[(df_orders['order_hour_of_day'] < 0) | (df_orders['order_hour_of_day']> 23)]\n",
    "invalid_hour"
   ]
  },
  {
   "cell_type": "code",
   "execution_count": 42,
   "id": "accessory-malaysia",
   "metadata": {
    "id": "accessory-malaysia"
   },
   "outputs": [
    {
     "data": {
      "text/html": [
       "<div>\n",
       "<style scoped>\n",
       "    .dataframe tbody tr th:only-of-type {\n",
       "        vertical-align: middle;\n",
       "    }\n",
       "\n",
       "    .dataframe tbody tr th {\n",
       "        vertical-align: top;\n",
       "    }\n",
       "\n",
       "    .dataframe thead th {\n",
       "        text-align: right;\n",
       "    }\n",
       "</style>\n",
       "<table border=\"1\" class=\"dataframe\">\n",
       "  <thead>\n",
       "    <tr style=\"text-align: right;\">\n",
       "      <th></th>\n",
       "      <th>order_id</th>\n",
       "      <th>user_id</th>\n",
       "      <th>order_number</th>\n",
       "      <th>order_dow</th>\n",
       "      <th>order_hour_of_day</th>\n",
       "      <th>days_since_prior_order</th>\n",
       "    </tr>\n",
       "  </thead>\n",
       "  <tbody>\n",
       "  </tbody>\n",
       "</table>\n",
       "</div>"
      ],
      "text/plain": [
       "Empty DataFrame\n",
       "Columns: [order_id, user_id, order_number, order_dow, order_hour_of_day, days_since_prior_order]\n",
       "Index: []"
      ]
     },
     "execution_count": 42,
     "metadata": {},
     "output_type": "execute_result"
    }
   ],
   "source": [
    "invalid_dow = df_orders[(df_orders['order_dow'] < 0) | (df_orders['order_dow']> 6)]\n",
    "invalid_dow"
   ]
  },
  {
   "cell_type": "markdown",
   "id": "hmR2GNQ6lCsX",
   "metadata": {
    "id": "hmR2GNQ6lCsX"
   },
   "source": [
    "Escribe aquí tus conclusiones\n",
    "\n",
    "Se observa que los valores son sensibles ya que se realizó busqueda de los que no cumplían las condiciones requeridas y no se encontró alguno. "
   ]
  },
  {
   "cell_type": "markdown",
   "id": "a6743a70",
   "metadata": {
    "id": "a6743a70"
   },
   "source": [
    "### [A2] Para cada hora del día, ¿cuántas personas hacen órdenes?"
   ]
  },
  {
   "cell_type": "code",
   "execution_count": 43,
   "id": "a36cca27",
   "metadata": {
    "id": "a36cca27",
    "scrolled": true
   },
   "outputs": [
    {
     "data": {
      "image/png": "[encoded data removed]",
      "text/plain": [
       "<Figure size 600x600 with 1 Axes>"
      ]
     },
     "metadata": {},
     "output_type": "display_data"
    }
   ],
   "source": [
    "hour_orders=df_orders.groupby('order_hour_of_day')['user_id'].nunique().reset_index()\n",
    "\n",
    "hour_orders.plot(x='order_hour_of_day', \n",
    "        y='user_id', \n",
    "        kind='bar', \n",
    "        color='cornflowerblue',\n",
    "        title='Hora del día vs ordenes',\n",
    "        figsize=[6, 6],\n",
    "        xlabel='Hour',\n",
    "        ylabel='Quantity',\n",
    "        legend=False\n",
    "       )\n",
    "\n",
    "plt.show()"
   ]
  },
  {
   "cell_type": "markdown",
   "id": "11270eed",
   "metadata": {
    "id": "11270eed"
   },
   "source": [
    "Escribe aquí tus conclusiones \n",
    "Se observa que la mayor cantidad de ordenes se hacen entre las 9:00 am y las 5:00 pm.\n",
    "A partir de las 4:00 am la cantidad de ordenes comienza a incrementar hasta las 11:00 am, posteriormente se \"mantienen\" la cantidad de órdenes y a partir de las 3:00 pm las ordenes disminuyen."
   ]
  },
  {
   "cell_type": "markdown",
   "id": "documented-command",
   "metadata": {
    "id": "documented-command"
   },
   "source": [
    "### [A3] ¿Qué día de la semana compran víveres las personas?"
   ]
  },
  {
   "cell_type": "code",
   "execution_count": 44,
   "id": "chief-digit",
   "metadata": {
    "id": "chief-digit"
   },
   "outputs": [
    {
     "data": {
      "image/png": "[encoded data removed]",
      "text/plain": [
       "<Figure size 600x600 with 1 Axes>"
      ]
     },
     "metadata": {},
     "output_type": "display_data"
    }
   ],
   "source": [
    "day_orders=df_orders.groupby('order_dow')['user_id'].nunique().reset_index()\n",
    "\n",
    "day_orders.plot(x='order_dow', \n",
    "        y='user_id', \n",
    "        kind='bar', \n",
    "        color='cornflowerblue',\n",
    "        title='Compras por día de la semana',\n",
    "        figsize=[6, 6],\n",
    "        xlabel='Día de la semana',\n",
    "        ylabel='Ordenes',\n",
    "        legend=False\n",
    "       )\n",
    "\n",
    "plt.show()"
   ]
  },
  {
   "cell_type": "markdown",
   "id": "dominant-lightning",
   "metadata": {
    "id": "dominant-lightning"
   },
   "source": [
    "Escribe aquí tus conclusiones\n",
    "Se observa que el lunes y martes es el día que más ordenes se hacen, probablemente porque esos días las personas hacen el super para el resto de la semana.\n"
   ]
  },
  {
   "cell_type": "markdown",
   "id": "cutting-concert",
   "metadata": {
    "id": "cutting-concert"
   },
   "source": [
    "### [A4] ¿Cuánto tiempo esperan las personas hasta hacer otro pedido? Comenta sobre los valores mínimos y máximos."
   ]
  },
  {
   "cell_type": "code",
   "execution_count": 45,
   "id": "c231f523",
   "metadata": {
    "id": "c231f523"
   },
   "outputs": [
    {
     "data": {
      "image/png": "[encoded data removed]",
      "text/plain": [
       "<Figure size 600x600 with 1 Axes>"
      ]
     },
     "metadata": {},
     "output_type": "display_data"
    }
   ],
   "source": [
    "reorder=df_orders.groupby('days_since_prior_order')['user_id'].nunique().reset_index()\n",
    "\n",
    "reorder.plot(x='days_since_prior_order', \n",
    "        y='user_id', \n",
    "        kind='bar', \n",
    "        color='cornflowerblue',\n",
    "        title='Tiempo entre compras',\n",
    "        figsize=[6, 6],\n",
    "        xlabel='Días',\n",
    "        ylabel='Compras',\n",
    "        legend=False\n",
    "       )\n",
    "\n",
    "plt.show()"
   ]
  },
  {
   "cell_type": "markdown",
   "id": "discrete-vertex",
   "metadata": {
    "id": "discrete-vertex"
   },
   "source": [
    "Escribe aquí tus conclusiones\n",
    "\n",
    "Se observa que la mayor parte está en 30 días, probablemente son personas que hacen pedidos grandes y el super les rinde todo el mes.\n",
    "También se observa que 7 días es la segunda cantidad más grande en espera y esto también se deba a que hay más compras los primeros días de la semana y sean usuarios que compran el super para una semana. \n",
    "A partir de ahí se ibservan picos en el día 14 y 21 y probablemente se deba a lo mismo que en los casos anteriores."
   ]
  },
  {
   "cell_type": "markdown",
   "id": "tight-staff",
   "metadata": {
    "id": "tight-staff"
   },
   "source": [
    "# [B] Intermedio (deben completarse todos para aprobar)\n",
    "\n",
    "1. ¿Existe alguna diferencia entre las distribuciones `'order_hour_of_day'` de los miércoles y los sábados? Traza gráficos de barra de `'order_hour_of_day'` para ambos días en la misma figura y describe las diferencias que observes.\n",
    "2. Grafica la distribución para el número de órdenes que hacen los clientes (es decir, cuántos clientes hicieron solo 1 pedido, cuántos hicieron 2, cuántos 3, y así sucesivamente...).\n",
    "3. ¿Cuáles son los 20 principales productos que se piden con más frecuencia (muestra su identificación y nombre)?"
   ]
  },
  {
   "cell_type": "markdown",
   "id": "packed-classic",
   "metadata": {
    "id": "packed-classic"
   },
   "source": [
    "### [B1] Diferencia entre miércoles y sábados para  `'order_hour_of_day'`. Traza gráficos de barra para los dos días y describe las diferencias que veas."
   ]
  },
  {
   "cell_type": "code",
   "execution_count": 46,
   "id": "d89b8403",
   "metadata": {
    "id": "d89b8403"
   },
   "outputs": [],
   "source": [
    "wednesday=df_orders[df_orders['order_dow']==3]\n",
    "saturday=df_orders[df_orders['order_dow']==6]"
   ]
  },
  {
   "cell_type": "code",
   "execution_count": 47,
   "id": "94e54e8a",
   "metadata": {
    "id": "94e54e8a"
   },
   "outputs": [],
   "source": [
    "wednesday_hour=wednesday.groupby('order_hour_of_day')['order_id'].count()\n",
    "saturday_hour=saturday.groupby('order_hour_of_day')['order_id'].count()"
   ]
  },
  {
   "cell_type": "code",
   "execution_count": 48,
   "id": "797c90a8",
   "metadata": {
    "id": "797c90a8"
   },
   "outputs": [
    {
     "data": {
      "text/html": [
       "<div>\n",
       "<style scoped>\n",
       "    .dataframe tbody tr th:only-of-type {\n",
       "        vertical-align: middle;\n",
       "    }\n",
       "\n",
       "    .dataframe tbody tr th {\n",
       "        vertical-align: top;\n",
       "    }\n",
       "\n",
       "    .dataframe thead th {\n",
       "        text-align: right;\n",
       "    }\n",
       "</style>\n",
       "<table border=\"1\" class=\"dataframe\">\n",
       "  <thead>\n",
       "    <tr style=\"text-align: right;\">\n",
       "      <th></th>\n",
       "      <th>Miércoles</th>\n",
       "      <th>Sábado</th>\n",
       "    </tr>\n",
       "    <tr>\n",
       "      <th>order_hour_of_day</th>\n",
       "      <th></th>\n",
       "      <th></th>\n",
       "    </tr>\n",
       "  </thead>\n",
       "  <tbody>\n",
       "    <tr>\n",
       "      <th>0</th>\n",
       "      <td>373</td>\n",
       "      <td>464</td>\n",
       "    </tr>\n",
       "    <tr>\n",
       "      <th>1</th>\n",
       "      <td>215</td>\n",
       "      <td>254</td>\n",
       "    </tr>\n",
       "    <tr>\n",
       "      <th>2</th>\n",
       "      <td>106</td>\n",
       "      <td>177</td>\n",
       "    </tr>\n",
       "    <tr>\n",
       "      <th>3</th>\n",
       "      <td>101</td>\n",
       "      <td>125</td>\n",
       "    </tr>\n",
       "    <tr>\n",
       "      <th>4</th>\n",
       "      <td>108</td>\n",
       "      <td>118</td>\n",
       "    </tr>\n",
       "    <tr>\n",
       "      <th>5</th>\n",
       "      <td>170</td>\n",
       "      <td>161</td>\n",
       "    </tr>\n",
       "    <tr>\n",
       "      <th>6</th>\n",
       "      <td>643</td>\n",
       "      <td>451</td>\n",
       "    </tr>\n",
       "    <tr>\n",
       "      <th>7</th>\n",
       "      <td>1732</td>\n",
       "      <td>1619</td>\n",
       "    </tr>\n",
       "    <tr>\n",
       "      <th>8</th>\n",
       "      <td>3125</td>\n",
       "      <td>3246</td>\n",
       "    </tr>\n",
       "    <tr>\n",
       "      <th>9</th>\n",
       "      <td>4490</td>\n",
       "      <td>4311</td>\n",
       "    </tr>\n",
       "    <tr>\n",
       "      <th>10</th>\n",
       "      <td>5026</td>\n",
       "      <td>4919</td>\n",
       "    </tr>\n",
       "    <tr>\n",
       "      <th>11</th>\n",
       "      <td>5004</td>\n",
       "      <td>5116</td>\n",
       "    </tr>\n",
       "    <tr>\n",
       "      <th>12</th>\n",
       "      <td>4688</td>\n",
       "      <td>5132</td>\n",
       "    </tr>\n",
       "    <tr>\n",
       "      <th>13</th>\n",
       "      <td>4674</td>\n",
       "      <td>5323</td>\n",
       "    </tr>\n",
       "    <tr>\n",
       "      <th>14</th>\n",
       "      <td>4774</td>\n",
       "      <td>5375</td>\n",
       "    </tr>\n",
       "    <tr>\n",
       "      <th>15</th>\n",
       "      <td>5163</td>\n",
       "      <td>5188</td>\n",
       "    </tr>\n",
       "    <tr>\n",
       "      <th>16</th>\n",
       "      <td>4976</td>\n",
       "      <td>5029</td>\n",
       "    </tr>\n",
       "    <tr>\n",
       "      <th>17</th>\n",
       "      <td>4175</td>\n",
       "      <td>4295</td>\n",
       "    </tr>\n",
       "    <tr>\n",
       "      <th>18</th>\n",
       "      <td>3463</td>\n",
       "      <td>3338</td>\n",
       "    </tr>\n",
       "    <tr>\n",
       "      <th>19</th>\n",
       "      <td>2652</td>\n",
       "      <td>2610</td>\n",
       "    </tr>\n",
       "    <tr>\n",
       "      <th>20</th>\n",
       "      <td>1917</td>\n",
       "      <td>1847</td>\n",
       "    </tr>\n",
       "    <tr>\n",
       "      <th>21</th>\n",
       "      <td>1450</td>\n",
       "      <td>1473</td>\n",
       "    </tr>\n",
       "    <tr>\n",
       "      <th>22</th>\n",
       "      <td>1154</td>\n",
       "      <td>1185</td>\n",
       "    </tr>\n",
       "    <tr>\n",
       "      <th>23</th>\n",
       "      <td>718</td>\n",
       "      <td>893</td>\n",
       "    </tr>\n",
       "  </tbody>\n",
       "</table>\n",
       "</div>"
      ],
      "text/plain": [
       "                   Miércoles  Sábado\n",
       "order_hour_of_day                   \n",
       "0                        373     464\n",
       "1                        215     254\n",
       "2                        106     177\n",
       "3                        101     125\n",
       "4                        108     118\n",
       "5                        170     161\n",
       "6                        643     451\n",
       "7                       1732    1619\n",
       "8                       3125    3246\n",
       "9                       4490    4311\n",
       "10                      5026    4919\n",
       "11                      5004    5116\n",
       "12                      4688    5132\n",
       "13                      4674    5323\n",
       "14                      4774    5375\n",
       "15                      5163    5188\n",
       "16                      4976    5029\n",
       "17                      4175    4295\n",
       "18                      3463    3338\n",
       "19                      2652    2610\n",
       "20                      1917    1847\n",
       "21                      1450    1473\n",
       "22                      1154    1185\n",
       "23                       718     893"
      ]
     },
     "execution_count": 48,
     "metadata": {},
     "output_type": "execute_result"
    }
   ],
   "source": [
    "concatenados=pd.concat([wednesday_hour,saturday_hour], axis=1)\n",
    "concatenados.columns = ['Miércoles', 'Sábado']\n",
    "concatenados"
   ]
  },
  {
   "cell_type": "code",
   "execution_count": 49,
   "id": "35bcea30",
   "metadata": {
    "id": "35bcea30"
   },
   "outputs": [
    {
     "data": {
      "image/png": "[encoded data removed]",
      "text/plain": [
       "<Figure size 600x600 with 1 Axes>"
      ]
     },
     "metadata": {},
     "output_type": "display_data"
    }
   ],
   "source": [
    "concatenados.plot(  \n",
    "        kind='bar',\n",
    "        title='Pedidos por hora',\n",
    "        figsize=[6, 6],\n",
    "        xlabel='Hora',\n",
    "        ylabel='Pedidos'\n",
    "       )\n",
    "plt.show()"
   ]
  },
  {
   "cell_type": "markdown",
   "id": "charitable-congo",
   "metadata": {
    "id": "charitable-congo"
   },
   "source": [
    "Escribe aquí tus conclusiones\n",
    "\n",
    "Se observa que en los valores más grandes que son entre las 11:00 am y las 17:00 la actividad del sábado es mayor,probablemente porque el sábado se tenga más tiempo libre en este horario a diferencia de los miércoles.\n",
    "A partir de las 18:00 la actividad se invierte y los miércoles hay más órdenes que los sábados."
   ]
  },
  {
   "cell_type": "markdown",
   "id": "e3891143",
   "metadata": {
    "id": "e3891143"
   },
   "source": [
    "### [B2] ¿Cuál es la distribución para el número de pedidos por cliente?"
   ]
  },
  {
   "cell_type": "code",
   "execution_count": 50,
   "id": "d8c26c23",
   "metadata": {
    "id": "d8c26c23"
   },
   "outputs": [
    {
     "data": {
      "text/html": [
       "<div>\n",
       "<style scoped>\n",
       "    .dataframe tbody tr th:only-of-type {\n",
       "        vertical-align: middle;\n",
       "    }\n",
       "\n",
       "    .dataframe tbody tr th {\n",
       "        vertical-align: top;\n",
       "    }\n",
       "\n",
       "    .dataframe thead th {\n",
       "        text-align: right;\n",
       "    }\n",
       "</style>\n",
       "<table border=\"1\" class=\"dataframe\">\n",
       "  <thead>\n",
       "    <tr style=\"text-align: right;\">\n",
       "      <th></th>\n",
       "      <th>user_id</th>\n",
       "    </tr>\n",
       "    <tr>\n",
       "      <th>order_number</th>\n",
       "      <th></th>\n",
       "    </tr>\n",
       "  </thead>\n",
       "  <tbody>\n",
       "    <tr>\n",
       "      <th>1</th>\n",
       "      <td>7840</td>\n",
       "    </tr>\n",
       "    <tr>\n",
       "      <th>2</th>\n",
       "      <td>9113</td>\n",
       "    </tr>\n",
       "    <tr>\n",
       "      <th>3</th>\n",
       "      <td>10510</td>\n",
       "    </tr>\n",
       "    <tr>\n",
       "      <th>4</th>\n",
       "      <td>12368</td>\n",
       "    </tr>\n",
       "    <tr>\n",
       "      <th>5</th>\n",
       "      <td>10406</td>\n",
       "    </tr>\n",
       "    <tr>\n",
       "      <th>...</th>\n",
       "      <td>...</td>\n",
       "    </tr>\n",
       "    <tr>\n",
       "      <th>96</th>\n",
       "      <td>133</td>\n",
       "    </tr>\n",
       "    <tr>\n",
       "      <th>97</th>\n",
       "      <td>173</td>\n",
       "    </tr>\n",
       "    <tr>\n",
       "      <th>98</th>\n",
       "      <td>148</td>\n",
       "    </tr>\n",
       "    <tr>\n",
       "      <th>99</th>\n",
       "      <td>143</td>\n",
       "    </tr>\n",
       "    <tr>\n",
       "      <th>100</th>\n",
       "      <td>194</td>\n",
       "    </tr>\n",
       "  </tbody>\n",
       "</table>\n",
       "<p>100 rows × 1 columns</p>\n",
       "</div>"
      ],
      "text/plain": [
       "              user_id\n",
       "order_number         \n",
       "1                7840\n",
       "2                9113\n",
       "3               10510\n",
       "4               12368\n",
       "5               10406\n",
       "...               ...\n",
       "96                133\n",
       "97                173\n",
       "98                148\n",
       "99                143\n",
       "100               194\n",
       "\n",
       "[100 rows x 1 columns]"
      ]
     },
     "execution_count": 50,
     "metadata": {},
     "output_type": "execute_result"
    }
   ],
   "source": [
    "number_per_client=df_orders.groupby('user_id')['order_number'].max().reset_index().groupby('order_number').count()\n",
    "number_per_client"
   ]
  },
  {
   "cell_type": "code",
   "execution_count": 51,
   "id": "00e69a66",
   "metadata": {
    "id": "00e69a66"
   },
   "outputs": [
    {
     "data": {
      "image/png": "[encoded data removed]",
      "text/plain": [
       "<Figure size 1200x500 with 1 Axes>"
      ]
     },
     "metadata": {},
     "output_type": "display_data"
    }
   ],
   "source": [
    "number_per_client.plot(  \n",
    "        kind='bar',\n",
    "        title='Pedidos por cliente',\n",
    "        color='cornflowerblue',\n",
    "        figsize=[12, 5],\n",
    "        xlabel='Número de pedido',\n",
    "        ylabel='Cantidad de usuarios',\n",
    "        legend=False\n",
    "       )\n",
    "plt.show()"
   ]
  },
  {
   "cell_type": "markdown",
   "id": "d2eff7d5",
   "metadata": {
    "id": "d2eff7d5"
   },
   "source": [
    "Escribe aquí tus conclusiones\n",
    "\n",
    "Se observa que la mayor cantidad de pedidos por cliente son 3.\n",
    "De 0 a 3 números de pedidos la catidad de usuarios que realizan ordenes va aumentando pero a partir del pedido número 3, este disminuye hasta llegar a un número muy pequeño. Probablemente sea por la experiencia de compra en la app o el servicio al recibir los productos o el estado de los mismos o simplemente sea una app que usan solo en caso de emergencias."
   ]
  },
  {
   "cell_type": "markdown",
   "id": "54a0319c",
   "metadata": {
    "id": "54a0319c"
   },
   "source": [
    "### [B3] ¿Cuáles son los 20 productos más populares (muestra su ID y nombre)?"
   ]
  },
  {
   "cell_type": "code",
   "execution_count": 52,
   "id": "exterior-arizona",
   "metadata": {
    "id": "exterior-arizona",
    "scrolled": true
   },
   "outputs": [
    {
     "data": {
      "text/plain": [
       "product_name                                                     product_id\n",
       "#2 Coffee Filters                                                25773         110\n",
       "#2 Cone White Coffee Filters                                     2158            2\n",
       "#2 Mechanical Pencils                                            26685           3\n",
       "#4 Natural Brown Coffee Filters                                  26381          39\n",
       "& Go! Hazelnut Spread + Pretzel Sticks                           20604          15\n",
       "                                                                              ... \n",
       "with Xylitol Unwrapped Original Flavor 50 Sticks Sugar Free Gum  22381           4\n",
       "with Xylitol Unwrapped Spearmint 50 Sticks Sugar Free Gum        43420          10\n",
       "with Xylitol Watermelon Twist 18 Sticks Sugar Free Gum           42006          14\n",
       "with a Splash of Mango Coconut Water                             8716            4\n",
       "with a Splash of Pineapple Coconut Water                         2987           11\n",
       "Name: order_id, Length: 45573, dtype: int64"
      ]
     },
     "execution_count": 52,
     "metadata": {},
     "output_type": "execute_result"
    }
   ],
   "source": [
    "df_merged=df_products.merge(df_order_products,\n",
    "                         on='product_id')\n",
    "\n",
    "popular_products=df_merged.groupby(['product_name', 'product_id'])['order_id'].count()\n",
    "popular_products"
   ]
  },
  {
   "cell_type": "code",
   "execution_count": 53,
   "id": "universal-facial",
   "metadata": {
    "id": "universal-facial"
   },
   "outputs": [
    {
     "data": {
      "text/plain": [
       "product_name              product_id\n",
       "Banana                    24852         66050\n",
       "Bag of Organic Bananas    13176         53297\n",
       "Organic Strawberries      21137         37039\n",
       "Organic Baby Spinach      21903         33971\n",
       "Organic Hass Avocado      47209         29773\n",
       "Organic Avocado           47766         24689\n",
       "Large Lemon               47626         21495\n",
       "Strawberries              16797         20018\n",
       "Limes                     26209         19690\n",
       "Organic Whole Milk        27845         19600\n",
       "Organic Raspberries       27966         19197\n",
       "Organic Yellow Onion      22935         15898\n",
       "Organic Garlic            24964         15292\n",
       "Organic Zucchini          45007         14584\n",
       "Organic Blueberries       39275         13879\n",
       "Cucumber Kirby            49683         13675\n",
       "Organic Fuji Apple        28204         12544\n",
       "Organic Lemon             5876          12232\n",
       "Apple Honeycrisp Organic  8277          11993\n",
       "Organic Grape Tomatoes    40706         11781\n",
       "Name: order_id, dtype: int64"
      ]
     },
     "execution_count": 53,
     "metadata": {},
     "output_type": "execute_result"
    }
   ],
   "source": [
    "first_popular_products=popular_products.sort_values(ascending=False).head(20)\n",
    "first_popular_products"
   ]
  },
  {
   "cell_type": "code",
   "execution_count": 54,
   "id": "bbcdd20b",
   "metadata": {
    "id": "bbcdd20b"
   },
   "outputs": [
    {
     "data": {
      "image/png": "[encoded data removed]",
      "text/plain": [
       "<Figure size 1000x500 with 1 Axes>"
      ]
     },
     "metadata": {},
     "output_type": "display_data"
    }
   ],
   "source": [
    "first_popular_products.plot(  \n",
    "        kind='bar',\n",
    "        title='Productos más populares',\n",
    "        color='cornflowerblue',\n",
    "        figsize=[10, 5],\n",
    "        xlabel='Producto, identificador',\n",
    "        ylabel='Cantidad pedidos',\n",
    "        legend=False\n",
    "       )\n",
    "plt.show()"
   ]
  },
  {
   "cell_type": "markdown",
   "id": "7df00f47",
   "metadata": {
    "id": "7df00f47"
   },
   "source": [
    "Escribe aquí tus conclusiones\n",
    "Se observa que los productos más populares son frutas y verduras pero sobre todo las bananas."
   ]
  },
  {
   "cell_type": "markdown",
   "id": "gross-theme",
   "metadata": {
    "id": "gross-theme"
   },
   "source": [
    "# [C] Difícil (deben completarse todos para aprobar)\n",
    "\n",
    "1. ¿Cuántos artículos suelen comprar las personas en un pedido? ¿Cómo es la distribución?\n",
    "2. ¿Cuáles son los 20 principales artículos que vuelven a pedirse con mayor frecuencia (muestra sus nombres e IDs de los productos)?\n",
    "3. Para cada producto, ¿cuál es la tasa de repetición del pedido (número de repeticiones de pedido/total de pedidos?\n",
    "4. Para cada cliente, ¿qué proporción de los productos que pidió ya los había pedido? Calcula la tasa de repetición de pedido para cada usuario en lugar de para cada producto.\n",
    "5. ¿Cuáles son los 20 principales artículos que la gente pone primero en sus carritos (muestra las IDs de los productos, sus nombres, y el número de veces en que fueron el primer artículo en añadirse al carrito)?"
   ]
  },
  {
   "cell_type": "markdown",
   "id": "romantic-deposit",
   "metadata": {
    "id": "romantic-deposit"
   },
   "source": [
    "### [C1] ¿Cuántos artículos compran normalmente las personas en un pedido? ¿Cómo es la distribución?"
   ]
  },
  {
   "cell_type": "code",
   "execution_count": 55,
   "id": "virtual-punch",
   "metadata": {
    "id": "virtual-punch"
   },
   "outputs": [
    {
     "data": {
      "text/plain": [
       "order_id\n",
       "4          13\n",
       "9          15\n",
       "11          5\n",
       "19          3\n",
       "20          8\n",
       "           ..\n",
       "3421034    17\n",
       "3421053     9\n",
       "3421071     5\n",
       "3421077     4\n",
       "3421079     1\n",
       "Name: product_id, Length: 450046, dtype: int64"
      ]
     },
     "execution_count": 55,
     "metadata": {},
     "output_type": "execute_result"
    }
   ],
   "source": [
    "amount=df_order_products.groupby('order_id')['product_id'].count()\n",
    "amount"
   ]
  },
  {
   "cell_type": "code",
   "execution_count": 56,
   "id": "sensitive-breathing",
   "metadata": {
    "id": "sensitive-breathing"
   },
   "outputs": [
    {
     "data": {
      "image/png": "[encoded data removed]",
      "text/plain": [
       "<Figure size 640x480 with 1 Axes>"
      ]
     },
     "metadata": {},
     "output_type": "display_data"
    }
   ],
   "source": [
    "amount.plot(  \n",
    "        kind='hist',\n",
    "        title='Productos por pedido',\n",
    "        color='cornflowerblue',\n",
    "        bins=30,\n",
    "       )\n",
    "plt.show()"
   ]
  },
  {
   "cell_type": "markdown",
   "id": "designed-mortality",
   "metadata": {
    "id": "designed-mortality"
   },
   "source": [
    "Escribe aquí tus conclusiones\n",
    "\n",
    "Se observa que la mayor parte de los pedidos tienen de 0 a 5 productos y hasta 20, después del articulo 20 el número comienza a disminuir considerablemente. Probablemente porque llegan al tope de su presupuesto o son la cantidad de articulos suficientes. "
   ]
  },
  {
   "cell_type": "markdown",
   "id": "5e6b5537",
   "metadata": {
    "id": "5e6b5537"
   },
   "source": [
    "### [C2] ¿Cuáles son los 20 principales artículos que vuelven a pedirse con mayor frecuencia (muestra sus nombres e IDs de los productos)?"
   ]
  },
  {
   "cell_type": "code",
   "execution_count": 57,
   "id": "9374e55a",
   "metadata": {
    "id": "9374e55a"
   },
   "outputs": [],
   "source": [
    "reordered_products=df_order_products[df_order_products['reordered']==1]\n",
    "\n",
    "dfmerged=df_products.merge(reordered_products,\n",
    "                         on='product_id')\n",
    "\n",
    "reordered_products=dfmerged.groupby(['product_name', 'product_id'])['order_id'].count()\n",
    "top_products_reordered=reordered_products.sort_values(ascending=False).head(20)"
   ]
  },
  {
   "cell_type": "code",
   "execution_count": 58,
   "id": "possible-change",
   "metadata": {
    "id": "possible-change",
    "scrolled": true
   },
   "outputs": [
    {
     "data": {
      "text/plain": [
       "product_name              product_id\n",
       "Banana                    24852         55763\n",
       "Bag of Organic Bananas    13176         44450\n",
       "Organic Strawberries      21137         28639\n",
       "Organic Baby Spinach      21903         26233\n",
       "Organic Hass Avocado      47209         23629\n",
       "Organic Avocado           47766         18743\n",
       "Organic Whole Milk        27845         16251\n",
       "Large Lemon               47626         15044\n",
       "Organic Raspberries       27966         14748\n",
       "Strawberries              16797         13945\n",
       "Limes                     26209         13327\n",
       "Organic Yellow Onion      22935         11145\n",
       "Organic Garlic            24964         10411\n",
       "Organic Zucchini          45007         10076\n",
       "Cucumber Kirby            49683          9538\n",
       "Organic Fuji Apple        28204          8989\n",
       "Apple Honeycrisp Organic  8277           8836\n",
       "Organic Blueberries       39275          8799\n",
       "Organic Lemon             5876           8412\n",
       "Organic Half & Half       49235          8389\n",
       "Name: order_id, dtype: int64"
      ]
     },
     "execution_count": 58,
     "metadata": {},
     "output_type": "execute_result"
    }
   ],
   "source": [
    "top_products_reordered"
   ]
  },
  {
   "cell_type": "code",
   "execution_count": 59,
   "id": "professional-surfing",
   "metadata": {
    "id": "professional-surfing",
    "scrolled": true
   },
   "outputs": [
    {
     "data": {
      "image/png": "[encoded data removed]",
      "text/plain": [
       "<Figure size 1000x500 with 1 Axes>"
      ]
     },
     "metadata": {},
     "output_type": "display_data"
    }
   ],
   "source": [
    "top_products_reordered.plot(  \n",
    "        kind='bar',\n",
    "        title='Productos más reordenados',\n",
    "        color='cornflowerblue',\n",
    "        figsize=[10, 5],\n",
    "        xlabel='Producto, identificador',\n",
    "        ylabel='Reordenes',\n",
    "        legend=False\n",
    "       )\n",
    "plt.show()"
   ]
  },
  {
   "cell_type": "markdown",
   "id": "80e70c74",
   "metadata": {
    "id": "80e70c74"
   },
   "source": [
    "Escribe aquí tus conclusiones\n",
    "Se observa que los productos más populares también se encuentran aquí en los primeros puestos y es lógico porque es la mayor cantidad de ventas por producto que se tienen."
   ]
  },
  {
   "cell_type": "markdown",
   "id": "9d312b14",
   "metadata": {
    "id": "9d312b14"
   },
   "source": [
    "### [C3] Para cada producto, ¿cuál es la proporción de las veces que se pide y que se vuelve a pedir?"
   ]
  },
  {
   "cell_type": "code",
   "execution_count": 60,
   "id": "8ae9f4b1",
   "metadata": {
    "id": "8ae9f4b1"
   },
   "outputs": [],
   "source": [
    "total_orders_per_product=df_order_products.groupby('product_id')['order_id'].count().reset_index()\n",
    "reordered_final=df_order_products.groupby('product_id')['reordered'].sum().reset_index()"
   ]
  },
  {
   "cell_type": "code",
   "execution_count": 61,
   "id": "103e7fe1",
   "metadata": {
    "id": "103e7fe1"
   },
   "outputs": [
    {
     "data": {
      "text/html": [
       "<div>\n",
       "<style scoped>\n",
       "    .dataframe tbody tr th:only-of-type {\n",
       "        vertical-align: middle;\n",
       "    }\n",
       "\n",
       "    .dataframe tbody tr th {\n",
       "        vertical-align: top;\n",
       "    }\n",
       "\n",
       "    .dataframe thead th {\n",
       "        text-align: right;\n",
       "    }\n",
       "</style>\n",
       "<table border=\"1\" class=\"dataframe\">\n",
       "  <thead>\n",
       "    <tr style=\"text-align: right;\">\n",
       "      <th></th>\n",
       "      <th>product_id</th>\n",
       "      <th>reordered</th>\n",
       "      <th>order_id</th>\n",
       "      <th>proportion</th>\n",
       "    </tr>\n",
       "  </thead>\n",
       "  <tbody>\n",
       "    <tr>\n",
       "      <th>0</th>\n",
       "      <td>1</td>\n",
       "      <td>158</td>\n",
       "      <td>280</td>\n",
       "      <td>0.564286</td>\n",
       "    </tr>\n",
       "    <tr>\n",
       "      <th>1</th>\n",
       "      <td>2</td>\n",
       "      <td>0</td>\n",
       "      <td>11</td>\n",
       "      <td>0.000000</td>\n",
       "    </tr>\n",
       "    <tr>\n",
       "      <th>2</th>\n",
       "      <td>3</td>\n",
       "      <td>31</td>\n",
       "      <td>42</td>\n",
       "      <td>0.738095</td>\n",
       "    </tr>\n",
       "    <tr>\n",
       "      <th>3</th>\n",
       "      <td>4</td>\n",
       "      <td>25</td>\n",
       "      <td>49</td>\n",
       "      <td>0.510204</td>\n",
       "    </tr>\n",
       "    <tr>\n",
       "      <th>4</th>\n",
       "      <td>7</td>\n",
       "      <td>1</td>\n",
       "      <td>2</td>\n",
       "      <td>0.500000</td>\n",
       "    </tr>\n",
       "    <tr>\n",
       "      <th>...</th>\n",
       "      <td>...</td>\n",
       "      <td>...</td>\n",
       "      <td>...</td>\n",
       "      <td>...</td>\n",
       "    </tr>\n",
       "    <tr>\n",
       "      <th>45568</th>\n",
       "      <td>49690</td>\n",
       "      <td>4</td>\n",
       "      <td>5</td>\n",
       "      <td>0.800000</td>\n",
       "    </tr>\n",
       "    <tr>\n",
       "      <th>45569</th>\n",
       "      <td>49691</td>\n",
       "      <td>31</td>\n",
       "      <td>72</td>\n",
       "      <td>0.430556</td>\n",
       "    </tr>\n",
       "    <tr>\n",
       "      <th>45570</th>\n",
       "      <td>49692</td>\n",
       "      <td>5</td>\n",
       "      <td>12</td>\n",
       "      <td>0.416667</td>\n",
       "    </tr>\n",
       "    <tr>\n",
       "      <th>45571</th>\n",
       "      <td>49693</td>\n",
       "      <td>11</td>\n",
       "      <td>25</td>\n",
       "      <td>0.440000</td>\n",
       "    </tr>\n",
       "    <tr>\n",
       "      <th>45572</th>\n",
       "      <td>49694</td>\n",
       "      <td>3</td>\n",
       "      <td>9</td>\n",
       "      <td>0.333333</td>\n",
       "    </tr>\n",
       "  </tbody>\n",
       "</table>\n",
       "<p>45573 rows × 4 columns</p>\n",
       "</div>"
      ],
      "text/plain": [
       "       product_id  reordered  order_id  proportion\n",
       "0               1        158       280    0.564286\n",
       "1               2          0        11    0.000000\n",
       "2               3         31        42    0.738095\n",
       "3               4         25        49    0.510204\n",
       "4               7          1         2    0.500000\n",
       "...           ...        ...       ...         ...\n",
       "45568       49690          4         5    0.800000\n",
       "45569       49691         31        72    0.430556\n",
       "45570       49692          5        12    0.416667\n",
       "45571       49693         11        25    0.440000\n",
       "45572       49694          3         9    0.333333\n",
       "\n",
       "[45573 rows x 4 columns]"
      ]
     },
     "execution_count": 61,
     "metadata": {},
     "output_type": "execute_result"
    }
   ],
   "source": [
    "merge=reordered_final.merge(total_orders_per_product, on='product_id')\n",
    "\n",
    "merge['proportion']=merge['reordered']/merge['order_id']\n",
    "merge"
   ]
  },
  {
   "cell_type": "markdown",
   "id": "I10dEIAyldcO",
   "metadata": {
    "id": "I10dEIAyldcO"
   },
   "source": [
    "Escribe aquí tus conclusiones"
   ]
  },
  {
   "cell_type": "markdown",
   "id": "subject-boxing",
   "metadata": {
    "id": "subject-boxing"
   },
   "source": [
    "### [C4] Para cada cliente, ¿qué proporción de sus productos ya los había pedido?"
   ]
  },
  {
   "cell_type": "code",
   "execution_count": 62,
   "id": "medical-couple",
   "metadata": {
    "id": "medical-couple",
    "scrolled": true
   },
   "outputs": [],
   "source": [
    "_df_merged=df_order_products.merge(df_orders, on='order_id')\n",
    "\n",
    "_final_reordered=_df_merged.groupby('user_id')['reordered'].sum().reset_index()\n",
    "\n",
    "total_order=_df_merged.groupby('user_id')['product_id'].count().reset_index()\n"
   ]
  },
  {
   "cell_type": "code",
   "execution_count": 63,
   "id": "8892e4b4",
   "metadata": {
    "id": "8892e4b4"
   },
   "outputs": [
    {
     "data": {
      "text/html": [
       "<div>\n",
       "<style scoped>\n",
       "    .dataframe tbody tr th:only-of-type {\n",
       "        vertical-align: middle;\n",
       "    }\n",
       "\n",
       "    .dataframe tbody tr th {\n",
       "        vertical-align: top;\n",
       "    }\n",
       "\n",
       "    .dataframe thead th {\n",
       "        text-align: right;\n",
       "    }\n",
       "</style>\n",
       "<table border=\"1\" class=\"dataframe\">\n",
       "  <thead>\n",
       "    <tr style=\"text-align: right;\">\n",
       "      <th></th>\n",
       "      <th>user_id</th>\n",
       "      <th>product_id</th>\n",
       "      <th>reordered</th>\n",
       "      <th>proportion</th>\n",
       "    </tr>\n",
       "  </thead>\n",
       "  <tbody>\n",
       "    <tr>\n",
       "      <th>0</th>\n",
       "      <td>2</td>\n",
       "      <td>26</td>\n",
       "      <td>1</td>\n",
       "      <td>0.038462</td>\n",
       "    </tr>\n",
       "    <tr>\n",
       "      <th>1</th>\n",
       "      <td>4</td>\n",
       "      <td>2</td>\n",
       "      <td>0</td>\n",
       "      <td>0.000000</td>\n",
       "    </tr>\n",
       "    <tr>\n",
       "      <th>2</th>\n",
       "      <td>5</td>\n",
       "      <td>12</td>\n",
       "      <td>8</td>\n",
       "      <td>0.666667</td>\n",
       "    </tr>\n",
       "    <tr>\n",
       "      <th>3</th>\n",
       "      <td>6</td>\n",
       "      <td>4</td>\n",
       "      <td>0</td>\n",
       "      <td>0.000000</td>\n",
       "    </tr>\n",
       "    <tr>\n",
       "      <th>4</th>\n",
       "      <td>7</td>\n",
       "      <td>14</td>\n",
       "      <td>13</td>\n",
       "      <td>0.928571</td>\n",
       "    </tr>\n",
       "    <tr>\n",
       "      <th>...</th>\n",
       "      <td>...</td>\n",
       "      <td>...</td>\n",
       "      <td>...</td>\n",
       "      <td>...</td>\n",
       "    </tr>\n",
       "    <tr>\n",
       "      <th>149621</th>\n",
       "      <td>206203</td>\n",
       "      <td>27</td>\n",
       "      <td>6</td>\n",
       "      <td>0.222222</td>\n",
       "    </tr>\n",
       "    <tr>\n",
       "      <th>149622</th>\n",
       "      <td>206206</td>\n",
       "      <td>21</td>\n",
       "      <td>15</td>\n",
       "      <td>0.714286</td>\n",
       "    </tr>\n",
       "    <tr>\n",
       "      <th>149623</th>\n",
       "      <td>206207</td>\n",
       "      <td>46</td>\n",
       "      <td>41</td>\n",
       "      <td>0.891304</td>\n",
       "    </tr>\n",
       "    <tr>\n",
       "      <th>149624</th>\n",
       "      <td>206208</td>\n",
       "      <td>125</td>\n",
       "      <td>87</td>\n",
       "      <td>0.696000</td>\n",
       "    </tr>\n",
       "    <tr>\n",
       "      <th>149625</th>\n",
       "      <td>206209</td>\n",
       "      <td>25</td>\n",
       "      <td>8</td>\n",
       "      <td>0.320000</td>\n",
       "    </tr>\n",
       "  </tbody>\n",
       "</table>\n",
       "<p>149626 rows × 4 columns</p>\n",
       "</div>"
      ],
      "text/plain": [
       "        user_id  product_id  reordered  proportion\n",
       "0             2          26          1    0.038462\n",
       "1             4           2          0    0.000000\n",
       "2             5          12          8    0.666667\n",
       "3             6           4          0    0.000000\n",
       "4             7          14         13    0.928571\n",
       "...         ...         ...        ...         ...\n",
       "149621   206203          27          6    0.222222\n",
       "149622   206206          21         15    0.714286\n",
       "149623   206207          46         41    0.891304\n",
       "149624   206208         125         87    0.696000\n",
       "149625   206209          25          8    0.320000\n",
       "\n",
       "[149626 rows x 4 columns]"
      ]
     },
     "execution_count": 63,
     "metadata": {},
     "output_type": "execute_result"
    }
   ],
   "source": [
    "_merged_=total_order.merge(_final_reordered, on='user_id')\n",
    "_merged_['proportion']=_merged_['reordered']/_merged_['product_id']\n",
    "_merged_"
   ]
  },
  {
   "cell_type": "markdown",
   "id": "BgJSvXDsleXz",
   "metadata": {
    "id": "BgJSvXDsleXz"
   },
   "source": [
    "Escribe aquí tus conclusiones\n",
    "Se puede observar que hay una gran cadidad de clientes que piden siempre en el mismo orden, ya que las proporciones son grandes. Se observa que los clientes que hacen más compras tienen una proporción mayor a los que tienen pocas compras. \n"
   ]
  },
  {
   "cell_type": "markdown",
   "id": "92d35137",
   "metadata": {
    "id": "92d35137"
   },
   "source": [
    "### [C5] ¿Cuáles son los 20 principales artículos que las personas ponen primero en sus carritos?"
   ]
  },
  {
   "cell_type": "code",
   "execution_count": 64,
   "id": "426ab425",
   "metadata": {},
   "outputs": [
    {
     "ename": "NameError",
     "evalue": "name 'df_merged_' is not defined",
     "output_type": "error",
     "traceback": [
      "\u001b[0;31m---------------------------------------------------------------------------\u001b[0m",
      "\u001b[0;31mNameError\u001b[0m                                 Traceback (most recent call last)",
      "Cell \u001b[0;32mIn[64], line 6\u001b[0m\n\u001b[1;32m      1\u001b[0m first\u001b[38;5;241m=\u001b[39mdf_order_products[df_order_products[\u001b[38;5;124m'\u001b[39m\u001b[38;5;124madd_to_cart_order\u001b[39m\u001b[38;5;124m'\u001b[39m]\u001b[38;5;241m==\u001b[39m\u001b[38;5;241m1\u001b[39m]\n\u001b[1;32m      3\u001b[0m df_merged\u001b[38;5;241m=\u001b[39mdf_products\u001b[38;5;241m.\u001b[39mmerge(first,\n\u001b[1;32m      4\u001b[0m                            on\u001b[38;5;241m=\u001b[39m\u001b[38;5;124m'\u001b[39m\u001b[38;5;124mproduct_id\u001b[39m\u001b[38;5;124m'\u001b[39m)\n\u001b[0;32m----> 6\u001b[0m first_products\u001b[38;5;241m=\u001b[39m\u001b[43mdf_merged_\u001b[49m[\u001b[38;5;124m'\u001b[39m\u001b[38;5;124mproduct_name\u001b[39m\u001b[38;5;124m'\u001b[39m]\u001b[38;5;241m.\u001b[39mvalue_counts()\u001b[38;5;241m.\u001b[39mreset_index()\n\u001b[1;32m      7\u001b[0m first_products\u001b[38;5;241m.\u001b[39mcolumns\u001b[38;5;241m=\u001b[39m[\u001b[38;5;124m'\u001b[39m\u001b[38;5;124mproduct_name\u001b[39m\u001b[38;5;124m'\u001b[39m,\u001b[38;5;124m'\u001b[39m\u001b[38;5;124mcount\u001b[39m\u001b[38;5;124m'\u001b[39m]\n\u001b[1;32m      9\u001b[0m top_products_added\u001b[38;5;241m=\u001b[39mfirst_products\u001b[38;5;241m.\u001b[39msort_values(by\u001b[38;5;241m=\u001b[39m\u001b[38;5;124m'\u001b[39m\u001b[38;5;124mcount\u001b[39m\u001b[38;5;124m'\u001b[39m, ascending\u001b[38;5;241m=\u001b[39m\u001b[38;5;28;01mFalse\u001b[39;00m)\u001b[38;5;241m.\u001b[39mhead(\u001b[38;5;241m20\u001b[39m)\n",
      "\u001b[0;31mNameError\u001b[0m: name 'df_merged_' is not defined"
     ]
    }
   ],
   "source": [
    "first=df_order_products[df_order_products['add_to_cart_order']==1]\n",
    "\n",
    "df_merged=df_products.merge(first,\n",
    "                           on='product_id')\n",
    "\n",
    "first_products=df_merged_['product_name'].value_counts().reset_index()\n",
    "first_products.columns=['product_name','count']\n",
    "\n",
    "top_products_added=first_products.sort_values(by='count', ascending=False).head(20)\n",
    "top_products_added\n"
   ]
  },
  {
   "cell_type": "markdown",
   "id": "28ce9872",
   "metadata": {
    "id": "28ce9872"
   },
   "source": [
    "Escribe aquí tus conclusiones\n",
    "Se observa que los primeros productos que se agregan en primer lugar coinciden en su mayoría con los 20 productos más vendidos y reordenados."
   ]
  },
  {
   "cell_type": "markdown",
   "id": "uITbFCEoDosC",
   "metadata": {
    "id": "uITbFCEoDosC"
   },
   "source": [
    "### Conclusion general del proyecto:\n",
    "Con la realización de este proyecto se tuvo un acercamiento a lo que es el análisis de datos, ya que se realizó el análisis de diferenvendidoasrames mediante el prreodenanmiento de los mismos al observar en primer lugar los datos ausentes y duplicados y arreglando estos problemas con los métodos correspondientes.\n",
    "En segundo lugar se observaron patrones en los dataframes como por qué podría haber los valores ausentes \n",
    "y duplicados. \n",
    "Se procedió a realizar ejercicios y observar gráficamente el comportamiento de las órdenes de productos se observó cuales son los productos más vendidoas así como los que más se reordenan y aquellos que se ponen en primer lugar en los carritos de compras en donde se observó la preferencias de los clientes por frutas y verduras.\n",
    "También se observaron distintas proporciones en los artículos que se reodenan por producto y por usuario.\n",
    "Finalmente se pudo observar que en la mayoría de los casos es mucho más fácil en análisis de los datos cuando se grafican porque con el metodo info() se puede observar muy poco y observando por partes los datos se pueden llegar a conclusiones más efectivas o más reales."
   ]
  }
 ],
 "metadata": {
  "ExecuteTimeLog": [
   {
    "duration": 342,
    "start_time": "2024-11-12T01:47:59.529Z"
   },
   {
    "duration": 2831,
    "start_time": "2024-11-12T01:48:52.346Z"
   },
   {
    "duration": 9,
    "start_time": "2024-11-12T01:50:11.742Z"
   },
   {
    "duration": 914,
    "start_time": "2024-11-12T01:53:18.037Z"
   },
   {
    "duration": 8,
    "start_time": "2024-11-12T01:53:20.456Z"
   },
   {
    "duration": 9,
    "start_time": "2024-11-12T01:55:23.380Z"
   },
   {
    "duration": 21,
    "start_time": "2024-11-12T02:04:17.806Z"
   },
   {
    "duration": 11,
    "start_time": "2024-11-12T02:05:27.997Z"
   },
   {
    "duration": 10,
    "start_time": "2024-11-12T02:05:52.535Z"
   },
   {
    "duration": 6,
    "start_time": "2024-11-12T02:06:07.038Z"
   },
   {
    "duration": 10,
    "start_time": "2024-11-12T02:06:23.736Z"
   },
   {
    "duration": 14,
    "start_time": "2024-11-12T02:06:32.640Z"
   },
   {
    "duration": 14,
    "start_time": "2024-11-12T02:06:43.335Z"
   },
   {
    "duration": 14,
    "start_time": "2024-11-12T02:07:41.410Z"
   },
   {
    "duration": 84,
    "start_time": "2024-11-12T02:09:56.943Z"
   },
   {
    "duration": 81,
    "start_time": "2024-11-12T02:16:20.451Z"
   },
   {
    "duration": 80,
    "start_time": "2024-11-12T02:16:31.398Z"
   },
   {
    "duration": 78,
    "start_time": "2024-11-12T02:16:36.152Z"
   },
   {
    "duration": 14,
    "start_time": "2024-11-12T02:18:25.088Z"
   },
   {
    "duration": 80,
    "start_time": "2024-11-12T02:19:15.398Z"
   },
   {
    "duration": 15,
    "start_time": "2024-11-12T02:27:18.340Z"
   },
   {
    "duration": 12,
    "start_time": "2024-11-12T02:34:31.618Z"
   },
   {
    "duration": 9,
    "start_time": "2024-11-12T02:34:44.881Z"
   },
   {
    "duration": 837,
    "start_time": "2024-11-12T02:40:02.205Z"
   },
   {
    "duration": 17,
    "start_time": "2024-11-12T02:40:27.290Z"
   },
   {
    "duration": 8,
    "start_time": "2024-11-12T02:40:46.925Z"
   },
   {
    "duration": 8,
    "start_time": "2024-11-12T02:41:20.859Z"
   },
   {
    "duration": 91,
    "start_time": "2024-11-12T02:42:11.706Z"
   },
   {
    "duration": 11,
    "start_time": "2024-11-12T02:42:16.315Z"
   },
   {
    "duration": 9,
    "start_time": "2024-11-12T02:42:28.933Z"
   },
   {
    "duration": 161,
    "start_time": "2024-11-12T18:20:56.542Z"
   },
   {
    "duration": 12,
    "start_time": "2024-11-12T18:20:59.222Z"
   },
   {
    "duration": 13,
    "start_time": "2024-11-12T18:21:15.675Z"
   },
   {
    "duration": 13,
    "start_time": "2024-11-12T18:21:23.861Z"
   },
   {
    "duration": 13,
    "start_time": "2024-11-12T19:19:01.631Z"
   },
   {
    "duration": 303,
    "start_time": "2024-11-12T19:19:21.007Z"
   },
   {
    "duration": 991,
    "start_time": "2024-11-12T19:19:22.581Z"
   },
   {
    "duration": 19,
    "start_time": "2024-11-12T19:19:24.300Z"
   },
   {
    "duration": 13,
    "start_time": "2024-11-12T19:19:28.284Z"
   },
   {
    "duration": 75,
    "start_time": "2024-11-12T19:19:31.978Z"
   },
   {
    "duration": 13,
    "start_time": "2024-11-12T19:19:37.694Z"
   },
   {
    "duration": 13,
    "start_time": "2024-11-12T19:19:38.971Z"
   },
   {
    "duration": 10,
    "start_time": "2024-11-12T19:19:39.777Z"
   },
   {
    "duration": 484,
    "start_time": "2024-11-12T19:19:40.425Z"
   },
   {
    "duration": 11,
    "start_time": "2024-11-12T19:19:43.680Z"
   },
   {
    "duration": 9,
    "start_time": "2024-11-12T19:19:44.476Z"
   },
   {
    "duration": 12,
    "start_time": "2024-11-12T19:19:45.426Z"
   },
   {
    "duration": 10,
    "start_time": "2024-11-12T19:19:48.584Z"
   },
   {
    "duration": 9,
    "start_time": "2024-11-12T22:29:21.048Z"
   },
   {
    "duration": 6,
    "start_time": "2024-11-12T22:29:37.969Z"
   },
   {
    "duration": 163,
    "start_time": "2024-11-12T22:29:54.313Z"
   },
   {
    "duration": 12,
    "start_time": "2024-11-12T22:30:30.059Z"
   },
   {
    "duration": 11,
    "start_time": "2024-11-12T22:30:47.323Z"
   },
   {
    "duration": 283,
    "start_time": "2024-11-12T22:30:53.809Z"
   },
   {
    "duration": 1172,
    "start_time": "2024-11-12T22:30:55.054Z"
   },
   {
    "duration": 98,
    "start_time": "2024-11-12T22:31:02.543Z"
   },
   {
    "duration": 182,
    "start_time": "2024-11-12T22:31:50.342Z"
   },
   {
    "duration": 186,
    "start_time": "2024-11-12T22:51:03.226Z"
   },
   {
    "duration": 22,
    "start_time": "2024-11-12T23:02:38.905Z"
   },
   {
    "duration": 12,
    "start_time": "2024-11-12T23:38:15.237Z"
   },
   {
    "duration": 6,
    "start_time": "2024-11-12T23:38:32.430Z"
   },
   {
    "duration": 6,
    "start_time": "2024-11-12T23:46:33.940Z"
   },
   {
    "duration": 8,
    "start_time": "2024-11-12T23:46:42.147Z"
   },
   {
    "duration": 120,
    "start_time": "2024-11-13T00:17:54.262Z"
   },
   {
    "duration": 102,
    "start_time": "2024-11-13T00:18:23.434Z"
   },
   {
    "duration": 112,
    "start_time": "2024-11-13T00:18:47.804Z"
   },
   {
    "duration": 103,
    "start_time": "2024-11-13T00:18:51.276Z"
   },
   {
    "duration": 116,
    "start_time": "2024-11-13T00:19:16.519Z"
   },
   {
    "duration": 115,
    "start_time": "2024-11-13T00:19:35.320Z"
   },
   {
    "duration": 130,
    "start_time": "2024-11-13T00:20:39.209Z"
   },
   {
    "duration": 104,
    "start_time": "2024-11-13T00:21:03.750Z"
   },
   {
    "duration": 121,
    "start_time": "2024-11-13T00:21:09.295Z"
   },
   {
    "duration": 119,
    "start_time": "2024-11-13T00:21:38.988Z"
   },
   {
    "duration": 107,
    "start_time": "2024-11-13T00:21:43.324Z"
   },
   {
    "duration": 110,
    "start_time": "2024-11-13T00:22:49.305Z"
   },
   {
    "duration": 103,
    "start_time": "2024-11-13T00:22:53.188Z"
   },
   {
    "duration": 105,
    "start_time": "2024-11-13T00:24:52.250Z"
   },
   {
    "duration": 112,
    "start_time": "2024-11-13T00:25:46.062Z"
   },
   {
    "duration": 96,
    "start_time": "2024-11-13T00:25:49.135Z"
   },
   {
    "duration": 98,
    "start_time": "2024-11-13T00:27:11.035Z"
   },
   {
    "duration": 48,
    "start_time": "2024-11-13T00:30:41.218Z"
   },
   {
    "duration": 41,
    "start_time": "2024-11-13T00:37:40.261Z"
   },
   {
    "duration": 44,
    "start_time": "2024-11-13T00:39:43.063Z"
   },
   {
    "duration": 41,
    "start_time": "2024-11-13T00:40:23.277Z"
   },
   {
    "duration": 78,
    "start_time": "2024-11-13T00:40:41.570Z"
   },
   {
    "duration": 42,
    "start_time": "2024-11-13T00:41:09.047Z"
   },
   {
    "duration": 104,
    "start_time": "2024-11-13T01:00:30.402Z"
   },
   {
    "duration": 55,
    "start_time": "2024-11-13T01:00:38.257Z"
   },
   {
    "duration": 15,
    "start_time": "2024-11-13T01:59:41.718Z"
   },
   {
    "duration": 5,
    "start_time": "2024-11-13T02:00:36.558Z"
   },
   {
    "duration": 94,
    "start_time": "2024-11-13T02:01:31.089Z"
   },
   {
    "duration": 192,
    "start_time": "2024-11-13T02:01:40.870Z"
   },
   {
    "duration": 124,
    "start_time": "2024-11-13T02:02:27.546Z"
   },
   {
    "duration": 104,
    "start_time": "2024-11-13T02:02:39.931Z"
   },
   {
    "duration": 14,
    "start_time": "2024-11-13T02:03:04.852Z"
   },
   {
    "duration": 16,
    "start_time": "2024-11-13T02:04:28.127Z"
   },
   {
    "duration": 13,
    "start_time": "2024-11-13T02:05:06.052Z"
   },
   {
    "duration": 13,
    "start_time": "2024-11-13T02:05:40.449Z"
   },
   {
    "duration": 28,
    "start_time": "2024-11-13T02:05:54.138Z"
   },
   {
    "duration": 3,
    "start_time": "2024-11-13T02:06:01.942Z"
   },
   {
    "duration": 851,
    "start_time": "2024-11-13T02:06:03.445Z"
   },
   {
    "duration": 274,
    "start_time": "2024-11-13T02:06:12.309Z"
   },
   {
    "duration": 881,
    "start_time": "2024-11-13T02:06:13.681Z"
   },
   {
    "duration": 21,
    "start_time": "2024-11-13T02:06:18.238Z"
   },
   {
    "duration": 78,
    "start_time": "2024-11-13T02:06:23.259Z"
   },
   {
    "duration": 14,
    "start_time": "2024-11-13T02:06:23.956Z"
   },
   {
    "duration": 14,
    "start_time": "2024-11-13T02:06:25.809Z"
   },
   {
    "duration": 10,
    "start_time": "2024-11-13T02:06:27.357Z"
   },
   {
    "duration": 512,
    "start_time": "2024-11-13T02:06:28.255Z"
   },
   {
    "duration": 13,
    "start_time": "2024-11-13T02:06:29.589Z"
   },
   {
    "duration": 9,
    "start_time": "2024-11-13T02:06:30.238Z"
   },
   {
    "duration": 10,
    "start_time": "2024-11-13T02:06:30.930Z"
   },
   {
    "duration": 8,
    "start_time": "2024-11-13T02:06:31.732Z"
   },
   {
    "duration": 176,
    "start_time": "2024-11-13T02:06:36.985Z"
   },
   {
    "duration": 8,
    "start_time": "2024-11-13T02:06:42.361Z"
   },
   {
    "duration": 99,
    "start_time": "2024-11-13T02:06:51.839Z"
   },
   {
    "duration": 93,
    "start_time": "2024-11-13T02:06:59.500Z"
   },
   {
    "duration": 55,
    "start_time": "2024-11-13T02:07:01.932Z"
   },
   {
    "duration": 15,
    "start_time": "2024-11-13T02:07:17.686Z"
   },
   {
    "duration": 5,
    "start_time": "2024-11-13T02:07:21.637Z"
   },
   {
    "duration": 21,
    "start_time": "2024-11-13T02:26:29.523Z"
   },
   {
    "duration": 14,
    "start_time": "2024-11-13T02:26:46.018Z"
   },
   {
    "duration": 20,
    "start_time": "2024-11-13T02:27:07.256Z"
   },
   {
    "duration": 85,
    "start_time": "2024-11-13T02:51:18.765Z"
   },
   {
    "duration": 3,
    "start_time": "2024-11-13T02:51:24.778Z"
   },
   {
    "duration": 5,
    "start_time": "2024-11-13T02:52:52.427Z"
   },
   {
    "duration": 4,
    "start_time": "2024-11-13T02:53:07.249Z"
   },
   {
    "duration": 4,
    "start_time": "2024-11-13T02:53:19.123Z"
   },
   {
    "duration": 4,
    "start_time": "2024-11-13T02:53:24.707Z"
   },
   {
    "duration": 4,
    "start_time": "2024-11-13T02:54:00.326Z"
   },
   {
    "duration": 330,
    "start_time": "2024-11-13T02:55:36.757Z"
   },
   {
    "duration": 4,
    "start_time": "2024-11-13T02:55:44.572Z"
   },
   {
    "duration": 4,
    "start_time": "2024-11-13T02:56:00.856Z"
   },
   {
    "duration": 4,
    "start_time": "2024-11-13T02:56:09.738Z"
   },
   {
    "duration": 4,
    "start_time": "2024-11-13T02:56:14.786Z"
   },
   {
    "duration": 13,
    "start_time": "2024-11-13T02:56:55.805Z"
   },
   {
    "duration": 3,
    "start_time": "2024-11-13T02:57:02.122Z"
   },
   {
    "duration": 829,
    "start_time": "2024-11-13T02:58:18.631Z"
   },
   {
    "duration": 779,
    "start_time": "2024-11-13T02:59:23.322Z"
   },
   {
    "duration": 13,
    "start_time": "2024-11-13T02:59:52.945Z"
   },
   {
    "duration": 787,
    "start_time": "2024-11-13T03:00:33.060Z"
   },
   {
    "duration": 2,
    "start_time": "2024-11-13T03:44:11.017Z"
   },
   {
    "duration": 237,
    "start_time": "2024-11-13T04:04:34.623Z"
   },
   {
    "duration": 25,
    "start_time": "2024-11-13T04:04:51.268Z"
   },
   {
    "duration": 24,
    "start_time": "2024-11-13T04:07:11.951Z"
   },
   {
    "duration": 5,
    "start_time": "2024-11-13T04:08:26.201Z"
   },
   {
    "duration": 4,
    "start_time": "2024-11-13T04:10:48.557Z"
   },
   {
    "duration": 7,
    "start_time": "2024-11-13T04:11:27.801Z"
   },
   {
    "duration": 163,
    "start_time": "2024-11-13T04:12:00.937Z"
   },
   {
    "duration": 306,
    "start_time": "2024-11-13T04:12:29.279Z"
   },
   {
    "duration": 893,
    "start_time": "2024-11-13T04:12:29.587Z"
   },
   {
    "duration": 20,
    "start_time": "2024-11-13T04:12:30.481Z"
   },
   {
    "duration": 92,
    "start_time": "2024-11-13T04:12:30.502Z"
   },
   {
    "duration": 12,
    "start_time": "2024-11-13T04:12:30.597Z"
   },
   {
    "duration": 14,
    "start_time": "2024-11-13T04:12:30.831Z"
   },
   {
    "duration": 10,
    "start_time": "2024-11-13T04:12:30.847Z"
   },
   {
    "duration": 508,
    "start_time": "2024-11-13T04:12:30.859Z"
   },
   {
    "duration": 11,
    "start_time": "2024-11-13T04:12:31.369Z"
   },
   {
    "duration": 8,
    "start_time": "2024-11-13T04:12:31.383Z"
   },
   {
    "duration": 15,
    "start_time": "2024-11-13T04:12:31.393Z"
   },
   {
    "duration": 9,
    "start_time": "2024-11-13T04:12:31.431Z"
   },
   {
    "duration": 204,
    "start_time": "2024-11-13T04:12:31.441Z"
   },
   {
    "duration": 8,
    "start_time": "2024-11-13T04:12:31.647Z"
   },
   {
    "duration": 126,
    "start_time": "2024-11-13T04:12:31.657Z"
   },
   {
    "duration": 103,
    "start_time": "2024-11-13T04:12:31.785Z"
   },
   {
    "duration": 52,
    "start_time": "2024-11-13T04:12:31.890Z"
   },
   {
    "duration": 18,
    "start_time": "2024-11-13T04:12:31.943Z"
   },
   {
    "duration": 5,
    "start_time": "2024-11-13T04:12:31.965Z"
   },
   {
    "duration": 23,
    "start_time": "2024-11-13T04:12:31.972Z"
   },
   {
    "duration": 49,
    "start_time": "2024-11-13T04:12:31.997Z"
   },
   {
    "duration": 4,
    "start_time": "2024-11-13T04:12:32.048Z"
   },
   {
    "duration": 4,
    "start_time": "2024-11-13T04:12:32.053Z"
   },
   {
    "duration": 4,
    "start_time": "2024-11-13T04:12:32.058Z"
   },
   {
    "duration": 4,
    "start_time": "2024-11-13T04:12:32.063Z"
   },
   {
    "duration": 833,
    "start_time": "2024-11-13T04:12:32.068Z"
   },
   {
    "duration": 3,
    "start_time": "2024-11-13T04:12:32.903Z"
   },
   {
    "duration": 3,
    "start_time": "2024-11-13T04:12:32.907Z"
   },
   {
    "duration": 3,
    "start_time": "2024-11-13T04:12:32.911Z"
   },
   {
    "duration": 2,
    "start_time": "2024-11-13T04:12:32.931Z"
   },
   {
    "duration": 3,
    "start_time": "2024-11-13T04:12:32.935Z"
   },
   {
    "duration": 2,
    "start_time": "2024-11-13T04:12:32.939Z"
   },
   {
    "duration": 2,
    "start_time": "2024-11-13T04:12:32.943Z"
   },
   {
    "duration": 3,
    "start_time": "2024-11-13T04:12:32.947Z"
   },
   {
    "duration": 3,
    "start_time": "2024-11-13T04:12:32.951Z"
   },
   {
    "duration": 3,
    "start_time": "2024-11-13T04:12:32.955Z"
   },
   {
    "duration": 2,
    "start_time": "2024-11-13T04:12:32.959Z"
   },
   {
    "duration": 4,
    "start_time": "2024-11-13T04:12:32.963Z"
   },
   {
    "duration": 3,
    "start_time": "2024-11-13T04:12:32.968Z"
   },
   {
    "duration": 706,
    "start_time": "2024-11-13T04:18:31.941Z"
   },
   {
    "duration": 322,
    "start_time": "2024-11-13T04:33:58.236Z"
   },
   {
    "duration": 897,
    "start_time": "2024-11-13T04:33:58.560Z"
   },
   {
    "duration": 18,
    "start_time": "2024-11-13T04:33:59.459Z"
   },
   {
    "duration": 89,
    "start_time": "2024-11-13T04:33:59.478Z"
   },
   {
    "duration": 14,
    "start_time": "2024-11-13T04:33:59.569Z"
   },
   {
    "duration": 14,
    "start_time": "2024-11-13T04:33:59.585Z"
   },
   {
    "duration": 32,
    "start_time": "2024-11-13T04:33:59.601Z"
   },
   {
    "duration": 515,
    "start_time": "2024-11-13T04:33:59.634Z"
   },
   {
    "duration": 13,
    "start_time": "2024-11-13T04:34:00.150Z"
   },
   {
    "duration": 9,
    "start_time": "2024-11-13T04:34:00.165Z"
   },
   {
    "duration": 11,
    "start_time": "2024-11-13T04:34:00.176Z"
   },
   {
    "duration": 9,
    "start_time": "2024-11-13T04:34:00.189Z"
   },
   {
    "duration": 220,
    "start_time": "2024-11-13T04:34:00.200Z"
   },
   {
    "duration": 8,
    "start_time": "2024-11-13T04:34:00.430Z"
   },
   {
    "duration": 107,
    "start_time": "2024-11-13T04:34:00.440Z"
   },
   {
    "duration": 103,
    "start_time": "2024-11-13T04:34:00.550Z"
   },
   {
    "duration": 50,
    "start_time": "2024-11-13T04:34:00.655Z"
   },
   {
    "duration": 26,
    "start_time": "2024-11-13T04:34:00.707Z"
   },
   {
    "duration": 5,
    "start_time": "2024-11-13T04:34:00.736Z"
   },
   {
    "duration": 26,
    "start_time": "2024-11-13T04:34:00.743Z"
   },
   {
    "duration": 28,
    "start_time": "2024-11-13T04:34:00.771Z"
   },
   {
    "duration": 3,
    "start_time": "2024-11-13T04:34:00.801Z"
   },
   {
    "duration": 28,
    "start_time": "2024-11-13T04:34:00.806Z"
   },
   {
    "duration": 4,
    "start_time": "2024-11-13T04:34:00.836Z"
   },
   {
    "duration": 4,
    "start_time": "2024-11-13T04:34:00.841Z"
   },
   {
    "duration": 840,
    "start_time": "2024-11-13T04:34:00.846Z"
   },
   {
    "duration": 733,
    "start_time": "2024-11-13T04:34:01.687Z"
   },
   {
    "duration": 2,
    "start_time": "2024-11-13T04:34:02.422Z"
   },
   {
    "duration": 2,
    "start_time": "2024-11-13T04:34:02.431Z"
   },
   {
    "duration": 3,
    "start_time": "2024-11-13T04:34:02.435Z"
   },
   {
    "duration": 3,
    "start_time": "2024-11-13T04:34:02.439Z"
   },
   {
    "duration": 3,
    "start_time": "2024-11-13T04:34:02.443Z"
   },
   {
    "duration": 2,
    "start_time": "2024-11-13T04:34:02.448Z"
   },
   {
    "duration": 3,
    "start_time": "2024-11-13T04:34:02.451Z"
   },
   {
    "duration": 2,
    "start_time": "2024-11-13T04:34:02.455Z"
   },
   {
    "duration": 3,
    "start_time": "2024-11-13T04:34:02.459Z"
   },
   {
    "duration": 3,
    "start_time": "2024-11-13T04:34:02.463Z"
   },
   {
    "duration": 2,
    "start_time": "2024-11-13T04:34:02.468Z"
   },
   {
    "duration": 2,
    "start_time": "2024-11-13T04:34:02.472Z"
   },
   {
    "duration": 12,
    "start_time": "2024-11-13T04:37:35.083Z"
   },
   {
    "duration": 1803,
    "start_time": "2024-11-13T04:37:54.029Z"
   },
   {
    "duration": 12,
    "start_time": "2024-11-13T04:38:02.298Z"
   },
   {
    "duration": 571,
    "start_time": "2024-11-13T04:38:18.447Z"
   },
   {
    "duration": 41,
    "start_time": "2024-11-13T04:38:28.220Z"
   },
   {
    "duration": 11,
    "start_time": "2024-11-13T04:38:35.503Z"
   },
   {
    "duration": 42,
    "start_time": "2024-11-13T04:52:47.781Z"
   },
   {
    "duration": 12,
    "start_time": "2024-11-13T04:53:20.037Z"
   },
   {
    "duration": 6,
    "start_time": "2024-11-13T04:53:59.050Z"
   },
   {
    "duration": 6,
    "start_time": "2024-11-13T04:54:06.945Z"
   },
   {
    "duration": 12,
    "start_time": "2024-11-13T04:54:19.217Z"
   },
   {
    "duration": 17,
    "start_time": "2024-11-13T04:56:01.769Z"
   },
   {
    "duration": 3,
    "start_time": "2024-11-13T04:56:33.362Z"
   },
   {
    "duration": 4,
    "start_time": "2024-11-13T04:56:55.939Z"
   },
   {
    "duration": 43,
    "start_time": "2024-11-13T05:07:46.768Z"
   },
   {
    "duration": 4,
    "start_time": "2024-11-13T05:08:36.575Z"
   },
   {
    "duration": 3,
    "start_time": "2024-11-13T05:09:26.375Z"
   },
   {
    "duration": 10,
    "start_time": "2024-11-13T05:13:07.751Z"
   },
   {
    "duration": 7,
    "start_time": "2024-11-13T05:13:53.369Z"
   },
   {
    "duration": 4,
    "start_time": "2024-11-13T05:23:07.585Z"
   },
   {
    "duration": 4,
    "start_time": "2024-11-13T05:23:16.576Z"
   },
   {
    "duration": 159,
    "start_time": "2024-11-13T14:31:35.933Z"
   },
   {
    "duration": 354,
    "start_time": "2024-11-13T14:32:08.232Z"
   },
   {
    "duration": 1307,
    "start_time": "2024-11-13T14:32:08.590Z"
   },
   {
    "duration": 19,
    "start_time": "2024-11-13T14:32:09.898Z"
   },
   {
    "duration": 94,
    "start_time": "2024-11-13T14:32:09.920Z"
   },
   {
    "duration": 16,
    "start_time": "2024-11-13T14:32:10.016Z"
   },
   {
    "duration": 16,
    "start_time": "2024-11-13T14:32:10.033Z"
   },
   {
    "duration": 28,
    "start_time": "2024-11-13T14:32:10.050Z"
   },
   {
    "duration": 499,
    "start_time": "2024-11-13T14:32:10.080Z"
   },
   {
    "duration": 12,
    "start_time": "2024-11-13T14:32:10.581Z"
   },
   {
    "duration": 9,
    "start_time": "2024-11-13T14:32:10.597Z"
   },
   {
    "duration": 10,
    "start_time": "2024-11-13T14:32:10.608Z"
   },
   {
    "duration": 8,
    "start_time": "2024-11-13T14:32:10.620Z"
   },
   {
    "duration": 219,
    "start_time": "2024-11-13T14:32:10.630Z"
   },
   {
    "duration": 9,
    "start_time": "2024-11-13T14:32:10.852Z"
   },
   {
    "duration": 102,
    "start_time": "2024-11-13T14:32:10.869Z"
   },
   {
    "duration": 86,
    "start_time": "2024-11-13T14:32:10.973Z"
   },
   {
    "duration": 59,
    "start_time": "2024-11-13T14:32:11.070Z"
   },
   {
    "duration": 14,
    "start_time": "2024-11-13T14:32:11.131Z"
   },
   {
    "duration": 22,
    "start_time": "2024-11-13T14:32:11.147Z"
   },
   {
    "duration": 30,
    "start_time": "2024-11-13T14:32:11.171Z"
   },
   {
    "duration": 32,
    "start_time": "2024-11-13T14:32:11.204Z"
   },
   {
    "duration": 4,
    "start_time": "2024-11-13T14:32:11.238Z"
   },
   {
    "duration": 27,
    "start_time": "2024-11-13T14:32:11.243Z"
   },
   {
    "duration": 4,
    "start_time": "2024-11-13T14:32:11.272Z"
   },
   {
    "duration": 4,
    "start_time": "2024-11-13T14:32:11.278Z"
   },
   {
    "duration": 985,
    "start_time": "2024-11-13T14:32:11.284Z"
   },
   {
    "duration": 745,
    "start_time": "2024-11-13T14:32:12.271Z"
   },
   {
    "duration": 6,
    "start_time": "2024-11-13T14:32:16.735Z"
   },
   {
    "duration": 9,
    "start_time": "2024-11-13T14:32:25.478Z"
   },
   {
    "duration": 3,
    "start_time": "2024-11-13T14:32:42.411Z"
   },
   {
    "duration": 3,
    "start_time": "2024-11-13T14:33:04.354Z"
   },
   {
    "duration": 11,
    "start_time": "2024-11-13T14:33:46.149Z"
   },
   {
    "duration": 9,
    "start_time": "2024-11-13T14:34:00.636Z"
   },
   {
    "duration": 10,
    "start_time": "2024-11-13T14:36:01.860Z"
   },
   {
    "duration": 4,
    "start_time": "2024-11-13T14:36:04.924Z"
   },
   {
    "duration": 3,
    "start_time": "2024-11-13T14:36:07.367Z"
   },
   {
    "duration": 9,
    "start_time": "2024-11-13T14:36:11.838Z"
   },
   {
    "duration": 7,
    "start_time": "2024-11-13T14:41:50.910Z"
   },
   {
    "duration": 11,
    "start_time": "2024-11-13T14:42:17.564Z"
   },
   {
    "duration": 8,
    "start_time": "2024-11-13T14:44:11.297Z"
   },
   {
    "duration": 7,
    "start_time": "2024-11-13T14:48:06.082Z"
   },
   {
    "duration": 313,
    "start_time": "2024-11-13T14:48:28.275Z"
   },
   {
    "duration": 929,
    "start_time": "2024-11-13T14:48:28.590Z"
   },
   {
    "duration": 23,
    "start_time": "2024-11-13T14:48:29.521Z"
   },
   {
    "duration": 95,
    "start_time": "2024-11-13T14:48:29.548Z"
   },
   {
    "duration": 23,
    "start_time": "2024-11-13T14:48:29.646Z"
   },
   {
    "duration": 19,
    "start_time": "2024-11-13T14:48:29.671Z"
   },
   {
    "duration": 21,
    "start_time": "2024-11-13T14:48:29.692Z"
   },
   {
    "duration": 513,
    "start_time": "2024-11-13T14:48:29.715Z"
   },
   {
    "duration": 12,
    "start_time": "2024-11-13T14:48:30.229Z"
   },
   {
    "duration": 9,
    "start_time": "2024-11-13T14:48:30.244Z"
   },
   {
    "duration": 13,
    "start_time": "2024-11-13T14:48:30.270Z"
   },
   {
    "duration": 9,
    "start_time": "2024-11-13T14:48:30.285Z"
   },
   {
    "duration": 205,
    "start_time": "2024-11-13T14:48:30.296Z"
   },
   {
    "duration": 8,
    "start_time": "2024-11-13T14:48:30.503Z"
   },
   {
    "duration": 129,
    "start_time": "2024-11-13T14:48:30.512Z"
   },
   {
    "duration": 99,
    "start_time": "2024-11-13T14:48:30.643Z"
   },
   {
    "duration": 64,
    "start_time": "2024-11-13T14:48:30.744Z"
   },
   {
    "duration": 12,
    "start_time": "2024-11-13T14:48:30.810Z"
   },
   {
    "duration": 6,
    "start_time": "2024-11-13T14:48:30.824Z"
   },
   {
    "duration": 42,
    "start_time": "2024-11-13T14:48:30.833Z"
   },
   {
    "duration": 25,
    "start_time": "2024-11-13T14:48:30.876Z"
   },
   {
    "duration": 3,
    "start_time": "2024-11-13T14:48:30.903Z"
   },
   {
    "duration": 3,
    "start_time": "2024-11-13T14:48:30.908Z"
   },
   {
    "duration": 3,
    "start_time": "2024-11-13T14:48:30.913Z"
   },
   {
    "duration": 3,
    "start_time": "2024-11-13T14:48:30.918Z"
   },
   {
    "duration": 832,
    "start_time": "2024-11-13T14:48:30.923Z"
   },
   {
    "duration": 697,
    "start_time": "2024-11-13T14:48:31.757Z"
   },
   {
    "duration": 16,
    "start_time": "2024-11-13T14:48:32.458Z"
   },
   {
    "duration": 4,
    "start_time": "2024-11-13T14:48:32.475Z"
   },
   {
    "duration": 3,
    "start_time": "2024-11-13T14:48:32.480Z"
   },
   {
    "duration": 8,
    "start_time": "2024-11-13T14:48:32.485Z"
   },
   {
    "duration": 9,
    "start_time": "2024-11-13T14:48:32.496Z"
   },
   {
    "duration": 7,
    "start_time": "2024-11-13T14:48:32.508Z"
   },
   {
    "duration": 62,
    "start_time": "2024-11-13T14:48:32.517Z"
   },
   {
    "duration": 2,
    "start_time": "2024-11-13T14:48:32.582Z"
   },
   {
    "duration": 2,
    "start_time": "2024-11-13T14:48:32.586Z"
   },
   {
    "duration": 2,
    "start_time": "2024-11-13T14:48:32.590Z"
   },
   {
    "duration": 2,
    "start_time": "2024-11-13T14:48:32.594Z"
   },
   {
    "duration": 3,
    "start_time": "2024-11-13T14:48:32.597Z"
   },
   {
    "duration": 4,
    "start_time": "2024-11-13T14:48:32.601Z"
   },
   {
    "duration": 47,
    "start_time": "2024-11-13T14:48:47.507Z"
   },
   {
    "duration": 27,
    "start_time": "2024-11-13T14:49:16.283Z"
   },
   {
    "duration": 37,
    "start_time": "2024-11-13T14:49:49.636Z"
   },
   {
    "duration": 8,
    "start_time": "2024-11-13T14:50:40.975Z"
   },
   {
    "duration": 36,
    "start_time": "2024-11-13T14:50:49.573Z"
   },
   {
    "duration": 42,
    "start_time": "2024-11-13T14:51:13.156Z"
   },
   {
    "duration": 28,
    "start_time": "2024-11-13T14:51:32.487Z"
   },
   {
    "duration": 45,
    "start_time": "2024-11-13T15:08:16.628Z"
   },
   {
    "duration": 31,
    "start_time": "2024-11-13T15:12:41.536Z"
   },
   {
    "duration": 257,
    "start_time": "2024-11-13T15:45:34.981Z"
   },
   {
    "duration": 17,
    "start_time": "2024-11-13T15:45:42.932Z"
   },
   {
    "duration": 404,
    "start_time": "2024-11-13T15:45:50.828Z"
   },
   {
    "duration": 1417,
    "start_time": "2024-11-13T15:45:51.234Z"
   },
   {
    "duration": 31,
    "start_time": "2024-11-13T15:45:52.653Z"
   },
   {
    "duration": 103,
    "start_time": "2024-11-13T15:45:52.690Z"
   },
   {
    "duration": 26,
    "start_time": "2024-11-13T15:45:52.796Z"
   },
   {
    "duration": 20,
    "start_time": "2024-11-13T15:45:52.826Z"
   },
   {
    "duration": 16,
    "start_time": "2024-11-13T15:45:52.850Z"
   },
   {
    "duration": 633,
    "start_time": "2024-11-13T15:45:52.868Z"
   },
   {
    "duration": 22,
    "start_time": "2024-11-13T15:45:53.505Z"
   },
   {
    "duration": 13,
    "start_time": "2024-11-13T15:45:53.533Z"
   },
   {
    "duration": 14,
    "start_time": "2024-11-13T15:45:53.552Z"
   },
   {
    "duration": 15,
    "start_time": "2024-11-13T15:45:53.570Z"
   },
   {
    "duration": 282,
    "start_time": "2024-11-13T15:45:53.589Z"
   },
   {
    "duration": 10,
    "start_time": "2024-11-13T15:45:53.874Z"
   },
   {
    "duration": 164,
    "start_time": "2024-11-13T15:45:53.886Z"
   },
   {
    "duration": 144,
    "start_time": "2024-11-13T15:45:54.052Z"
   },
   {
    "duration": 80,
    "start_time": "2024-11-13T15:45:54.198Z"
   },
   {
    "duration": 21,
    "start_time": "2024-11-13T15:45:54.280Z"
   },
   {
    "duration": 5,
    "start_time": "2024-11-13T15:45:54.303Z"
   },
   {
    "duration": 47,
    "start_time": "2024-11-13T15:45:54.310Z"
   },
   {
    "duration": 39,
    "start_time": "2024-11-13T15:45:54.359Z"
   },
   {
    "duration": 6,
    "start_time": "2024-11-13T15:45:54.402Z"
   },
   {
    "duration": 18,
    "start_time": "2024-11-13T15:45:54.413Z"
   },
   {
    "duration": 4,
    "start_time": "2024-11-13T15:45:54.433Z"
   },
   {
    "duration": 4,
    "start_time": "2024-11-13T15:45:54.439Z"
   },
   {
    "duration": 1269,
    "start_time": "2024-11-13T15:45:54.445Z"
   },
   {
    "duration": 1053,
    "start_time": "2024-11-13T15:45:55.715Z"
   },
   {
    "duration": 9,
    "start_time": "2024-11-13T15:45:56.772Z"
   },
   {
    "duration": 5,
    "start_time": "2024-11-13T15:45:56.783Z"
   },
   {
    "duration": 4,
    "start_time": "2024-11-13T15:45:56.791Z"
   },
   {
    "duration": 11,
    "start_time": "2024-11-13T15:45:56.797Z"
   },
   {
    "duration": 14,
    "start_time": "2024-11-13T15:45:56.833Z"
   },
   {
    "duration": 8,
    "start_time": "2024-11-13T15:45:56.849Z"
   },
   {
    "duration": 47,
    "start_time": "2024-11-13T15:45:56.859Z"
   },
   {
    "duration": 4,
    "start_time": "2024-11-13T15:46:01.484Z"
   },
   {
    "duration": 252,
    "start_time": "2024-11-13T15:46:08.382Z"
   },
   {
    "duration": 39,
    "start_time": "2024-11-13T16:09:13.321Z"
   },
   {
    "duration": 11,
    "start_time": "2024-11-13T16:09:40.447Z"
   },
   {
    "duration": 28,
    "start_time": "2024-11-13T16:10:09.430Z"
   },
   {
    "duration": 33,
    "start_time": "2024-11-13T16:10:16.884Z"
   },
   {
    "duration": 22,
    "start_time": "2024-11-13T16:10:20.032Z"
   },
   {
    "duration": 31,
    "start_time": "2024-11-13T16:10:32.353Z"
   },
   {
    "duration": 11,
    "start_time": "2024-11-13T16:13:47.702Z"
   },
   {
    "duration": 5,
    "start_time": "2024-11-13T16:16:05.176Z"
   },
   {
    "duration": 41,
    "start_time": "2024-11-13T16:18:55.491Z"
   },
   {
    "duration": 13,
    "start_time": "2024-11-13T16:19:28.349Z"
   },
   {
    "duration": 6,
    "start_time": "2024-11-13T16:20:08.710Z"
   },
   {
    "duration": 24,
    "start_time": "2024-11-13T16:23:22.205Z"
   },
   {
    "duration": 14,
    "start_time": "2024-11-13T16:26:51.583Z"
   },
   {
    "duration": 510,
    "start_time": "2024-11-13T16:27:04.792Z"
   },
   {
    "duration": 196,
    "start_time": "2024-11-13T16:27:29.564Z"
   },
   {
    "duration": 19,
    "start_time": "2024-11-13T16:27:48.876Z"
   },
   {
    "duration": 33,
    "start_time": "2024-11-13T16:28:00.659Z"
   },
   {
    "duration": 33,
    "start_time": "2024-11-13T16:28:23.284Z"
   },
   {
    "duration": 5,
    "start_time": "2024-11-13T16:29:03.380Z"
   },
   {
    "duration": 4,
    "start_time": "2024-11-13T16:29:41.697Z"
   },
   {
    "duration": 33,
    "start_time": "2024-11-13T16:29:50.908Z"
   },
   {
    "duration": 8,
    "start_time": "2024-11-13T16:38:33.129Z"
   },
   {
    "duration": 13,
    "start_time": "2024-11-13T16:38:36.568Z"
   },
   {
    "duration": 3,
    "start_time": "2024-11-13T16:47:13.622Z"
   },
   {
    "duration": 4,
    "start_time": "2024-11-13T16:47:32.175Z"
   },
   {
    "duration": 5,
    "start_time": "2024-11-13T16:48:27.596Z"
   },
   {
    "duration": 192,
    "start_time": "2024-11-13T16:48:56.184Z"
   },
   {
    "duration": 7,
    "start_time": "2024-11-13T16:49:12.612Z"
   },
   {
    "duration": 10,
    "start_time": "2024-11-13T16:49:23.486Z"
   },
   {
    "duration": 118,
    "start_time": "2024-11-13T17:21:59.649Z"
   },
   {
    "duration": 21,
    "start_time": "2024-11-13T17:23:03.280Z"
   },
   {
    "duration": 15,
    "start_time": "2024-11-13T17:24:20.786Z"
   },
   {
    "duration": 14,
    "start_time": "2024-11-13T17:24:27.752Z"
   },
   {
    "duration": 11,
    "start_time": "2024-11-13T17:25:02.417Z"
   },
   {
    "duration": 21,
    "start_time": "2024-11-13T17:25:40.631Z"
   },
   {
    "duration": 25,
    "start_time": "2024-11-13T17:26:31.115Z"
   },
   {
    "duration": 32,
    "start_time": "2024-11-13T17:29:26.086Z"
   },
   {
    "duration": 24,
    "start_time": "2024-11-13T17:30:28.054Z"
   },
   {
    "duration": 156,
    "start_time": "2024-11-13T18:57:26.124Z"
   },
   {
    "duration": 286,
    "start_time": "2024-11-13T18:58:13.339Z"
   },
   {
    "duration": 1029,
    "start_time": "2024-11-13T18:58:13.627Z"
   },
   {
    "duration": 18,
    "start_time": "2024-11-13T18:58:14.661Z"
   },
   {
    "duration": 75,
    "start_time": "2024-11-13T18:58:14.681Z"
   },
   {
    "duration": 13,
    "start_time": "2024-11-13T18:58:14.769Z"
   },
   {
    "duration": 14,
    "start_time": "2024-11-13T18:58:14.784Z"
   },
   {
    "duration": 27,
    "start_time": "2024-11-13T18:58:14.800Z"
   },
   {
    "duration": 516,
    "start_time": "2024-11-13T18:58:14.828Z"
   },
   {
    "duration": 10,
    "start_time": "2024-11-13T18:58:15.347Z"
   },
   {
    "duration": 9,
    "start_time": "2024-11-13T18:58:15.371Z"
   },
   {
    "duration": 10,
    "start_time": "2024-11-13T18:58:15.382Z"
   },
   {
    "duration": 8,
    "start_time": "2024-11-13T18:58:15.394Z"
   },
   {
    "duration": 183,
    "start_time": "2024-11-13T18:58:15.403Z"
   },
   {
    "duration": 8,
    "start_time": "2024-11-13T18:58:15.590Z"
   },
   {
    "duration": 112,
    "start_time": "2024-11-13T18:58:15.600Z"
   },
   {
    "duration": 92,
    "start_time": "2024-11-13T18:58:15.714Z"
   },
   {
    "duration": 45,
    "start_time": "2024-11-13T18:58:15.808Z"
   },
   {
    "duration": 26,
    "start_time": "2024-11-13T18:58:15.854Z"
   },
   {
    "duration": 4,
    "start_time": "2024-11-13T18:58:15.881Z"
   },
   {
    "duration": 19,
    "start_time": "2024-11-13T18:58:15.887Z"
   },
   {
    "duration": 40,
    "start_time": "2024-11-13T18:58:15.908Z"
   },
   {
    "duration": 3,
    "start_time": "2024-11-13T18:58:15.950Z"
   },
   {
    "duration": 16,
    "start_time": "2024-11-13T18:58:15.954Z"
   },
   {
    "duration": 4,
    "start_time": "2024-11-13T18:58:15.971Z"
   },
   {
    "duration": 4,
    "start_time": "2024-11-13T18:58:15.976Z"
   },
   {
    "duration": 810,
    "start_time": "2024-11-13T18:58:15.981Z"
   },
   {
    "duration": 696,
    "start_time": "2024-11-13T18:58:16.793Z"
   },
   {
    "duration": 8,
    "start_time": "2024-11-13T18:58:17.490Z"
   },
   {
    "duration": 3,
    "start_time": "2024-11-13T18:58:17.501Z"
   },
   {
    "duration": 3,
    "start_time": "2024-11-13T18:58:17.506Z"
   },
   {
    "duration": 8,
    "start_time": "2024-11-13T18:58:17.511Z"
   },
   {
    "duration": 8,
    "start_time": "2024-11-13T18:58:17.521Z"
   },
   {
    "duration": 42,
    "start_time": "2024-11-13T18:58:17.531Z"
   },
   {
    "duration": 11,
    "start_time": "2024-11-13T18:58:17.576Z"
   },
   {
    "duration": 6,
    "start_time": "2024-11-13T18:58:17.588Z"
   },
   {
    "duration": 15,
    "start_time": "2024-11-13T18:58:17.596Z"
   },
   {
    "duration": 30,
    "start_time": "2024-11-13T18:58:17.613Z"
   },
   {
    "duration": 12,
    "start_time": "2024-11-13T18:58:17.671Z"
   },
   {
    "duration": 22,
    "start_time": "2024-11-13T18:58:17.685Z"
   },
   {
    "duration": 392,
    "start_time": "2024-11-13T18:58:24.974Z"
   },
   {
    "duration": 39,
    "start_time": "2024-11-13T19:01:05.561Z"
   },
   {
    "duration": 50,
    "start_time": "2024-11-13T19:03:25.175Z"
   },
   {
    "duration": 37,
    "start_time": "2024-11-13T19:03:32.074Z"
   },
   {
    "duration": 36,
    "start_time": "2024-11-13T19:03:43.093Z"
   },
   {
    "duration": 38,
    "start_time": "2024-11-13T19:06:44.586Z"
   },
   {
    "duration": 286,
    "start_time": "2024-11-13T19:07:12.834Z"
   },
   {
    "duration": 870,
    "start_time": "2024-11-13T19:07:13.122Z"
   },
   {
    "duration": 18,
    "start_time": "2024-11-13T19:07:13.994Z"
   },
   {
    "duration": 82,
    "start_time": "2024-11-13T19:07:14.014Z"
   },
   {
    "duration": 12,
    "start_time": "2024-11-13T19:07:14.099Z"
   },
   {
    "duration": 13,
    "start_time": "2024-11-13T19:07:14.113Z"
   },
   {
    "duration": 47,
    "start_time": "2024-11-13T19:07:14.128Z"
   },
   {
    "duration": 500,
    "start_time": "2024-11-13T19:07:14.177Z"
   },
   {
    "duration": 12,
    "start_time": "2024-11-13T19:07:14.679Z"
   },
   {
    "duration": 9,
    "start_time": "2024-11-13T19:07:14.692Z"
   },
   {
    "duration": 10,
    "start_time": "2024-11-13T19:07:14.702Z"
   },
   {
    "duration": 8,
    "start_time": "2024-11-13T19:07:14.714Z"
   },
   {
    "duration": 191,
    "start_time": "2024-11-13T19:07:14.723Z"
   },
   {
    "duration": 8,
    "start_time": "2024-11-13T19:07:14.918Z"
   },
   {
    "duration": 113,
    "start_time": "2024-11-13T19:07:14.927Z"
   },
   {
    "duration": 90,
    "start_time": "2024-11-13T19:07:15.042Z"
   },
   {
    "duration": 54,
    "start_time": "2024-11-13T19:07:15.134Z"
   },
   {
    "duration": 12,
    "start_time": "2024-11-13T19:07:15.189Z"
   },
   {
    "duration": 5,
    "start_time": "2024-11-13T19:07:15.202Z"
   },
   {
    "duration": 21,
    "start_time": "2024-11-13T19:07:15.208Z"
   },
   {
    "duration": 44,
    "start_time": "2024-11-13T19:07:15.230Z"
   },
   {
    "duration": 3,
    "start_time": "2024-11-13T19:07:15.275Z"
   },
   {
    "duration": 3,
    "start_time": "2024-11-13T19:07:15.280Z"
   },
   {
    "duration": 4,
    "start_time": "2024-11-13T19:07:15.284Z"
   },
   {
    "duration": 3,
    "start_time": "2024-11-13T19:07:15.289Z"
   },
   {
    "duration": 794,
    "start_time": "2024-11-13T19:07:15.293Z"
   },
   {
    "duration": 697,
    "start_time": "2024-11-13T19:07:16.088Z"
   },
   {
    "duration": 8,
    "start_time": "2024-11-13T19:07:16.787Z"
   },
   {
    "duration": 3,
    "start_time": "2024-11-13T19:07:16.796Z"
   },
   {
    "duration": 4,
    "start_time": "2024-11-13T19:07:16.800Z"
   },
   {
    "duration": 8,
    "start_time": "2024-11-13T19:07:16.806Z"
   },
   {
    "duration": 9,
    "start_time": "2024-11-13T19:07:16.815Z"
   },
   {
    "duration": 49,
    "start_time": "2024-11-13T19:07:16.826Z"
   },
   {
    "duration": 14,
    "start_time": "2024-11-13T19:07:16.878Z"
   },
   {
    "duration": 7,
    "start_time": "2024-11-13T19:07:16.893Z"
   },
   {
    "duration": 17,
    "start_time": "2024-11-13T19:07:16.901Z"
   },
   {
    "duration": 51,
    "start_time": "2024-11-13T19:07:16.919Z"
   },
   {
    "duration": 15,
    "start_time": "2024-11-13T19:07:16.972Z"
   },
   {
    "duration": 21,
    "start_time": "2024-11-13T19:07:16.989Z"
   },
   {
    "duration": 574,
    "start_time": "2024-11-13T19:07:17.012Z"
   },
   {
    "duration": 37,
    "start_time": "2024-11-13T19:07:23.456Z"
   },
   {
    "duration": 40,
    "start_time": "2024-11-13T19:08:16.851Z"
   },
   {
    "duration": 20,
    "start_time": "2024-11-13T19:09:13.859Z"
   },
   {
    "duration": 37,
    "start_time": "2024-11-13T19:09:54.796Z"
   },
   {
    "duration": 33,
    "start_time": "2024-11-13T19:10:09.146Z"
   },
   {
    "duration": 62,
    "start_time": "2024-11-13T19:36:39.452Z"
   },
   {
    "duration": 4,
    "start_time": "2024-11-13T19:36:48.611Z"
   },
   {
    "duration": 6,
    "start_time": "2024-11-13T19:36:56.086Z"
   },
   {
    "duration": 2,
    "start_time": "2024-11-13T19:37:01.937Z"
   },
   {
    "duration": 816,
    "start_time": "2024-11-13T19:37:01.941Z"
   },
   {
    "duration": 17,
    "start_time": "2024-11-13T19:37:02.758Z"
   },
   {
    "duration": 71,
    "start_time": "2024-11-13T19:37:02.776Z"
   },
   {
    "duration": 25,
    "start_time": "2024-11-13T19:37:02.850Z"
   },
   {
    "duration": 14,
    "start_time": "2024-11-13T19:37:02.877Z"
   },
   {
    "duration": 23,
    "start_time": "2024-11-13T19:37:02.892Z"
   },
   {
    "duration": 521,
    "start_time": "2024-11-13T19:37:02.917Z"
   },
   {
    "duration": 10,
    "start_time": "2024-11-13T19:37:03.440Z"
   },
   {
    "duration": 22,
    "start_time": "2024-11-13T19:37:03.452Z"
   },
   {
    "duration": 10,
    "start_time": "2024-11-13T19:37:03.476Z"
   },
   {
    "duration": 7,
    "start_time": "2024-11-13T19:37:03.488Z"
   },
   {
    "duration": 178,
    "start_time": "2024-11-13T19:37:03.497Z"
   },
   {
    "duration": 6,
    "start_time": "2024-11-13T19:37:03.679Z"
   },
   {
    "duration": 103,
    "start_time": "2024-11-13T19:37:03.687Z"
   },
   {
    "duration": 92,
    "start_time": "2024-11-13T19:37:03.792Z"
   },
   {
    "duration": 38,
    "start_time": "2024-11-13T19:37:03.886Z"
   },
   {
    "duration": 12,
    "start_time": "2024-11-13T19:37:03.925Z"
   },
   {
    "duration": 5,
    "start_time": "2024-11-13T19:37:03.939Z"
   },
   {
    "duration": 43,
    "start_time": "2024-11-13T19:37:03.945Z"
   },
   {
    "duration": 23,
    "start_time": "2024-11-13T19:37:03.989Z"
   },
   {
    "duration": 4,
    "start_time": "2024-11-13T19:37:04.014Z"
   },
   {
    "duration": 4,
    "start_time": "2024-11-13T19:37:04.019Z"
   },
   {
    "duration": 4,
    "start_time": "2024-11-13T19:37:04.024Z"
   },
   {
    "duration": 3,
    "start_time": "2024-11-13T19:37:04.029Z"
   },
   {
    "duration": 860,
    "start_time": "2024-11-13T19:37:04.034Z"
   },
   {
    "duration": 674,
    "start_time": "2024-11-13T19:37:04.896Z"
   },
   {
    "duration": 10,
    "start_time": "2024-11-13T19:37:05.571Z"
   },
   {
    "duration": 3,
    "start_time": "2024-11-13T19:37:05.583Z"
   },
   {
    "duration": 3,
    "start_time": "2024-11-13T19:37:05.588Z"
   },
   {
    "duration": 7,
    "start_time": "2024-11-13T19:37:05.593Z"
   },
   {
    "duration": 7,
    "start_time": "2024-11-13T19:37:05.602Z"
   },
   {
    "duration": 6,
    "start_time": "2024-11-13T19:37:05.611Z"
   },
   {
    "duration": 52,
    "start_time": "2024-11-13T19:37:05.619Z"
   },
   {
    "duration": 9,
    "start_time": "2024-11-13T19:37:05.673Z"
   },
   {
    "duration": 21,
    "start_time": "2024-11-13T19:37:05.685Z"
   },
   {
    "duration": 37,
    "start_time": "2024-11-13T19:37:05.708Z"
   },
   {
    "duration": 32,
    "start_time": "2024-11-13T19:37:05.747Z"
   },
   {
    "duration": 23,
    "start_time": "2024-11-13T19:37:05.781Z"
   },
   {
    "duration": 168,
    "start_time": "2024-11-13T22:06:32.056Z"
   },
   {
    "duration": 326,
    "start_time": "2024-11-13T22:06:39.632Z"
   },
   {
    "duration": 1005,
    "start_time": "2024-11-13T22:06:39.960Z"
   },
   {
    "duration": 19,
    "start_time": "2024-11-13T22:06:40.967Z"
   },
   {
    "duration": 81,
    "start_time": "2024-11-13T22:06:40.987Z"
   },
   {
    "duration": 15,
    "start_time": "2024-11-13T22:06:41.071Z"
   },
   {
    "duration": 29,
    "start_time": "2024-11-13T22:06:41.088Z"
   },
   {
    "duration": 27,
    "start_time": "2024-11-13T22:06:41.118Z"
   },
   {
    "duration": 519,
    "start_time": "2024-11-13T22:06:41.147Z"
   },
   {
    "duration": 10,
    "start_time": "2024-11-13T22:06:41.668Z"
   },
   {
    "duration": 26,
    "start_time": "2024-11-13T22:06:41.680Z"
   },
   {
    "duration": 13,
    "start_time": "2024-11-13T22:06:41.707Z"
   },
   {
    "duration": 8,
    "start_time": "2024-11-13T22:06:41.722Z"
   },
   {
    "duration": 196,
    "start_time": "2024-11-13T22:06:41.732Z"
   },
   {
    "duration": 9,
    "start_time": "2024-11-13T22:06:41.933Z"
   },
   {
    "duration": 111,
    "start_time": "2024-11-13T22:06:41.945Z"
   },
   {
    "duration": 91,
    "start_time": "2024-11-13T22:06:42.058Z"
   },
   {
    "duration": 54,
    "start_time": "2024-11-13T22:06:42.151Z"
   },
   {
    "duration": 13,
    "start_time": "2024-11-13T22:06:42.207Z"
   },
   {
    "duration": 5,
    "start_time": "2024-11-13T22:06:42.221Z"
   },
   {
    "duration": 19,
    "start_time": "2024-11-13T22:06:42.228Z"
   },
   {
    "duration": 23,
    "start_time": "2024-11-13T22:06:42.249Z"
   },
   {
    "duration": 34,
    "start_time": "2024-11-13T22:06:42.273Z"
   },
   {
    "duration": 3,
    "start_time": "2024-11-13T22:06:42.309Z"
   },
   {
    "duration": 4,
    "start_time": "2024-11-13T22:06:42.314Z"
   },
   {
    "duration": 3,
    "start_time": "2024-11-13T22:06:42.319Z"
   },
   {
    "duration": 894,
    "start_time": "2024-11-13T22:06:42.324Z"
   },
   {
    "duration": 760,
    "start_time": "2024-11-13T22:06:43.220Z"
   },
   {
    "duration": 9,
    "start_time": "2024-11-13T22:06:43.983Z"
   },
   {
    "duration": 5,
    "start_time": "2024-11-13T22:06:44.005Z"
   },
   {
    "duration": 4,
    "start_time": "2024-11-13T22:06:44.012Z"
   },
   {
    "duration": 10,
    "start_time": "2024-11-13T22:06:44.018Z"
   },
   {
    "duration": 10,
    "start_time": "2024-11-13T22:06:44.032Z"
   },
   {
    "duration": 9,
    "start_time": "2024-11-13T22:06:44.045Z"
   },
   {
    "duration": 11,
    "start_time": "2024-11-13T22:06:44.056Z"
   },
   {
    "duration": 40,
    "start_time": "2024-11-13T22:06:44.069Z"
   },
   {
    "duration": 19,
    "start_time": "2024-11-13T22:06:44.110Z"
   },
   {
    "duration": 38,
    "start_time": "2024-11-13T22:06:44.131Z"
   },
   {
    "duration": 44,
    "start_time": "2024-11-13T22:06:44.171Z"
   },
   {
    "duration": 24,
    "start_time": "2024-11-13T22:06:44.217Z"
   },
   {
    "duration": 42,
    "start_time": "2024-11-13T22:06:44.243Z"
   },
   {
    "duration": 9,
    "start_time": "2024-11-13T22:06:49.917Z"
   },
   {
    "duration": 8,
    "start_time": "2024-11-13T22:07:08.559Z"
   },
   {
    "duration": 7,
    "start_time": "2024-11-13T22:07:26.918Z"
   },
   {
    "duration": 7,
    "start_time": "2024-11-13T22:07:29.688Z"
   },
   {
    "duration": 17,
    "start_time": "2024-11-13T22:15:25.056Z"
   },
   {
    "duration": 19,
    "start_time": "2024-11-13T22:15:40.105Z"
   },
   {
    "duration": 23,
    "start_time": "2024-11-13T22:17:21.193Z"
   },
   {
    "duration": 22,
    "start_time": "2024-11-13T22:18:23.283Z"
   },
   {
    "duration": 8,
    "start_time": "2024-11-13T22:18:36.220Z"
   },
   {
    "duration": 8,
    "start_time": "2024-11-13T22:18:42.258Z"
   },
   {
    "duration": 7,
    "start_time": "2024-11-13T22:19:02.525Z"
   },
   {
    "duration": 7,
    "start_time": "2024-11-13T22:19:05.158Z"
   },
   {
    "duration": 1845,
    "start_time": "2024-11-13T22:29:39.830Z"
   },
   {
    "duration": 860,
    "start_time": "2024-11-13T22:29:41.677Z"
   },
   {
    "duration": 17,
    "start_time": "2024-11-13T22:29:42.539Z"
   },
   {
    "duration": 89,
    "start_time": "2024-11-13T22:29:42.559Z"
   },
   {
    "duration": 14,
    "start_time": "2024-11-13T22:29:42.650Z"
   },
   {
    "duration": 14,
    "start_time": "2024-11-13T22:29:42.667Z"
   },
   {
    "duration": 51,
    "start_time": "2024-11-13T22:29:42.682Z"
   },
   {
    "duration": 513,
    "start_time": "2024-11-13T22:29:42.734Z"
   },
   {
    "duration": 11,
    "start_time": "2024-11-13T22:29:43.249Z"
   },
   {
    "duration": 8,
    "start_time": "2024-11-13T22:29:43.263Z"
   },
   {
    "duration": 10,
    "start_time": "2024-11-13T22:29:43.273Z"
   },
   {
    "duration": 30,
    "start_time": "2024-11-13T22:29:43.284Z"
   },
   {
    "duration": 152,
    "start_time": "2024-11-13T22:29:43.315Z"
   },
   {
    "duration": 6,
    "start_time": "2024-11-13T22:29:43.469Z"
   },
   {
    "duration": 94,
    "start_time": "2024-11-13T22:29:43.477Z"
   },
   {
    "duration": 85,
    "start_time": "2024-11-13T22:29:43.573Z"
   },
   {
    "duration": 50,
    "start_time": "2024-11-13T22:29:43.660Z"
   },
   {
    "duration": 12,
    "start_time": "2024-11-13T22:29:43.712Z"
   },
   {
    "duration": 5,
    "start_time": "2024-11-13T22:29:43.725Z"
   },
   {
    "duration": 20,
    "start_time": "2024-11-13T22:29:43.732Z"
   },
   {
    "duration": 53,
    "start_time": "2024-11-13T22:29:43.754Z"
   },
   {
    "duration": 6,
    "start_time": "2024-11-13T22:29:43.809Z"
   },
   {
    "duration": 3,
    "start_time": "2024-11-13T22:29:43.817Z"
   },
   {
    "duration": 3,
    "start_time": "2024-11-13T22:29:43.823Z"
   },
   {
    "duration": 4,
    "start_time": "2024-11-13T22:29:43.828Z"
   },
   {
    "duration": 871,
    "start_time": "2024-11-13T22:29:43.834Z"
   },
   {
    "duration": 754,
    "start_time": "2024-11-13T22:29:44.707Z"
   },
   {
    "duration": 9,
    "start_time": "2024-11-13T22:29:45.466Z"
   },
   {
    "duration": 3,
    "start_time": "2024-11-13T22:29:45.477Z"
   },
   {
    "duration": 24,
    "start_time": "2024-11-13T22:29:45.482Z"
   },
   {
    "duration": 9,
    "start_time": "2024-11-13T22:29:45.508Z"
   },
   {
    "duration": 9,
    "start_time": "2024-11-13T22:29:45.519Z"
   },
   {
    "duration": 7,
    "start_time": "2024-11-13T22:29:45.529Z"
   },
   {
    "duration": 12,
    "start_time": "2024-11-13T22:29:45.538Z"
   },
   {
    "duration": 6,
    "start_time": "2024-11-13T22:29:45.552Z"
   },
   {
    "duration": 57,
    "start_time": "2024-11-13T22:29:45.560Z"
   },
   {
    "duration": 41,
    "start_time": "2024-11-13T22:29:45.619Z"
   },
   {
    "duration": 13,
    "start_time": "2024-11-13T22:29:45.661Z"
   },
   {
    "duration": 39,
    "start_time": "2024-11-13T22:29:45.676Z"
   },
   {
    "duration": 44,
    "start_time": "2024-11-13T22:29:45.718Z"
   },
   {
    "duration": 9,
    "start_time": "2024-11-13T22:29:45.764Z"
   },
   {
    "duration": 7,
    "start_time": "2024-11-13T22:29:48.719Z"
   },
   {
    "duration": 10,
    "start_time": "2024-11-13T22:48:22.502Z"
   },
   {
    "duration": 556,
    "start_time": "2024-11-13T22:51:49.107Z"
   },
   {
    "duration": 6,
    "start_time": "2024-11-13T23:16:47.775Z"
   },
   {
    "duration": 952,
    "start_time": "2024-11-13T23:17:20.183Z"
   },
   {
    "duration": 929,
    "start_time": "2024-11-13T23:18:19.216Z"
   },
   {
    "duration": 931,
    "start_time": "2024-11-13T23:18:46.093Z"
   },
   {
    "duration": 251,
    "start_time": "2024-11-13T23:47:35.653Z"
   },
   {
    "duration": 355,
    "start_time": "2024-11-13T23:47:55.250Z"
   },
   {
    "duration": 250,
    "start_time": "2024-11-13T23:53:12.022Z"
   },
   {
    "duration": 159,
    "start_time": "2024-11-14T03:49:44.491Z"
   },
   {
    "duration": 2198,
    "start_time": "2024-11-14T03:49:50.648Z"
   },
   {
    "duration": 1003,
    "start_time": "2024-11-14T03:49:52.850Z"
   },
   {
    "duration": 17,
    "start_time": "2024-11-14T03:49:53.855Z"
   },
   {
    "duration": 99,
    "start_time": "2024-11-14T03:49:53.874Z"
   },
   {
    "duration": 15,
    "start_time": "2024-11-14T03:49:53.975Z"
   },
   {
    "duration": 15,
    "start_time": "2024-11-14T03:49:53.992Z"
   },
   {
    "duration": 36,
    "start_time": "2024-11-14T03:49:54.009Z"
   },
   {
    "duration": 516,
    "start_time": "2024-11-14T03:49:54.046Z"
   },
   {
    "duration": 10,
    "start_time": "2024-11-14T03:49:54.571Z"
   },
   {
    "duration": 9,
    "start_time": "2024-11-14T03:49:54.583Z"
   },
   {
    "duration": 11,
    "start_time": "2024-11-14T03:49:54.593Z"
   },
   {
    "duration": 8,
    "start_time": "2024-11-14T03:49:54.606Z"
   },
   {
    "duration": 199,
    "start_time": "2024-11-14T03:49:54.616Z"
   },
   {
    "duration": 8,
    "start_time": "2024-11-14T03:49:54.819Z"
   },
   {
    "duration": 115,
    "start_time": "2024-11-14T03:49:54.829Z"
   },
   {
    "duration": 97,
    "start_time": "2024-11-14T03:49:54.946Z"
   },
   {
    "duration": 60,
    "start_time": "2024-11-14T03:49:55.045Z"
   },
   {
    "duration": 12,
    "start_time": "2024-11-14T03:49:55.106Z"
   },
   {
    "duration": 4,
    "start_time": "2024-11-14T03:49:55.120Z"
   },
   {
    "duration": 44,
    "start_time": "2024-11-14T03:49:55.127Z"
   },
   {
    "duration": 24,
    "start_time": "2024-11-14T03:49:55.174Z"
   },
   {
    "duration": 3,
    "start_time": "2024-11-14T03:49:55.200Z"
   },
   {
    "duration": 3,
    "start_time": "2024-11-14T03:49:55.205Z"
   },
   {
    "duration": 4,
    "start_time": "2024-11-14T03:49:55.210Z"
   },
   {
    "duration": 3,
    "start_time": "2024-11-14T03:49:55.216Z"
   },
   {
    "duration": 809,
    "start_time": "2024-11-14T03:49:55.221Z"
   },
   {
    "duration": 760,
    "start_time": "2024-11-14T03:49:56.033Z"
   },
   {
    "duration": 9,
    "start_time": "2024-11-14T03:49:56.795Z"
   },
   {
    "duration": 3,
    "start_time": "2024-11-14T03:49:56.806Z"
   },
   {
    "duration": 3,
    "start_time": "2024-11-14T03:49:56.811Z"
   },
   {
    "duration": 8,
    "start_time": "2024-11-14T03:49:56.816Z"
   },
   {
    "duration": 12,
    "start_time": "2024-11-14T03:49:56.827Z"
   },
   {
    "duration": 36,
    "start_time": "2024-11-14T03:49:56.840Z"
   },
   {
    "duration": 13,
    "start_time": "2024-11-14T03:49:56.882Z"
   },
   {
    "duration": 6,
    "start_time": "2024-11-14T03:49:56.897Z"
   },
   {
    "duration": 21,
    "start_time": "2024-11-14T03:49:56.905Z"
   },
   {
    "duration": 64,
    "start_time": "2024-11-14T03:49:56.927Z"
   },
   {
    "duration": 16,
    "start_time": "2024-11-14T03:49:56.993Z"
   },
   {
    "duration": 31,
    "start_time": "2024-11-14T03:49:57.011Z"
   },
   {
    "duration": 61,
    "start_time": "2024-11-14T03:49:57.044Z"
   },
   {
    "duration": 7,
    "start_time": "2024-11-14T03:49:57.110Z"
   },
   {
    "duration": 8,
    "start_time": "2024-11-14T03:49:57.118Z"
   },
   {
    "duration": 336,
    "start_time": "2024-11-14T03:49:57.127Z"
   },
   {
    "duration": 186,
    "start_time": "2024-11-14T03:49:57.469Z"
   },
   {
    "duration": 163,
    "start_time": "2024-11-14T03:54:41.479Z"
   },
   {
    "duration": 228,
    "start_time": "2024-11-14T03:55:00.074Z"
   },
   {
    "duration": 169,
    "start_time": "2024-11-14T04:00:35.814Z"
   },
   {
    "duration": 178,
    "start_time": "2024-11-14T04:00:47.032Z"
   },
   {
    "duration": 429,
    "start_time": "2024-11-14T04:02:48.363Z"
   },
   {
    "duration": 195,
    "start_time": "2024-11-14T04:03:05.054Z"
   },
   {
    "duration": 202,
    "start_time": "2024-11-14T04:03:23.399Z"
   },
   {
    "duration": 170,
    "start_time": "2024-11-14T04:03:28.329Z"
   },
   {
    "duration": 188,
    "start_time": "2024-11-14T04:03:31.932Z"
   },
   {
    "duration": 230,
    "start_time": "2024-11-14T04:03:39.993Z"
   },
   {
    "duration": 170,
    "start_time": "2024-11-14T04:04:32.731Z"
   },
   {
    "duration": 240,
    "start_time": "2024-11-14T04:04:46.577Z"
   },
   {
    "duration": 180,
    "start_time": "2024-11-14T04:05:26.702Z"
   },
   {
    "duration": 167,
    "start_time": "2024-11-14T04:05:40.933Z"
   },
   {
    "duration": 230,
    "start_time": "2024-11-14T04:07:55.514Z"
   },
   {
    "duration": 230,
    "start_time": "2024-11-14T04:08:02.405Z"
   },
   {
    "duration": 236,
    "start_time": "2024-11-14T04:08:10.958Z"
   },
   {
    "duration": 254,
    "start_time": "2024-11-14T04:23:13.197Z"
   },
   {
    "duration": 252,
    "start_time": "2024-11-14T04:24:33.630Z"
   },
   {
    "duration": 229,
    "start_time": "2024-11-14T04:26:20.602Z"
   },
   {
    "duration": 171,
    "start_time": "2024-11-14T04:26:48.488Z"
   },
   {
    "duration": 237,
    "start_time": "2024-11-14T04:26:56.668Z"
   },
   {
    "duration": 253,
    "start_time": "2024-11-14T04:27:07.329Z"
   },
   {
    "duration": 16,
    "start_time": "2024-11-14T04:33:56.954Z"
   },
   {
    "duration": 14,
    "start_time": "2024-11-14T04:34:07.528Z"
   },
   {
    "duration": 12,
    "start_time": "2024-11-14T04:34:11.549Z"
   },
   {
    "duration": 10,
    "start_time": "2024-11-14T04:35:28.940Z"
   },
   {
    "duration": 10,
    "start_time": "2024-11-14T04:35:35.490Z"
   },
   {
    "duration": 9,
    "start_time": "2024-11-14T04:38:01.240Z"
   },
   {
    "duration": 14,
    "start_time": "2024-11-14T04:38:44.354Z"
   },
   {
    "duration": 3,
    "start_time": "2024-11-14T04:38:52.142Z"
   },
   {
    "duration": 3,
    "start_time": "2024-11-14T04:39:12.134Z"
   },
   {
    "duration": 12,
    "start_time": "2024-11-14T04:40:21.907Z"
   },
   {
    "duration": 4,
    "start_time": "2024-11-14T04:40:37.550Z"
   },
   {
    "duration": 4,
    "start_time": "2024-11-14T04:41:01.702Z"
   },
   {
    "duration": 3,
    "start_time": "2024-11-14T04:41:22.123Z"
   },
   {
    "duration": 2259,
    "start_time": "2024-11-14T14:41:22.035Z"
   },
   {
    "duration": 1022,
    "start_time": "2024-11-14T14:41:24.296Z"
   },
   {
    "duration": 19,
    "start_time": "2024-11-14T14:41:25.319Z"
   },
   {
    "duration": 87,
    "start_time": "2024-11-14T14:41:25.340Z"
   },
   {
    "duration": 15,
    "start_time": "2024-11-14T14:41:25.431Z"
   },
   {
    "duration": 16,
    "start_time": "2024-11-14T14:41:25.447Z"
   },
   {
    "duration": 48,
    "start_time": "2024-11-14T14:41:25.464Z"
   },
   {
    "duration": 505,
    "start_time": "2024-11-14T14:41:25.514Z"
   },
   {
    "duration": 10,
    "start_time": "2024-11-14T14:41:26.021Z"
   },
   {
    "duration": 8,
    "start_time": "2024-11-14T14:41:26.033Z"
   },
   {
    "duration": 10,
    "start_time": "2024-11-14T14:41:26.043Z"
   },
   {
    "duration": 8,
    "start_time": "2024-11-14T14:41:26.054Z"
   },
   {
    "duration": 210,
    "start_time": "2024-11-14T14:41:26.064Z"
   },
   {
    "duration": 9,
    "start_time": "2024-11-14T14:41:26.279Z"
   },
   {
    "duration": 123,
    "start_time": "2024-11-14T14:41:26.289Z"
   },
   {
    "duration": 102,
    "start_time": "2024-11-14T14:41:26.414Z"
   },
   {
    "duration": 49,
    "start_time": "2024-11-14T14:41:26.518Z"
   },
   {
    "duration": 13,
    "start_time": "2024-11-14T14:41:26.569Z"
   },
   {
    "duration": 22,
    "start_time": "2024-11-14T14:41:26.583Z"
   },
   {
    "duration": 25,
    "start_time": "2024-11-14T14:41:26.607Z"
   },
   {
    "duration": 25,
    "start_time": "2024-11-14T14:41:26.633Z"
   },
   {
    "duration": 3,
    "start_time": "2024-11-14T14:41:26.660Z"
   },
   {
    "duration": 4,
    "start_time": "2024-11-14T14:41:26.665Z"
   },
   {
    "duration": 34,
    "start_time": "2024-11-14T14:41:26.671Z"
   },
   {
    "duration": 7,
    "start_time": "2024-11-14T14:41:26.707Z"
   },
   {
    "duration": 819,
    "start_time": "2024-11-14T14:41:26.715Z"
   },
   {
    "duration": 712,
    "start_time": "2024-11-14T14:41:27.536Z"
   },
   {
    "duration": 8,
    "start_time": "2024-11-14T14:41:28.250Z"
   },
   {
    "duration": 3,
    "start_time": "2024-11-14T14:41:28.260Z"
   },
   {
    "duration": 4,
    "start_time": "2024-11-14T14:41:28.265Z"
   },
   {
    "duration": 7,
    "start_time": "2024-11-14T14:41:28.271Z"
   },
   {
    "duration": 8,
    "start_time": "2024-11-14T14:41:28.306Z"
   },
   {
    "duration": 7,
    "start_time": "2024-11-14T14:41:28.316Z"
   },
   {
    "duration": 11,
    "start_time": "2024-11-14T14:41:28.325Z"
   },
   {
    "duration": 7,
    "start_time": "2024-11-14T14:41:28.339Z"
   },
   {
    "duration": 17,
    "start_time": "2024-11-14T14:41:28.347Z"
   },
   {
    "duration": 66,
    "start_time": "2024-11-14T14:41:28.366Z"
   },
   {
    "duration": 12,
    "start_time": "2024-11-14T14:41:28.435Z"
   },
   {
    "duration": 22,
    "start_time": "2024-11-14T14:41:28.449Z"
   },
   {
    "duration": 60,
    "start_time": "2024-11-14T14:41:28.472Z"
   },
   {
    "duration": 8,
    "start_time": "2024-11-14T14:41:28.537Z"
   },
   {
    "duration": 7,
    "start_time": "2024-11-14T14:41:28.547Z"
   },
   {
    "duration": 276,
    "start_time": "2024-11-14T14:41:28.555Z"
   },
   {
    "duration": 224,
    "start_time": "2024-11-14T14:41:28.833Z"
   },
   {
    "duration": 270,
    "start_time": "2024-11-14T14:41:29.059Z"
   },
   {
    "duration": 9,
    "start_time": "2024-11-14T14:41:29.331Z"
   },
   {
    "duration": 3,
    "start_time": "2024-11-14T14:41:29.342Z"
   },
   {
    "duration": 3,
    "start_time": "2024-11-14T14:41:31.811Z"
   },
   {
    "duration": 189,
    "start_time": "2024-11-14T14:52:47.217Z"
   },
   {
    "duration": 14,
    "start_time": "2024-11-14T14:55:39.170Z"
   },
   {
    "duration": 7,
    "start_time": "2024-11-14T14:55:55.223Z"
   },
   {
    "duration": 5,
    "start_time": "2024-11-14T14:56:00.152Z"
   },
   {
    "duration": 311,
    "start_time": "2024-11-14T14:56:37.216Z"
   },
   {
    "duration": 350,
    "start_time": "2024-11-14T14:57:10.955Z"
   },
   {
    "duration": 367,
    "start_time": "2024-11-14T14:57:44.018Z"
   },
   {
    "duration": 363,
    "start_time": "2024-11-14T15:01:22.304Z"
   },
   {
    "duration": 2,
    "start_time": "2024-11-14T15:32:21.167Z"
   },
   {
    "duration": 854,
    "start_time": "2024-11-14T15:32:21.171Z"
   },
   {
    "duration": 14,
    "start_time": "2024-11-14T15:32:22.027Z"
   },
   {
    "duration": 81,
    "start_time": "2024-11-14T15:32:22.043Z"
   },
   {
    "duration": 13,
    "start_time": "2024-11-14T15:32:22.128Z"
   },
   {
    "duration": 14,
    "start_time": "2024-11-14T15:32:22.143Z"
   },
   {
    "duration": 50,
    "start_time": "2024-11-14T15:32:22.158Z"
   },
   {
    "duration": 517,
    "start_time": "2024-11-14T15:32:22.210Z"
   },
   {
    "duration": 11,
    "start_time": "2024-11-14T15:32:22.730Z"
   },
   {
    "duration": 9,
    "start_time": "2024-11-14T15:32:22.743Z"
   },
   {
    "duration": 11,
    "start_time": "2024-11-14T15:32:22.753Z"
   },
   {
    "duration": 41,
    "start_time": "2024-11-14T15:32:22.766Z"
   },
   {
    "duration": 165,
    "start_time": "2024-11-14T15:32:22.809Z"
   },
   {
    "duration": 7,
    "start_time": "2024-11-14T15:32:22.978Z"
   },
   {
    "duration": 100,
    "start_time": "2024-11-14T15:32:22.987Z"
   },
   {
    "duration": 87,
    "start_time": "2024-11-14T15:32:23.089Z"
   },
   {
    "duration": 47,
    "start_time": "2024-11-14T15:32:23.178Z"
   },
   {
    "duration": 16,
    "start_time": "2024-11-14T15:32:23.227Z"
   },
   {
    "duration": 5,
    "start_time": "2024-11-14T15:32:23.245Z"
   },
   {
    "duration": 22,
    "start_time": "2024-11-14T15:32:23.251Z"
   },
   {
    "duration": 51,
    "start_time": "2024-11-14T15:32:23.275Z"
   },
   {
    "duration": 3,
    "start_time": "2024-11-14T15:32:23.328Z"
   },
   {
    "duration": 3,
    "start_time": "2024-11-14T15:32:23.334Z"
   },
   {
    "duration": 4,
    "start_time": "2024-11-14T15:32:23.339Z"
   },
   {
    "duration": 4,
    "start_time": "2024-11-14T15:32:23.344Z"
   },
   {
    "duration": 824,
    "start_time": "2024-11-14T15:32:23.350Z"
   },
   {
    "duration": 702,
    "start_time": "2024-11-14T15:32:24.176Z"
   },
   {
    "duration": 8,
    "start_time": "2024-11-14T15:32:24.880Z"
   },
   {
    "duration": 4,
    "start_time": "2024-11-14T15:32:24.890Z"
   },
   {
    "duration": 3,
    "start_time": "2024-11-14T15:32:24.906Z"
   },
   {
    "duration": 9,
    "start_time": "2024-11-14T15:32:24.911Z"
   },
   {
    "duration": 10,
    "start_time": "2024-11-14T15:32:24.922Z"
   },
   {
    "duration": 8,
    "start_time": "2024-11-14T15:32:24.934Z"
   },
   {
    "duration": 13,
    "start_time": "2024-11-14T15:32:24.944Z"
   },
   {
    "duration": 51,
    "start_time": "2024-11-14T15:32:24.959Z"
   },
   {
    "duration": 19,
    "start_time": "2024-11-14T15:32:25.012Z"
   },
   {
    "duration": 33,
    "start_time": "2024-11-14T15:32:25.033Z"
   },
   {
    "duration": 14,
    "start_time": "2024-11-14T15:32:25.068Z"
   },
   {
    "duration": 24,
    "start_time": "2024-11-14T15:32:25.106Z"
   },
   {
    "duration": 42,
    "start_time": "2024-11-14T15:32:25.131Z"
   },
   {
    "duration": 6,
    "start_time": "2024-11-14T15:32:25.178Z"
   },
   {
    "duration": 7,
    "start_time": "2024-11-14T15:32:25.205Z"
   },
   {
    "duration": 249,
    "start_time": "2024-11-14T15:32:25.213Z"
   },
   {
    "duration": 183,
    "start_time": "2024-11-14T15:32:25.464Z"
   },
   {
    "duration": 275,
    "start_time": "2024-11-14T15:32:25.649Z"
   },
   {
    "duration": 10,
    "start_time": "2024-11-14T15:32:25.926Z"
   },
   {
    "duration": 7,
    "start_time": "2024-11-14T15:32:25.938Z"
   },
   {
    "duration": 5,
    "start_time": "2024-11-14T15:32:25.946Z"
   },
   {
    "duration": 341,
    "start_time": "2024-11-14T15:32:38.973Z"
   },
   {
    "duration": 6,
    "start_time": "2024-11-14T15:50:20.364Z"
   },
   {
    "duration": 414,
    "start_time": "2024-11-14T15:50:58.027Z"
   },
   {
    "duration": 13,
    "start_time": "2024-11-14T16:01:20.375Z"
   },
   {
    "duration": 359,
    "start_time": "2024-11-14T16:01:31.104Z"
   },
   {
    "duration": 15,
    "start_time": "2024-11-14T16:12:32.588Z"
   },
   {
    "duration": 12,
    "start_time": "2024-11-14T16:13:05.173Z"
   },
   {
    "duration": 11,
    "start_time": "2024-11-14T16:13:48.627Z"
   },
   {
    "duration": 9,
    "start_time": "2024-11-14T16:14:36.222Z"
   },
   {
    "duration": 470,
    "start_time": "2024-11-14T16:15:31.042Z"
   },
   {
    "duration": 204,
    "start_time": "2024-11-14T16:15:48.541Z"
   },
   {
    "duration": 199,
    "start_time": "2024-11-14T16:16:10.220Z"
   },
   {
    "duration": 48,
    "start_time": "2024-11-14T16:21:28.136Z"
   },
   {
    "duration": 3,
    "start_time": "2024-11-14T16:24:35.602Z"
   },
   {
    "duration": 6,
    "start_time": "2024-11-14T16:29:34.148Z"
   },
   {
    "duration": 5,
    "start_time": "2024-11-14T16:31:09.197Z"
   },
   {
    "duration": 10,
    "start_time": "2024-11-14T16:32:23.817Z"
   },
   {
    "duration": 9,
    "start_time": "2024-11-14T16:32:38.252Z"
   },
   {
    "duration": 3,
    "start_time": "2024-11-14T16:32:42.629Z"
   },
   {
    "duration": 59,
    "start_time": "2024-11-14T16:33:29.961Z"
   },
   {
    "duration": 47,
    "start_time": "2024-11-14T16:33:40.196Z"
   },
   {
    "duration": 66,
    "start_time": "2024-11-14T16:33:50.840Z"
   },
   {
    "duration": 3,
    "start_time": "2024-11-14T16:34:09.282Z"
   },
   {
    "duration": 49,
    "start_time": "2024-11-14T16:34:16.647Z"
   },
   {
    "duration": 49,
    "start_time": "2024-11-14T16:34:24.739Z"
   },
   {
    "duration": 50,
    "start_time": "2024-11-14T16:34:47.288Z"
   },
   {
    "duration": 5,
    "start_time": "2024-11-14T16:35:18.732Z"
   },
   {
    "duration": 7,
    "start_time": "2024-11-14T16:35:22.610Z"
   },
   {
    "duration": 7,
    "start_time": "2024-11-14T16:35:42.983Z"
   },
   {
    "duration": 280,
    "start_time": "2024-11-14T16:35:47.637Z"
   },
   {
    "duration": 7,
    "start_time": "2024-11-14T16:43:00.400Z"
   },
   {
    "duration": 257,
    "start_time": "2024-11-14T16:43:05.725Z"
   },
   {
    "duration": 3,
    "start_time": "2024-11-14T16:49:26.564Z"
   },
   {
    "duration": 212,
    "start_time": "2024-11-14T16:49:40.260Z"
   },
   {
    "duration": 4,
    "start_time": "2024-11-14T16:49:58.402Z"
   },
   {
    "duration": 207,
    "start_time": "2024-11-14T16:50:03.474Z"
   },
   {
    "duration": 8,
    "start_time": "2024-11-14T17:07:53.891Z"
   },
   {
    "duration": 950,
    "start_time": "2024-11-14T17:08:38.290Z"
   },
   {
    "duration": 8,
    "start_time": "2024-11-14T17:08:55.907Z"
   },
   {
    "duration": 1010,
    "start_time": "2024-11-14T17:08:57.634Z"
   },
   {
    "duration": 961,
    "start_time": "2024-11-14T17:11:48.983Z"
   },
   {
    "duration": 927,
    "start_time": "2024-11-14T17:12:00.371Z"
   },
   {
    "duration": 116,
    "start_time": "2024-11-14T17:14:13.151Z"
   },
   {
    "duration": 38,
    "start_time": "2024-11-14T17:14:28.761Z"
   },
   {
    "duration": 471,
    "start_time": "2024-11-14T17:16:09.120Z"
   },
   {
    "duration": 927,
    "start_time": "2024-11-14T17:16:09.593Z"
   },
   {
    "duration": 17,
    "start_time": "2024-11-14T17:16:10.522Z"
   },
   {
    "duration": 89,
    "start_time": "2024-11-14T17:16:10.541Z"
   },
   {
    "duration": 13,
    "start_time": "2024-11-14T17:16:10.633Z"
   },
   {
    "duration": 15,
    "start_time": "2024-11-14T17:16:10.648Z"
   },
   {
    "duration": 47,
    "start_time": "2024-11-14T17:16:10.665Z"
   },
   {
    "duration": 507,
    "start_time": "2024-11-14T17:16:10.715Z"
   },
   {
    "duration": 12,
    "start_time": "2024-11-14T17:16:11.225Z"
   },
   {
    "duration": 9,
    "start_time": "2024-11-14T17:16:11.239Z"
   },
   {
    "duration": 11,
    "start_time": "2024-11-14T17:16:11.250Z"
   },
   {
    "duration": 8,
    "start_time": "2024-11-14T17:16:11.263Z"
   },
   {
    "duration": 198,
    "start_time": "2024-11-14T17:16:11.273Z"
   },
   {
    "duration": 8,
    "start_time": "2024-11-14T17:16:11.475Z"
   },
   {
    "duration": 112,
    "start_time": "2024-11-14T17:16:11.484Z"
   },
   {
    "duration": 107,
    "start_time": "2024-11-14T17:16:11.598Z"
   },
   {
    "duration": 49,
    "start_time": "2024-11-14T17:16:11.707Z"
   },
   {
    "duration": 12,
    "start_time": "2024-11-14T17:16:11.758Z"
   },
   {
    "duration": 4,
    "start_time": "2024-11-14T17:16:11.772Z"
   },
   {
    "duration": 43,
    "start_time": "2024-11-14T17:16:11.778Z"
   },
   {
    "duration": 24,
    "start_time": "2024-11-14T17:16:11.822Z"
   },
   {
    "duration": 3,
    "start_time": "2024-11-14T17:16:11.848Z"
   },
   {
    "duration": 4,
    "start_time": "2024-11-14T17:16:11.853Z"
   },
   {
    "duration": 4,
    "start_time": "2024-11-14T17:16:11.858Z"
   },
   {
    "duration": 3,
    "start_time": "2024-11-14T17:16:11.864Z"
   },
   {
    "duration": 793,
    "start_time": "2024-11-14T17:16:11.905Z"
   },
   {
    "duration": 739,
    "start_time": "2024-11-14T17:16:12.705Z"
   },
   {
    "duration": 9,
    "start_time": "2024-11-14T17:16:13.446Z"
   },
   {
    "duration": 3,
    "start_time": "2024-11-14T17:16:13.457Z"
   },
   {
    "duration": 3,
    "start_time": "2024-11-14T17:16:13.462Z"
   },
   {
    "duration": 8,
    "start_time": "2024-11-14T17:16:13.467Z"
   },
   {
    "duration": 34,
    "start_time": "2024-11-14T17:16:13.477Z"
   },
   {
    "duration": 6,
    "start_time": "2024-11-14T17:16:13.513Z"
   },
   {
    "duration": 11,
    "start_time": "2024-11-14T17:16:13.521Z"
   },
   {
    "duration": 6,
    "start_time": "2024-11-14T17:16:13.533Z"
   },
   {
    "duration": 16,
    "start_time": "2024-11-14T17:16:13.541Z"
   },
   {
    "duration": 69,
    "start_time": "2024-11-14T17:16:13.559Z"
   },
   {
    "duration": 12,
    "start_time": "2024-11-14T17:16:13.630Z"
   },
   {
    "duration": 22,
    "start_time": "2024-11-14T17:16:13.644Z"
   },
   {
    "duration": 59,
    "start_time": "2024-11-14T17:16:13.667Z"
   },
   {
    "duration": 9,
    "start_time": "2024-11-14T17:16:13.730Z"
   },
   {
    "duration": 7,
    "start_time": "2024-11-14T17:16:13.741Z"
   },
   {
    "duration": 269,
    "start_time": "2024-11-14T17:16:13.749Z"
   },
   {
    "duration": 192,
    "start_time": "2024-11-14T17:16:14.019Z"
   },
   {
    "duration": 268,
    "start_time": "2024-11-14T17:16:14.214Z"
   },
   {
    "duration": 9,
    "start_time": "2024-11-14T17:16:14.484Z"
   },
   {
    "duration": 14,
    "start_time": "2024-11-14T17:16:14.495Z"
   },
   {
    "duration": 7,
    "start_time": "2024-11-14T17:16:14.510Z"
   },
   {
    "duration": 230,
    "start_time": "2024-11-14T17:16:14.519Z"
   },
   {
    "duration": 41,
    "start_time": "2024-11-14T17:16:20.722Z"
   },
   {
    "duration": 501,
    "start_time": "2024-11-14T17:18:10.738Z"
   },
   {
    "duration": 47,
    "start_time": "2024-11-14T17:18:37.159Z"
   },
   {
    "duration": 43,
    "start_time": "2024-11-14T17:19:02.828Z"
   },
   {
    "duration": 45,
    "start_time": "2024-11-14T17:19:26.967Z"
   },
   {
    "duration": 48,
    "start_time": "2024-11-14T17:19:49.633Z"
   },
   {
    "duration": 989,
    "start_time": "2024-11-14T17:19:59.076Z"
   },
   {
    "duration": 1058,
    "start_time": "2024-11-14T17:21:48.149Z"
   },
   {
    "duration": 971,
    "start_time": "2024-11-14T17:22:07.121Z"
   },
   {
    "duration": 967,
    "start_time": "2024-11-14T17:22:14.105Z"
   },
   {
    "duration": 5,
    "start_time": "2024-11-14T17:22:46.183Z"
   },
   {
    "duration": 969,
    "start_time": "2024-11-14T17:22:52.071Z"
   },
   {
    "duration": 34,
    "start_time": "2024-11-14T18:02:18.435Z"
   },
   {
    "duration": 5,
    "start_time": "2024-11-14T18:02:36.561Z"
   },
   {
    "duration": 3,
    "start_time": "2024-11-14T18:03:15.495Z"
   },
   {
    "duration": 4,
    "start_time": "2024-11-14T18:03:25.741Z"
   },
   {
    "duration": 17,
    "start_time": "2024-11-14T18:10:46.879Z"
   },
   {
    "duration": 4,
    "start_time": "2024-11-14T18:10:56.590Z"
   },
   {
    "duration": 4,
    "start_time": "2024-11-14T18:11:03.926Z"
   },
   {
    "duration": 720,
    "start_time": "2024-11-14T18:16:56.396Z"
   },
   {
    "duration": 1023,
    "start_time": "2024-11-14T18:17:30.782Z"
   },
   {
    "duration": 739,
    "start_time": "2024-11-14T18:17:41.356Z"
   },
   {
    "duration": 725,
    "start_time": "2024-11-14T18:18:20.421Z"
   },
   {
    "duration": 3,
    "start_time": "2024-11-14T18:24:22.547Z"
   },
   {
    "duration": 883,
    "start_time": "2024-11-14T18:24:22.552Z"
   },
   {
    "duration": 15,
    "start_time": "2024-11-14T18:24:23.437Z"
   },
   {
    "duration": 88,
    "start_time": "2024-11-14T18:24:23.454Z"
   },
   {
    "duration": 13,
    "start_time": "2024-11-14T18:24:23.545Z"
   },
   {
    "duration": 13,
    "start_time": "2024-11-14T18:24:23.560Z"
   },
   {
    "duration": 44,
    "start_time": "2024-11-14T18:24:23.575Z"
   },
   {
    "duration": 494,
    "start_time": "2024-11-14T18:24:23.622Z"
   },
   {
    "duration": 11,
    "start_time": "2024-11-14T18:24:24.118Z"
   },
   {
    "duration": 9,
    "start_time": "2024-11-14T18:24:24.131Z"
   },
   {
    "duration": 14,
    "start_time": "2024-11-14T18:24:24.144Z"
   },
   {
    "duration": 10,
    "start_time": "2024-11-14T18:24:24.160Z"
   },
   {
    "duration": 157,
    "start_time": "2024-11-14T18:24:24.205Z"
   },
   {
    "duration": 7,
    "start_time": "2024-11-14T18:24:24.363Z"
   },
   {
    "duration": 99,
    "start_time": "2024-11-14T18:24:24.371Z"
   },
   {
    "duration": 76,
    "start_time": "2024-11-14T18:24:24.472Z"
   },
   {
    "duration": 38,
    "start_time": "2024-11-14T18:24:24.550Z"
   },
   {
    "duration": 26,
    "start_time": "2024-11-14T18:24:24.590Z"
   },
   {
    "duration": 6,
    "start_time": "2024-11-14T18:24:24.618Z"
   },
   {
    "duration": 21,
    "start_time": "2024-11-14T18:24:24.627Z"
   },
   {
    "duration": 26,
    "start_time": "2024-11-14T18:24:24.650Z"
   },
   {
    "duration": 29,
    "start_time": "2024-11-14T18:24:24.678Z"
   },
   {
    "duration": 5,
    "start_time": "2024-11-14T18:24:24.709Z"
   },
   {
    "duration": 4,
    "start_time": "2024-11-14T18:24:24.716Z"
   },
   {
    "duration": 4,
    "start_time": "2024-11-14T18:24:24.723Z"
   },
   {
    "duration": 819,
    "start_time": "2024-11-14T18:24:24.728Z"
   },
   {
    "duration": 693,
    "start_time": "2024-11-14T18:24:25.550Z"
   },
   {
    "duration": 9,
    "start_time": "2024-11-14T18:24:26.245Z"
   },
   {
    "duration": 4,
    "start_time": "2024-11-14T18:24:26.259Z"
   },
   {
    "duration": 4,
    "start_time": "2024-11-14T18:24:26.264Z"
   },
   {
    "duration": 9,
    "start_time": "2024-11-14T18:24:26.269Z"
   },
   {
    "duration": 9,
    "start_time": "2024-11-14T18:24:26.305Z"
   },
   {
    "duration": 7,
    "start_time": "2024-11-14T18:24:26.316Z"
   },
   {
    "duration": 12,
    "start_time": "2024-11-14T18:24:26.325Z"
   },
   {
    "duration": 7,
    "start_time": "2024-11-14T18:24:26.338Z"
   },
   {
    "duration": 17,
    "start_time": "2024-11-14T18:24:26.346Z"
   },
   {
    "duration": 66,
    "start_time": "2024-11-14T18:24:26.366Z"
   },
   {
    "duration": 14,
    "start_time": "2024-11-14T18:24:26.434Z"
   },
   {
    "duration": 22,
    "start_time": "2024-11-14T18:24:26.450Z"
   },
   {
    "duration": 57,
    "start_time": "2024-11-14T18:24:26.473Z"
   },
   {
    "duration": 7,
    "start_time": "2024-11-14T18:24:26.532Z"
   },
   {
    "duration": 6,
    "start_time": "2024-11-14T18:24:26.541Z"
   },
   {
    "duration": 260,
    "start_time": "2024-11-14T18:24:26.549Z"
   },
   {
    "duration": 187,
    "start_time": "2024-11-14T18:24:26.810Z"
   },
   {
    "duration": 271,
    "start_time": "2024-11-14T18:24:27.001Z"
   },
   {
    "duration": 8,
    "start_time": "2024-11-14T18:24:27.274Z"
   },
   {
    "duration": 5,
    "start_time": "2024-11-14T18:24:27.284Z"
   },
   {
    "duration": 22,
    "start_time": "2024-11-14T18:24:27.290Z"
   },
   {
    "duration": 314,
    "start_time": "2024-11-14T18:24:27.314Z"
   },
   {
    "duration": 45,
    "start_time": "2024-11-14T18:24:27.630Z"
   },
   {
    "duration": 439,
    "start_time": "2024-11-14T18:24:40.466Z"
   },
   {
    "duration": 919,
    "start_time": "2024-11-14T18:24:40.907Z"
   },
   {
    "duration": 18,
    "start_time": "2024-11-14T18:24:41.827Z"
   },
   {
    "duration": 94,
    "start_time": "2024-11-14T18:24:41.846Z"
   },
   {
    "duration": 13,
    "start_time": "2024-11-14T18:24:41.943Z"
   },
   {
    "duration": 14,
    "start_time": "2024-11-14T18:24:41.957Z"
   },
   {
    "duration": 48,
    "start_time": "2024-11-14T18:24:41.973Z"
   },
   {
    "duration": 513,
    "start_time": "2024-11-14T18:24:42.023Z"
   },
   {
    "duration": 13,
    "start_time": "2024-11-14T18:24:42.538Z"
   },
   {
    "duration": 9,
    "start_time": "2024-11-14T18:24:42.552Z"
   },
   {
    "duration": 12,
    "start_time": "2024-11-14T18:24:42.563Z"
   },
   {
    "duration": 34,
    "start_time": "2024-11-14T18:24:42.577Z"
   },
   {
    "duration": 185,
    "start_time": "2024-11-14T18:24:42.614Z"
   },
   {
    "duration": 9,
    "start_time": "2024-11-14T18:24:42.809Z"
   },
   {
    "duration": 121,
    "start_time": "2024-11-14T18:24:42.820Z"
   },
   {
    "duration": 117,
    "start_time": "2024-11-14T18:24:42.943Z"
   },
   {
    "duration": 56,
    "start_time": "2024-11-14T18:24:43.062Z"
   },
   {
    "duration": 13,
    "start_time": "2024-11-14T18:24:43.120Z"
   },
   {
    "duration": 4,
    "start_time": "2024-11-14T18:24:43.135Z"
   },
   {
    "duration": 22,
    "start_time": "2024-11-14T18:24:43.141Z"
   },
   {
    "duration": 56,
    "start_time": "2024-11-14T18:24:43.165Z"
   },
   {
    "duration": 4,
    "start_time": "2024-11-14T18:24:43.223Z"
   },
   {
    "duration": 4,
    "start_time": "2024-11-14T18:24:43.228Z"
   },
   {
    "duration": 4,
    "start_time": "2024-11-14T18:24:43.234Z"
   },
   {
    "duration": 4,
    "start_time": "2024-11-14T18:24:43.239Z"
   },
   {
    "duration": 840,
    "start_time": "2024-11-14T18:24:43.245Z"
   },
   {
    "duration": 728,
    "start_time": "2024-11-14T18:24:44.087Z"
   },
   {
    "duration": 8,
    "start_time": "2024-11-14T18:24:44.817Z"
   },
   {
    "duration": 20,
    "start_time": "2024-11-14T18:24:44.827Z"
   },
   {
    "duration": 4,
    "start_time": "2024-11-14T18:24:44.849Z"
   },
   {
    "duration": 7,
    "start_time": "2024-11-14T18:24:44.855Z"
   },
   {
    "duration": 8,
    "start_time": "2024-11-14T18:24:44.864Z"
   },
   {
    "duration": 6,
    "start_time": "2024-11-14T18:24:44.874Z"
   },
   {
    "duration": 11,
    "start_time": "2024-11-14T18:24:44.905Z"
   },
   {
    "duration": 6,
    "start_time": "2024-11-14T18:24:44.919Z"
   },
   {
    "duration": 18,
    "start_time": "2024-11-14T18:24:44.927Z"
   },
   {
    "duration": 33,
    "start_time": "2024-11-14T18:24:44.947Z"
   },
   {
    "duration": 35,
    "start_time": "2024-11-14T18:24:44.981Z"
   },
   {
    "duration": 24,
    "start_time": "2024-11-14T18:24:45.020Z"
   },
   {
    "duration": 60,
    "start_time": "2024-11-14T18:24:45.045Z"
   },
   {
    "duration": 8,
    "start_time": "2024-11-14T18:24:45.111Z"
   },
   {
    "duration": 8,
    "start_time": "2024-11-14T18:24:45.120Z"
   },
   {
    "duration": 268,
    "start_time": "2024-11-14T18:24:45.131Z"
   },
   {
    "duration": 181,
    "start_time": "2024-11-14T18:24:45.401Z"
   },
   {
    "duration": 271,
    "start_time": "2024-11-14T18:24:45.583Z"
   },
   {
    "duration": 9,
    "start_time": "2024-11-14T18:24:45.856Z"
   },
   {
    "duration": 6,
    "start_time": "2024-11-14T18:24:45.867Z"
   },
   {
    "duration": 31,
    "start_time": "2024-11-14T18:24:45.874Z"
   },
   {
    "duration": 210,
    "start_time": "2024-11-14T18:24:45.907Z"
   },
   {
    "duration": 47,
    "start_time": "2024-11-14T18:24:46.119Z"
   },
   {
    "duration": 970,
    "start_time": "2024-11-14T18:24:46.168Z"
   },
   {
    "duration": 711,
    "start_time": "2024-11-14T18:25:01.910Z"
   },
   {
    "duration": 5,
    "start_time": "2024-11-14T18:30:46.800Z"
   },
   {
    "duration": 107,
    "start_time": "2024-11-14T18:30:53.188Z"
   },
   {
    "duration": 583,
    "start_time": "2024-11-14T18:31:37.230Z"
   },
   {
    "duration": 905,
    "start_time": "2024-11-14T18:32:05.223Z"
   },
   {
    "duration": 1094,
    "start_time": "2024-11-14T18:32:16.842Z"
   },
   {
    "duration": 904,
    "start_time": "2024-11-14T18:32:27.361Z"
   },
   {
    "duration": 7,
    "start_time": "2024-11-14T18:34:50.142Z"
   },
   {
    "duration": 9,
    "start_time": "2024-11-14T18:35:04.861Z"
   },
   {
    "duration": 216,
    "start_time": "2024-11-14T18:37:07.454Z"
   },
   {
    "duration": 225,
    "start_time": "2024-11-14T18:39:21.171Z"
   },
   {
    "duration": 1002,
    "start_time": "2024-11-14T18:42:08.729Z"
   },
   {
    "duration": 8,
    "start_time": "2024-11-14T18:42:26.071Z"
   },
   {
    "duration": 216,
    "start_time": "2024-11-14T18:42:34.263Z"
   },
   {
    "duration": 9,
    "start_time": "2024-11-14T18:43:08.250Z"
   },
   {
    "duration": 226,
    "start_time": "2024-11-14T18:43:12.295Z"
   },
   {
    "duration": 217,
    "start_time": "2024-11-14T18:43:16.960Z"
   },
   {
    "duration": 221,
    "start_time": "2024-11-14T18:44:40.503Z"
   },
   {
    "duration": 231,
    "start_time": "2024-11-14T18:44:47.609Z"
   },
   {
    "duration": 228,
    "start_time": "2024-11-14T18:45:34.855Z"
   },
   {
    "duration": 293,
    "start_time": "2024-11-14T18:45:49.055Z"
   },
   {
    "duration": 279,
    "start_time": "2024-11-14T19:46:29.095Z"
   },
   {
    "duration": 278,
    "start_time": "2024-11-14T19:46:34.891Z"
   },
   {
    "duration": 274,
    "start_time": "2024-11-14T19:46:57.451Z"
   },
   {
    "duration": 290,
    "start_time": "2024-11-14T19:47:03.332Z"
   },
   {
    "duration": 151,
    "start_time": "2024-11-14T19:48:40.116Z"
   },
   {
    "duration": 150,
    "start_time": "2024-11-14T19:49:50.416Z"
   },
   {
    "duration": 149,
    "start_time": "2024-11-14T19:49:58.859Z"
   },
   {
    "duration": 252,
    "start_time": "2024-11-14T19:50:30.537Z"
   },
   {
    "duration": 206,
    "start_time": "2024-11-14T19:50:38.193Z"
   },
   {
    "duration": 156,
    "start_time": "2024-11-14T19:50:44.672Z"
   },
   {
    "duration": 136,
    "start_time": "2024-11-14T19:50:50.365Z"
   },
   {
    "duration": 152,
    "start_time": "2024-11-14T19:50:55.614Z"
   },
   {
    "duration": 19,
    "start_time": "2024-11-14T20:06:59.519Z"
   },
   {
    "duration": 23,
    "start_time": "2024-11-14T20:09:21.956Z"
   },
   {
    "duration": 635,
    "start_time": "2024-11-14T20:13:26.052Z"
   },
   {
    "duration": 676,
    "start_time": "2024-11-14T20:14:21.424Z"
   },
   {
    "duration": 13,
    "start_time": "2024-11-14T20:16:50.167Z"
   },
   {
    "duration": 4637,
    "start_time": "2024-11-14T20:17:00.292Z"
   },
   {
    "duration": 255,
    "start_time": "2024-11-14T20:17:34.176Z"
   },
   {
    "duration": 254,
    "start_time": "2024-11-14T20:19:08.815Z"
   },
   {
    "duration": 27,
    "start_time": "2024-11-14T20:20:17.321Z"
   },
   {
    "duration": 188,
    "start_time": "2024-11-14T21:05:46.283Z"
   },
   {
    "duration": 2212,
    "start_time": "2024-11-14T21:05:51.050Z"
   },
   {
    "duration": 1024,
    "start_time": "2024-11-14T21:05:53.270Z"
   },
   {
    "duration": 18,
    "start_time": "2024-11-14T21:05:54.296Z"
   },
   {
    "duration": 90,
    "start_time": "2024-11-14T21:05:54.316Z"
   },
   {
    "duration": 15,
    "start_time": "2024-11-14T21:05:54.409Z"
   },
   {
    "duration": 14,
    "start_time": "2024-11-14T21:05:54.425Z"
   },
   {
    "duration": 46,
    "start_time": "2024-11-14T21:05:54.441Z"
   },
   {
    "duration": 500,
    "start_time": "2024-11-14T21:05:54.489Z"
   },
   {
    "duration": 11,
    "start_time": "2024-11-14T21:05:54.991Z"
   },
   {
    "duration": 8,
    "start_time": "2024-11-14T21:05:55.004Z"
   },
   {
    "duration": 10,
    "start_time": "2024-11-14T21:05:55.014Z"
   },
   {
    "duration": 8,
    "start_time": "2024-11-14T21:05:55.026Z"
   },
   {
    "duration": 203,
    "start_time": "2024-11-14T21:05:55.036Z"
   },
   {
    "duration": 8,
    "start_time": "2024-11-14T21:05:55.243Z"
   },
   {
    "duration": 111,
    "start_time": "2024-11-14T21:05:55.253Z"
   },
   {
    "duration": 108,
    "start_time": "2024-11-14T21:05:55.369Z"
   },
   {
    "duration": 49,
    "start_time": "2024-11-14T21:05:55.479Z"
   },
   {
    "duration": 12,
    "start_time": "2024-11-14T21:05:55.530Z"
   },
   {
    "duration": 26,
    "start_time": "2024-11-14T21:05:55.544Z"
   },
   {
    "duration": 21,
    "start_time": "2024-11-14T21:05:55.572Z"
   },
   {
    "duration": 25,
    "start_time": "2024-11-14T21:05:55.594Z"
   },
   {
    "duration": 4,
    "start_time": "2024-11-14T21:05:55.620Z"
   },
   {
    "duration": 3,
    "start_time": "2024-11-14T21:05:55.626Z"
   },
   {
    "duration": 39,
    "start_time": "2024-11-14T21:05:55.631Z"
   },
   {
    "duration": 4,
    "start_time": "2024-11-14T21:05:55.672Z"
   },
   {
    "duration": 796,
    "start_time": "2024-11-14T21:05:55.677Z"
   },
   {
    "duration": 759,
    "start_time": "2024-11-14T21:05:56.475Z"
   },
   {
    "duration": 8,
    "start_time": "2024-11-14T21:05:57.236Z"
   },
   {
    "duration": 3,
    "start_time": "2024-11-14T21:05:57.246Z"
   },
   {
    "duration": 21,
    "start_time": "2024-11-14T21:05:57.251Z"
   },
   {
    "duration": 7,
    "start_time": "2024-11-14T21:05:57.275Z"
   },
   {
    "duration": 8,
    "start_time": "2024-11-14T21:05:57.284Z"
   },
   {
    "duration": 6,
    "start_time": "2024-11-14T21:05:57.294Z"
   },
   {
    "duration": 11,
    "start_time": "2024-11-14T21:05:57.302Z"
   },
   {
    "duration": 7,
    "start_time": "2024-11-14T21:05:57.315Z"
   },
   {
    "duration": 53,
    "start_time": "2024-11-14T21:05:57.323Z"
   },
   {
    "duration": 31,
    "start_time": "2024-11-14T21:05:57.378Z"
   },
   {
    "duration": 13,
    "start_time": "2024-11-14T21:05:57.411Z"
   },
   {
    "duration": 48,
    "start_time": "2024-11-14T21:05:57.426Z"
   },
   {
    "duration": 46,
    "start_time": "2024-11-14T21:05:57.476Z"
   },
   {
    "duration": 9,
    "start_time": "2024-11-14T21:05:57.529Z"
   },
   {
    "duration": 6,
    "start_time": "2024-11-14T21:05:57.540Z"
   },
   {
    "duration": 324,
    "start_time": "2024-11-14T21:05:57.548Z"
   },
   {
    "duration": 182,
    "start_time": "2024-11-14T21:05:57.874Z"
   },
   {
    "duration": 269,
    "start_time": "2024-11-14T21:05:58.058Z"
   },
   {
    "duration": 10,
    "start_time": "2024-11-14T21:05:58.329Z"
   },
   {
    "duration": 6,
    "start_time": "2024-11-14T21:05:58.341Z"
   },
   {
    "duration": 24,
    "start_time": "2024-11-14T21:05:58.348Z"
   },
   {
    "duration": 221,
    "start_time": "2024-11-14T21:05:58.374Z"
   },
   {
    "duration": 48,
    "start_time": "2024-11-14T21:05:58.596Z"
   },
   {
    "duration": 986,
    "start_time": "2024-11-14T21:05:58.646Z"
   },
   {
    "duration": 1025,
    "start_time": "2024-11-14T21:05:59.634Z"
   },
   {
    "duration": 15,
    "start_time": "2024-11-14T21:06:00.661Z"
   },
   {
    "duration": 256,
    "start_time": "2024-11-14T21:06:00.678Z"
   },
   {
    "duration": 287,
    "start_time": "2024-11-14T21:06:00.936Z"
   },
   {
    "duration": 156,
    "start_time": "2024-11-14T21:06:01.226Z"
   },
   {
    "duration": 680,
    "start_time": "2024-11-14T21:15:04.123Z"
   },
   {
    "duration": 110,
    "start_time": "2024-11-14T21:16:29.924Z"
   },
   {
    "duration": 994,
    "start_time": "2024-11-14T21:22:52.564Z"
   },
   {
    "duration": 1023,
    "start_time": "2024-11-14T21:23:26.320Z"
   },
   {
    "duration": 959,
    "start_time": "2024-11-14T21:23:32.273Z"
   },
   {
    "duration": 972,
    "start_time": "2024-11-14T21:23:40.652Z"
   },
   {
    "duration": 973,
    "start_time": "2024-11-14T21:24:16.708Z"
   },
   {
    "duration": 596,
    "start_time": "2024-11-14T21:25:12.330Z"
   },
   {
    "duration": 552,
    "start_time": "2024-11-14T21:26:01.333Z"
   },
   {
    "duration": 6,
    "start_time": "2024-11-14T21:26:06.355Z"
   },
   {
    "duration": 502,
    "start_time": "2024-11-14T21:26:21.777Z"
   },
   {
    "duration": 6,
    "start_time": "2024-11-14T21:26:23.538Z"
   },
   {
    "duration": 288,
    "start_time": "2024-11-14T21:31:04.038Z"
   },
   {
    "duration": 171,
    "start_time": "2024-11-14T21:31:23.000Z"
   },
   {
    "duration": 6,
    "start_time": "2024-11-14T21:31:33.293Z"
   },
   {
    "duration": 475,
    "start_time": "2024-11-14T21:32:37.124Z"
   },
   {
    "duration": 210,
    "start_time": "2024-11-14T21:32:42.939Z"
   },
   {
    "duration": 45,
    "start_time": "2024-11-14T21:57:32.178Z"
   },
   {
    "duration": 44,
    "start_time": "2024-11-14T22:04:12.091Z"
   },
   {
    "duration": 57,
    "start_time": "2024-11-14T22:04:19.591Z"
   },
   {
    "duration": 218,
    "start_time": "2024-11-14T22:08:03.800Z"
   },
   {
    "duration": 43,
    "start_time": "2024-11-14T22:08:46.686Z"
   },
   {
    "duration": 56,
    "start_time": "2024-11-14T22:09:24.634Z"
   },
   {
    "duration": 29,
    "start_time": "2024-11-14T22:09:56.729Z"
   },
   {
    "duration": 34,
    "start_time": "2024-11-14T22:10:02.848Z"
   },
   {
    "duration": 40,
    "start_time": "2024-11-14T22:12:33.520Z"
   },
   {
    "duration": 16,
    "start_time": "2024-11-14T22:13:09.952Z"
   },
   {
    "duration": 5,
    "start_time": "2024-11-14T22:13:23.795Z"
   },
   {
    "duration": 1007,
    "start_time": "2024-11-14T22:13:27.478Z"
   },
   {
    "duration": 93,
    "start_time": "2024-11-14T22:16:34.927Z"
   },
   {
    "duration": 66,
    "start_time": "2024-11-14T22:16:48.160Z"
   },
   {
    "duration": 15,
    "start_time": "2024-11-14T22:18:33.561Z"
   },
   {
    "duration": 5,
    "start_time": "2024-11-14T22:18:55.930Z"
   },
   {
    "duration": 12,
    "start_time": "2024-11-14T22:18:58.316Z"
   },
   {
    "duration": 4,
    "start_time": "2024-11-14T22:19:18.665Z"
   },
   {
    "duration": 107,
    "start_time": "2024-11-14T22:21:01.515Z"
   },
   {
    "duration": 150,
    "start_time": "2024-11-14T22:21:17.463Z"
   },
   {
    "duration": 143,
    "start_time": "2024-11-14T22:21:30.355Z"
   },
   {
    "duration": 14,
    "start_time": "2024-11-14T22:22:14.608Z"
   },
   {
    "duration": 5,
    "start_time": "2024-11-14T22:22:23.416Z"
   },
   {
    "duration": 6,
    "start_time": "2024-11-14T22:22:31.419Z"
   },
   {
    "duration": 6,
    "start_time": "2024-11-14T22:22:58.204Z"
   },
   {
    "duration": 0,
    "start_time": "2024-11-14T22:25:17.179Z"
   },
   {
    "duration": 0,
    "start_time": "2024-11-14T22:25:17.180Z"
   },
   {
    "duration": 410,
    "start_time": "2024-11-14T22:25:28.734Z"
   },
   {
    "duration": 910,
    "start_time": "2024-11-14T22:25:29.147Z"
   },
   {
    "duration": 31,
    "start_time": "2024-11-14T22:25:30.059Z"
   },
   {
    "duration": 105,
    "start_time": "2024-11-14T22:25:30.093Z"
   },
   {
    "duration": 24,
    "start_time": "2024-11-14T22:25:30.200Z"
   },
   {
    "duration": 21,
    "start_time": "2024-11-14T22:25:30.226Z"
   },
   {
    "duration": 41,
    "start_time": "2024-11-14T22:25:30.248Z"
   },
   {
    "duration": 513,
    "start_time": "2024-11-14T22:25:30.291Z"
   },
   {
    "duration": 14,
    "start_time": "2024-11-14T22:25:30.806Z"
   },
   {
    "duration": 9,
    "start_time": "2024-11-14T22:25:30.824Z"
   },
   {
    "duration": 36,
    "start_time": "2024-11-14T22:25:30.835Z"
   },
   {
    "duration": 11,
    "start_time": "2024-11-14T22:25:30.873Z"
   },
   {
    "duration": 200,
    "start_time": "2024-11-14T22:25:30.886Z"
   },
   {
    "duration": 11,
    "start_time": "2024-11-14T22:25:31.088Z"
   },
   {
    "duration": 119,
    "start_time": "2024-11-14T22:25:31.100Z"
   },
   {
    "duration": 109,
    "start_time": "2024-11-14T22:25:31.221Z"
   },
   {
    "duration": 51,
    "start_time": "2024-11-14T22:25:31.334Z"
   },
   {
    "duration": 13,
    "start_time": "2024-11-14T22:25:31.386Z"
   },
   {
    "duration": 4,
    "start_time": "2024-11-14T22:25:31.401Z"
   },
   {
    "duration": 22,
    "start_time": "2024-11-14T22:25:31.407Z"
   },
   {
    "duration": 52,
    "start_time": "2024-11-14T22:25:31.431Z"
   },
   {
    "duration": 3,
    "start_time": "2024-11-14T22:25:31.485Z"
   },
   {
    "duration": 4,
    "start_time": "2024-11-14T22:25:31.490Z"
   },
   {
    "duration": 4,
    "start_time": "2024-11-14T22:25:31.496Z"
   },
   {
    "duration": 4,
    "start_time": "2024-11-14T22:25:31.501Z"
   },
   {
    "duration": 807,
    "start_time": "2024-11-14T22:25:31.506Z"
   },
   {
    "duration": 704,
    "start_time": "2024-11-14T22:25:32.315Z"
   },
   {
    "duration": 9,
    "start_time": "2024-11-14T22:25:33.024Z"
   },
   {
    "duration": 4,
    "start_time": "2024-11-14T22:25:33.034Z"
   },
   {
    "duration": 4,
    "start_time": "2024-11-14T22:25:33.039Z"
   },
   {
    "duration": 28,
    "start_time": "2024-11-14T22:25:33.044Z"
   },
   {
    "duration": 8,
    "start_time": "2024-11-14T22:25:33.074Z"
   },
   {
    "duration": 7,
    "start_time": "2024-11-14T22:25:33.084Z"
   },
   {
    "duration": 11,
    "start_time": "2024-11-14T22:25:33.092Z"
   },
   {
    "duration": 7,
    "start_time": "2024-11-14T22:25:33.104Z"
   },
   {
    "duration": 17,
    "start_time": "2024-11-14T22:25:33.113Z"
   },
   {
    "duration": 67,
    "start_time": "2024-11-14T22:25:33.131Z"
   },
   {
    "duration": 14,
    "start_time": "2024-11-14T22:25:33.200Z"
   },
   {
    "duration": 22,
    "start_time": "2024-11-14T22:25:33.215Z"
   },
   {
    "duration": 59,
    "start_time": "2024-11-14T22:25:33.239Z"
   },
   {
    "duration": 8,
    "start_time": "2024-11-14T22:25:33.299Z"
   },
   {
    "duration": 7,
    "start_time": "2024-11-14T22:25:33.308Z"
   },
   {
    "duration": 278,
    "start_time": "2024-11-14T22:25:33.317Z"
   },
   {
    "duration": 184,
    "start_time": "2024-11-14T22:25:33.597Z"
   },
   {
    "duration": 262,
    "start_time": "2024-11-14T22:25:33.782Z"
   },
   {
    "duration": 10,
    "start_time": "2024-11-14T22:25:34.046Z"
   },
   {
    "duration": 16,
    "start_time": "2024-11-14T22:25:34.057Z"
   },
   {
    "duration": 16,
    "start_time": "2024-11-14T22:25:34.075Z"
   },
   {
    "duration": 216,
    "start_time": "2024-11-14T22:25:34.093Z"
   },
   {
    "duration": 47,
    "start_time": "2024-11-14T22:25:34.311Z"
   },
   {
    "duration": 968,
    "start_time": "2024-11-14T22:25:34.370Z"
   },
   {
    "duration": 1010,
    "start_time": "2024-11-14T22:25:35.339Z"
   },
   {
    "duration": 8,
    "start_time": "2024-11-14T22:25:36.350Z"
   },
   {
    "duration": 332,
    "start_time": "2024-11-14T22:25:36.360Z"
   },
   {
    "duration": 299,
    "start_time": "2024-11-14T22:25:36.694Z"
   },
   {
    "duration": 157,
    "start_time": "2024-11-14T22:25:36.995Z"
   },
   {
    "duration": 698,
    "start_time": "2024-11-14T22:25:37.154Z"
   },
   {
    "duration": 9,
    "start_time": "2024-11-14T22:25:37.854Z"
   },
   {
    "duration": 221,
    "start_time": "2024-11-14T22:25:37.870Z"
   },
   {
    "duration": 219,
    "start_time": "2024-11-14T22:25:38.094Z"
   },
   {
    "duration": 10,
    "start_time": "2024-11-14T22:25:59.685Z"
   },
   {
    "duration": 444,
    "start_time": "2024-11-14T22:35:34.492Z"
   },
   {
    "duration": 925,
    "start_time": "2024-11-14T22:35:34.938Z"
   },
   {
    "duration": 20,
    "start_time": "2024-11-14T22:35:35.865Z"
   },
   {
    "duration": 88,
    "start_time": "2024-11-14T22:35:35.888Z"
   },
   {
    "duration": 13,
    "start_time": "2024-11-14T22:35:35.979Z"
   },
   {
    "duration": 14,
    "start_time": "2024-11-14T22:35:35.994Z"
   },
   {
    "duration": 28,
    "start_time": "2024-11-14T22:35:36.011Z"
   },
   {
    "duration": 541,
    "start_time": "2024-11-14T22:35:36.041Z"
   },
   {
    "duration": 11,
    "start_time": "2024-11-14T22:35:36.584Z"
   },
   {
    "duration": 8,
    "start_time": "2024-11-14T22:35:36.597Z"
   },
   {
    "duration": 11,
    "start_time": "2024-11-14T22:35:36.607Z"
   },
   {
    "duration": 8,
    "start_time": "2024-11-14T22:35:36.620Z"
   },
   {
    "duration": 207,
    "start_time": "2024-11-14T22:35:36.629Z"
   },
   {
    "duration": 8,
    "start_time": "2024-11-14T22:35:36.840Z"
   },
   {
    "duration": 113,
    "start_time": "2024-11-14T22:35:36.849Z"
   },
   {
    "duration": 98,
    "start_time": "2024-11-14T22:35:36.964Z"
   },
   {
    "duration": 49,
    "start_time": "2024-11-14T22:35:37.070Z"
   },
   {
    "duration": 13,
    "start_time": "2024-11-14T22:35:37.121Z"
   },
   {
    "duration": 5,
    "start_time": "2024-11-14T22:35:37.135Z"
   },
   {
    "duration": 51,
    "start_time": "2024-11-14T22:35:37.142Z"
   },
   {
    "duration": 25,
    "start_time": "2024-11-14T22:35:37.196Z"
   },
   {
    "duration": 4,
    "start_time": "2024-11-14T22:35:37.222Z"
   },
   {
    "duration": 5,
    "start_time": "2024-11-14T22:35:37.228Z"
   },
   {
    "duration": 4,
    "start_time": "2024-11-14T22:35:37.234Z"
   },
   {
    "duration": 31,
    "start_time": "2024-11-14T22:35:37.239Z"
   },
   {
    "duration": 802,
    "start_time": "2024-11-14T22:35:37.273Z"
   },
   {
    "duration": 721,
    "start_time": "2024-11-14T22:35:38.077Z"
   },
   {
    "duration": 8,
    "start_time": "2024-11-14T22:35:38.800Z"
   },
   {
    "duration": 4,
    "start_time": "2024-11-14T22:35:38.809Z"
   },
   {
    "duration": 3,
    "start_time": "2024-11-14T22:35:38.815Z"
   },
   {
    "duration": 8,
    "start_time": "2024-11-14T22:35:38.819Z"
   },
   {
    "duration": 8,
    "start_time": "2024-11-14T22:35:38.828Z"
   },
   {
    "duration": 35,
    "start_time": "2024-11-14T22:35:38.837Z"
   },
   {
    "duration": 12,
    "start_time": "2024-11-14T22:35:38.874Z"
   },
   {
    "duration": 6,
    "start_time": "2024-11-14T22:35:38.888Z"
   },
   {
    "duration": 17,
    "start_time": "2024-11-14T22:35:38.896Z"
   },
   {
    "duration": 63,
    "start_time": "2024-11-14T22:35:38.916Z"
   },
   {
    "duration": 13,
    "start_time": "2024-11-14T22:35:38.981Z"
   },
   {
    "duration": 21,
    "start_time": "2024-11-14T22:35:38.997Z"
   },
   {
    "duration": 59,
    "start_time": "2024-11-14T22:35:39.020Z"
   },
   {
    "duration": 7,
    "start_time": "2024-11-14T22:35:39.084Z"
   },
   {
    "duration": 6,
    "start_time": "2024-11-14T22:35:39.093Z"
   },
   {
    "duration": 266,
    "start_time": "2024-11-14T22:35:39.100Z"
   },
   {
    "duration": 180,
    "start_time": "2024-11-14T22:35:39.370Z"
   },
   {
    "duration": 268,
    "start_time": "2024-11-14T22:35:39.552Z"
   },
   {
    "duration": 9,
    "start_time": "2024-11-14T22:35:39.821Z"
   },
   {
    "duration": 6,
    "start_time": "2024-11-14T22:35:39.832Z"
   },
   {
    "duration": 8,
    "start_time": "2024-11-14T22:35:39.839Z"
   },
   {
    "duration": 233,
    "start_time": "2024-11-14T22:35:39.849Z"
   },
   {
    "duration": 46,
    "start_time": "2024-11-14T22:35:40.084Z"
   },
   {
    "duration": 984,
    "start_time": "2024-11-14T22:35:40.132Z"
   },
   {
    "duration": 1007,
    "start_time": "2024-11-14T22:35:41.118Z"
   },
   {
    "duration": 8,
    "start_time": "2024-11-14T22:35:42.127Z"
   },
   {
    "duration": 270,
    "start_time": "2024-11-14T22:35:42.136Z"
   },
   {
    "duration": 289,
    "start_time": "2024-11-14T22:35:42.408Z"
   },
   {
    "duration": 205,
    "start_time": "2024-11-14T22:35:42.698Z"
   },
   {
    "duration": 631,
    "start_time": "2024-11-14T22:35:42.905Z"
   },
   {
    "duration": 9,
    "start_time": "2024-11-14T22:35:43.539Z"
   },
   {
    "duration": 236,
    "start_time": "2024-11-14T22:35:43.549Z"
   },
   {
    "duration": 190,
    "start_time": "2024-11-14T22:35:43.787Z"
   },
   {
    "duration": 11,
    "start_time": "2024-11-14T22:35:58.740Z"
   },
   {
    "duration": 9,
    "start_time": "2024-11-14T23:02:08.263Z"
   },
   {
    "duration": 135,
    "start_time": "2024-11-14T23:33:55.510Z"
   },
   {
    "duration": 137,
    "start_time": "2024-11-14T23:34:03.148Z"
   },
   {
    "duration": 10,
    "start_time": "2024-11-14T23:34:06.692Z"
   },
   {
    "duration": 153,
    "start_time": "2024-11-14T23:36:03.651Z"
   },
   {
    "duration": 184,
    "start_time": "2024-11-14T23:36:38.643Z"
   },
   {
    "duration": 9,
    "start_time": "2024-11-14T23:36:45.203Z"
   },
   {
    "duration": 14,
    "start_time": "2024-11-14T23:36:51.905Z"
   },
   {
    "duration": 14,
    "start_time": "2024-11-14T23:41:45.881Z"
   },
   {
    "duration": 137,
    "start_time": "2024-11-14T23:44:10.006Z"
   },
   {
    "duration": 15,
    "start_time": "2024-11-14T23:44:11.690Z"
   },
   {
    "duration": 162,
    "start_time": "2024-11-15T04:02:21.602Z"
   },
   {
    "duration": 2193,
    "start_time": "2024-11-15T04:02:33.118Z"
   },
   {
    "duration": 1069,
    "start_time": "2024-11-15T04:02:35.313Z"
   },
   {
    "duration": 18,
    "start_time": "2024-11-15T04:02:36.384Z"
   },
   {
    "duration": 91,
    "start_time": "2024-11-15T04:02:36.404Z"
   },
   {
    "duration": 13,
    "start_time": "2024-11-15T04:02:36.498Z"
   },
   {
    "duration": 28,
    "start_time": "2024-11-15T04:02:36.512Z"
   },
   {
    "duration": 25,
    "start_time": "2024-11-15T04:02:36.542Z"
   },
   {
    "duration": 506,
    "start_time": "2024-11-15T04:02:36.569Z"
   },
   {
    "duration": 11,
    "start_time": "2024-11-15T04:02:37.077Z"
   },
   {
    "duration": 9,
    "start_time": "2024-11-15T04:02:37.090Z"
   },
   {
    "duration": 32,
    "start_time": "2024-11-15T04:02:37.100Z"
   },
   {
    "duration": 9,
    "start_time": "2024-11-15T04:02:37.134Z"
   },
   {
    "duration": 188,
    "start_time": "2024-11-15T04:02:37.145Z"
   },
   {
    "duration": 7,
    "start_time": "2024-11-15T04:02:37.338Z"
   },
   {
    "duration": 113,
    "start_time": "2024-11-15T04:02:37.347Z"
   },
   {
    "duration": 116,
    "start_time": "2024-11-15T04:02:37.462Z"
   },
   {
    "duration": 54,
    "start_time": "2024-11-15T04:02:37.580Z"
   },
   {
    "duration": 16,
    "start_time": "2024-11-15T04:02:37.636Z"
   },
   {
    "duration": 6,
    "start_time": "2024-11-15T04:02:37.654Z"
   },
   {
    "duration": 28,
    "start_time": "2024-11-15T04:02:37.662Z"
   },
   {
    "duration": 47,
    "start_time": "2024-11-15T04:02:37.692Z"
   },
   {
    "duration": 4,
    "start_time": "2024-11-15T04:02:37.741Z"
   },
   {
    "duration": 3,
    "start_time": "2024-11-15T04:02:37.747Z"
   },
   {
    "duration": 4,
    "start_time": "2024-11-15T04:02:37.752Z"
   },
   {
    "duration": 4,
    "start_time": "2024-11-15T04:02:37.757Z"
   },
   {
    "duration": 839,
    "start_time": "2024-11-15T04:02:37.762Z"
   },
   {
    "duration": 703,
    "start_time": "2024-11-15T04:02:38.603Z"
   },
   {
    "duration": 9,
    "start_time": "2024-11-15T04:02:39.307Z"
   },
   {
    "duration": 14,
    "start_time": "2024-11-15T04:02:39.318Z"
   },
   {
    "duration": 4,
    "start_time": "2024-11-15T04:02:39.334Z"
   },
   {
    "duration": 7,
    "start_time": "2024-11-15T04:02:39.340Z"
   },
   {
    "duration": 8,
    "start_time": "2024-11-15T04:02:39.348Z"
   },
   {
    "duration": 7,
    "start_time": "2024-11-15T04:02:39.358Z"
   },
   {
    "duration": 11,
    "start_time": "2024-11-15T04:02:39.366Z"
   },
   {
    "duration": 7,
    "start_time": "2024-11-15T04:02:39.379Z"
   },
   {
    "duration": 54,
    "start_time": "2024-11-15T04:02:39.390Z"
   },
   {
    "duration": 32,
    "start_time": "2024-11-15T04:02:39.446Z"
   },
   {
    "duration": 12,
    "start_time": "2024-11-15T04:02:39.480Z"
   },
   {
    "duration": 47,
    "start_time": "2024-11-15T04:02:39.494Z"
   },
   {
    "duration": 39,
    "start_time": "2024-11-15T04:02:39.543Z"
   },
   {
    "duration": 7,
    "start_time": "2024-11-15T04:02:39.587Z"
   },
   {
    "duration": 7,
    "start_time": "2024-11-15T04:02:39.596Z"
   },
   {
    "duration": 273,
    "start_time": "2024-11-15T04:02:39.605Z"
   },
   {
    "duration": 183,
    "start_time": "2024-11-15T04:02:39.881Z"
   },
   {
    "duration": 266,
    "start_time": "2024-11-15T04:02:40.066Z"
   },
   {
    "duration": 9,
    "start_time": "2024-11-15T04:02:40.334Z"
   },
   {
    "duration": 5,
    "start_time": "2024-11-15T04:02:40.344Z"
   },
   {
    "duration": 7,
    "start_time": "2024-11-15T04:02:40.351Z"
   },
   {
    "duration": 239,
    "start_time": "2024-11-15T04:02:40.360Z"
   },
   {
    "duration": 59,
    "start_time": "2024-11-15T04:02:40.601Z"
   },
   {
    "duration": 976,
    "start_time": "2024-11-15T04:02:40.662Z"
   },
   {
    "duration": 1025,
    "start_time": "2024-11-15T04:02:41.640Z"
   },
   {
    "duration": 8,
    "start_time": "2024-11-15T04:02:42.666Z"
   },
   {
    "duration": 261,
    "start_time": "2024-11-15T04:02:42.675Z"
   },
   {
    "duration": 310,
    "start_time": "2024-11-15T04:02:42.938Z"
   },
   {
    "duration": 235,
    "start_time": "2024-11-15T04:02:43.250Z"
   },
   {
    "duration": 646,
    "start_time": "2024-11-15T04:02:43.487Z"
   },
   {
    "duration": 10,
    "start_time": "2024-11-15T04:02:44.135Z"
   },
   {
    "duration": 227,
    "start_time": "2024-11-15T04:02:44.147Z"
   },
   {
    "duration": 178,
    "start_time": "2024-11-15T04:02:44.376Z"
   },
   {
    "duration": 15,
    "start_time": "2024-11-15T04:02:44.556Z"
   },
   {
    "duration": 807,
    "start_time": "2024-11-15T04:02:48.653Z"
   },
   {
    "duration": 749,
    "start_time": "2024-11-15T04:05:17.486Z"
   },
   {
    "duration": 45,
    "start_time": "2024-11-15T04:05:49.965Z"
   },
   {
    "duration": 710,
    "start_time": "2024-11-15T04:06:07.399Z"
   },
   {
    "duration": 23,
    "start_time": "2024-11-15T04:06:09.402Z"
   },
   {
    "duration": 695,
    "start_time": "2024-11-15T04:07:36.530Z"
   },
   {
    "duration": 21,
    "start_time": "2024-11-15T04:07:39.161Z"
   },
   {
    "duration": 453,
    "start_time": "2024-11-15T04:08:23.472Z"
   },
   {
    "duration": 724,
    "start_time": "2024-11-15T04:08:58.111Z"
   },
   {
    "duration": 21,
    "start_time": "2024-11-15T04:09:00.836Z"
   },
   {
    "duration": 723,
    "start_time": "2024-11-15T04:09:48.994Z"
   },
   {
    "duration": 19,
    "start_time": "2024-11-15T04:09:52.328Z"
   },
   {
    "duration": 811,
    "start_time": "2024-11-15T04:10:59.837Z"
   },
   {
    "duration": 20,
    "start_time": "2024-11-15T04:11:02.655Z"
   },
   {
    "duration": 714,
    "start_time": "2024-11-15T04:11:19.922Z"
   },
   {
    "duration": 818,
    "start_time": "2024-11-15T04:11:48.603Z"
   },
   {
    "duration": 19,
    "start_time": "2024-11-15T04:12:17.777Z"
   },
   {
    "duration": 736,
    "start_time": "2024-11-15T04:12:51.484Z"
   },
   {
    "duration": 21,
    "start_time": "2024-11-15T04:12:54.871Z"
   },
   {
    "duration": 163,
    "start_time": "2024-11-15T14:52:21.003Z"
   },
   {
    "duration": 2109,
    "start_time": "2024-11-15T14:52:28.549Z"
   },
   {
    "duration": 1038,
    "start_time": "2024-11-15T14:52:30.660Z"
   },
   {
    "duration": 17,
    "start_time": "2024-11-15T14:52:31.699Z"
   },
   {
    "duration": 87,
    "start_time": "2024-11-15T14:52:31.718Z"
   },
   {
    "duration": 14,
    "start_time": "2024-11-15T14:52:31.809Z"
   },
   {
    "duration": 15,
    "start_time": "2024-11-15T14:52:31.824Z"
   },
   {
    "duration": 47,
    "start_time": "2024-11-15T14:52:31.840Z"
   },
   {
    "duration": 498,
    "start_time": "2024-11-15T14:52:31.890Z"
   },
   {
    "duration": 11,
    "start_time": "2024-11-15T14:52:32.390Z"
   },
   {
    "duration": 9,
    "start_time": "2024-11-15T14:52:32.403Z"
   },
   {
    "duration": 10,
    "start_time": "2024-11-15T14:52:32.413Z"
   },
   {
    "duration": 8,
    "start_time": "2024-11-15T14:52:32.425Z"
   },
   {
    "duration": 199,
    "start_time": "2024-11-15T14:52:32.435Z"
   },
   {
    "duration": 8,
    "start_time": "2024-11-15T14:52:32.638Z"
   },
   {
    "duration": 109,
    "start_time": "2024-11-15T14:52:32.648Z"
   },
   {
    "duration": 95,
    "start_time": "2024-11-15T14:52:32.759Z"
   },
   {
    "duration": 56,
    "start_time": "2024-11-15T14:52:32.856Z"
   },
   {
    "duration": 11,
    "start_time": "2024-11-15T14:52:32.914Z"
   },
   {
    "duration": 4,
    "start_time": "2024-11-15T14:52:32.927Z"
   },
   {
    "duration": 41,
    "start_time": "2024-11-15T14:52:32.933Z"
   },
   {
    "duration": 24,
    "start_time": "2024-11-15T14:52:32.975Z"
   },
   {
    "duration": 3,
    "start_time": "2024-11-15T14:52:33.001Z"
   },
   {
    "duration": 4,
    "start_time": "2024-11-15T14:52:33.006Z"
   },
   {
    "duration": 4,
    "start_time": "2024-11-15T14:52:33.011Z"
   },
   {
    "duration": 4,
    "start_time": "2024-11-15T14:52:33.017Z"
   },
   {
    "duration": 804,
    "start_time": "2024-11-15T14:52:33.023Z"
   },
   {
    "duration": 681,
    "start_time": "2024-11-15T14:52:33.829Z"
   },
   {
    "duration": 8,
    "start_time": "2024-11-15T14:52:34.512Z"
   },
   {
    "duration": 3,
    "start_time": "2024-11-15T14:52:34.522Z"
   },
   {
    "duration": 3,
    "start_time": "2024-11-15T14:52:34.527Z"
   },
   {
    "duration": 7,
    "start_time": "2024-11-15T14:52:34.532Z"
   },
   {
    "duration": 37,
    "start_time": "2024-11-15T14:52:34.541Z"
   },
   {
    "duration": 7,
    "start_time": "2024-11-15T14:52:34.579Z"
   },
   {
    "duration": 11,
    "start_time": "2024-11-15T14:52:34.587Z"
   },
   {
    "duration": 6,
    "start_time": "2024-11-15T14:52:34.600Z"
   },
   {
    "duration": 17,
    "start_time": "2024-11-15T14:52:34.607Z"
   },
   {
    "duration": 63,
    "start_time": "2024-11-15T14:52:34.626Z"
   },
   {
    "duration": 12,
    "start_time": "2024-11-15T14:52:34.691Z"
   },
   {
    "duration": 22,
    "start_time": "2024-11-15T14:52:34.704Z"
   },
   {
    "duration": 59,
    "start_time": "2024-11-15T14:52:34.727Z"
   },
   {
    "duration": 6,
    "start_time": "2024-11-15T14:52:34.792Z"
   },
   {
    "duration": 6,
    "start_time": "2024-11-15T14:52:34.799Z"
   },
   {
    "duration": 305,
    "start_time": "2024-11-15T14:52:34.806Z"
   },
   {
    "duration": 177,
    "start_time": "2024-11-15T14:52:35.113Z"
   },
   {
    "duration": 262,
    "start_time": "2024-11-15T14:52:35.292Z"
   },
   {
    "duration": 14,
    "start_time": "2024-11-15T14:52:35.556Z"
   },
   {
    "duration": 5,
    "start_time": "2024-11-15T14:52:35.571Z"
   },
   {
    "duration": 7,
    "start_time": "2024-11-15T14:52:35.577Z"
   },
   {
    "duration": 223,
    "start_time": "2024-11-15T14:52:35.585Z"
   },
   {
    "duration": 46,
    "start_time": "2024-11-15T14:52:35.809Z"
   },
   {
    "duration": 975,
    "start_time": "2024-11-15T14:52:35.857Z"
   },
   {
    "duration": 1026,
    "start_time": "2024-11-15T14:52:36.834Z"
   },
   {
    "duration": 14,
    "start_time": "2024-11-15T14:52:37.862Z"
   },
   {
    "duration": 238,
    "start_time": "2024-11-15T14:52:37.877Z"
   },
   {
    "duration": 253,
    "start_time": "2024-11-15T14:52:38.117Z"
   },
   {
    "duration": 149,
    "start_time": "2024-11-15T14:52:38.373Z"
   },
   {
    "duration": 622,
    "start_time": "2024-11-15T14:52:38.524Z"
   },
   {
    "duration": 9,
    "start_time": "2024-11-15T14:52:39.147Z"
   },
   {
    "duration": 294,
    "start_time": "2024-11-15T14:52:39.158Z"
   },
   {
    "duration": 176,
    "start_time": "2024-11-15T14:52:39.454Z"
   },
   {
    "duration": 15,
    "start_time": "2024-11-15T14:52:39.632Z"
   },
   {
    "duration": 678,
    "start_time": "2024-11-15T14:54:40.307Z"
   },
   {
    "duration": 53,
    "start_time": "2024-11-15T14:54:44.956Z"
   },
   {
    "duration": 973,
    "start_time": "2024-11-15T14:55:12.954Z"
   },
   {
    "duration": 768,
    "start_time": "2024-11-15T14:55:22.952Z"
   },
   {
    "duration": 19,
    "start_time": "2024-11-15T14:55:37.324Z"
   },
   {
    "duration": 700,
    "start_time": "2024-11-15T14:56:13.029Z"
   },
   {
    "duration": 533,
    "start_time": "2024-11-15T15:05:53.024Z"
   },
   {
    "duration": 773,
    "start_time": "2024-11-15T15:06:29.547Z"
   },
   {
    "duration": 73,
    "start_time": "2024-11-15T15:06:40.774Z"
   },
   {
    "duration": 4,
    "start_time": "2024-11-15T15:06:46.499Z"
   },
   {
    "duration": 812,
    "start_time": "2024-11-15T15:07:04.303Z"
   },
   {
    "duration": 785,
    "start_time": "2024-11-15T15:07:18.997Z"
   },
   {
    "duration": 5,
    "start_time": "2024-11-15T15:07:21.099Z"
   },
   {
    "duration": 475,
    "start_time": "2024-11-15T15:07:43.490Z"
   },
   {
    "duration": 790,
    "start_time": "2024-11-15T15:07:53.465Z"
   },
   {
    "duration": 4,
    "start_time": "2024-11-15T15:07:57.660Z"
   },
   {
    "duration": 197,
    "start_time": "2024-11-15T15:09:48.015Z"
   },
   {
    "duration": 789,
    "start_time": "2024-11-15T15:12:29.640Z"
   },
   {
    "duration": 5,
    "start_time": "2024-11-15T15:12:31.626Z"
   },
   {
    "duration": 809,
    "start_time": "2024-11-15T15:13:10.861Z"
   },
   {
    "duration": 4,
    "start_time": "2024-11-15T15:13:12.914Z"
   },
   {
    "duration": 4,
    "start_time": "2024-11-15T15:13:30.479Z"
   },
   {
    "duration": 209,
    "start_time": "2024-11-15T15:13:40.322Z"
   },
   {
    "duration": 203,
    "start_time": "2024-11-15T15:20:54.913Z"
   },
   {
    "duration": 701,
    "start_time": "2024-11-15T15:55:48.610Z"
   },
   {
    "duration": 607,
    "start_time": "2024-11-15T16:50:19.121Z"
   },
   {
    "duration": 583,
    "start_time": "2024-11-15T16:51:09.155Z"
   },
   {
    "duration": 584,
    "start_time": "2024-11-15T17:18:14.667Z"
   },
   {
    "duration": 609,
    "start_time": "2024-11-15T17:26:39.747Z"
   },
   {
    "duration": 416,
    "start_time": "2024-11-15T17:27:33.628Z"
   },
   {
    "duration": 1064,
    "start_time": "2024-11-15T17:27:34.046Z"
   },
   {
    "duration": 16,
    "start_time": "2024-11-15T17:27:35.112Z"
   },
   {
    "duration": 84,
    "start_time": "2024-11-15T17:27:35.130Z"
   },
   {
    "duration": 12,
    "start_time": "2024-11-15T17:27:35.216Z"
   },
   {
    "duration": 14,
    "start_time": "2024-11-15T17:27:35.230Z"
   },
   {
    "duration": 46,
    "start_time": "2024-11-15T17:27:35.246Z"
   },
   {
    "duration": 503,
    "start_time": "2024-11-15T17:27:35.294Z"
   },
   {
    "duration": 11,
    "start_time": "2024-11-15T17:27:35.798Z"
   },
   {
    "duration": 8,
    "start_time": "2024-11-15T17:27:35.811Z"
   },
   {
    "duration": 10,
    "start_time": "2024-11-15T17:27:35.821Z"
   },
   {
    "duration": 7,
    "start_time": "2024-11-15T17:27:35.833Z"
   },
   {
    "duration": 163,
    "start_time": "2024-11-15T17:27:35.870Z"
   },
   {
    "duration": 7,
    "start_time": "2024-11-15T17:27:36.038Z"
   },
   {
    "duration": 113,
    "start_time": "2024-11-15T17:27:36.046Z"
   },
   {
    "duration": 95,
    "start_time": "2024-11-15T17:27:36.161Z"
   },
   {
    "duration": 47,
    "start_time": "2024-11-15T17:27:36.258Z"
   },
   {
    "duration": 12,
    "start_time": "2024-11-15T17:27:36.307Z"
   },
   {
    "duration": 5,
    "start_time": "2024-11-15T17:27:36.321Z"
   },
   {
    "duration": 45,
    "start_time": "2024-11-15T17:27:36.327Z"
   },
   {
    "duration": 28,
    "start_time": "2024-11-15T17:27:36.374Z"
   },
   {
    "duration": 5,
    "start_time": "2024-11-15T17:27:36.403Z"
   },
   {
    "duration": 4,
    "start_time": "2024-11-15T17:27:36.409Z"
   },
   {
    "duration": 5,
    "start_time": "2024-11-15T17:27:36.415Z"
   },
   {
    "duration": 4,
    "start_time": "2024-11-15T17:27:36.421Z"
   },
   {
    "duration": 827,
    "start_time": "2024-11-15T17:27:36.427Z"
   },
   {
    "duration": 671,
    "start_time": "2024-11-15T17:27:37.256Z"
   },
   {
    "duration": 8,
    "start_time": "2024-11-15T17:27:37.929Z"
   },
   {
    "duration": 3,
    "start_time": "2024-11-15T17:27:37.939Z"
   },
   {
    "duration": 4,
    "start_time": "2024-11-15T17:27:37.943Z"
   },
   {
    "duration": 26,
    "start_time": "2024-11-15T17:27:37.949Z"
   },
   {
    "duration": 8,
    "start_time": "2024-11-15T17:27:37.977Z"
   },
   {
    "duration": 7,
    "start_time": "2024-11-15T17:27:37.987Z"
   },
   {
    "duration": 11,
    "start_time": "2024-11-15T17:27:37.995Z"
   },
   {
    "duration": 6,
    "start_time": "2024-11-15T17:27:38.007Z"
   },
   {
    "duration": 15,
    "start_time": "2024-11-15T17:27:38.016Z"
   },
   {
    "duration": 63,
    "start_time": "2024-11-15T17:27:38.033Z"
   },
   {
    "duration": 12,
    "start_time": "2024-11-15T17:27:38.098Z"
   },
   {
    "duration": 22,
    "start_time": "2024-11-15T17:27:38.111Z"
   },
   {
    "duration": 63,
    "start_time": "2024-11-15T17:27:38.134Z"
   },
   {
    "duration": 7,
    "start_time": "2024-11-15T17:27:38.203Z"
   },
   {
    "duration": 6,
    "start_time": "2024-11-15T17:27:38.212Z"
   },
   {
    "duration": 267,
    "start_time": "2024-11-15T17:27:38.220Z"
   },
   {
    "duration": 182,
    "start_time": "2024-11-15T17:27:38.489Z"
   },
   {
    "duration": 258,
    "start_time": "2024-11-15T17:27:38.673Z"
   },
   {
    "duration": 10,
    "start_time": "2024-11-15T17:27:38.933Z"
   },
   {
    "duration": 5,
    "start_time": "2024-11-15T17:27:38.945Z"
   },
   {
    "duration": 24,
    "start_time": "2024-11-15T17:27:38.951Z"
   },
   {
    "duration": 210,
    "start_time": "2024-11-15T17:27:38.977Z"
   },
   {
    "duration": 45,
    "start_time": "2024-11-15T17:27:39.189Z"
   },
   {
    "duration": 960,
    "start_time": "2024-11-15T17:27:39.236Z"
   },
   {
    "duration": 990,
    "start_time": "2024-11-15T17:27:40.199Z"
   },
   {
    "duration": 7,
    "start_time": "2024-11-15T17:27:41.191Z"
   },
   {
    "duration": 306,
    "start_time": "2024-11-15T17:27:41.200Z"
   },
   {
    "duration": 270,
    "start_time": "2024-11-15T17:27:41.508Z"
   },
   {
    "duration": 151,
    "start_time": "2024-11-15T17:27:41.779Z"
   },
   {
    "duration": 626,
    "start_time": "2024-11-15T17:27:41.932Z"
   },
   {
    "duration": 13,
    "start_time": "2024-11-15T17:27:42.559Z"
   },
   {
    "duration": 244,
    "start_time": "2024-11-15T17:27:42.573Z"
   },
   {
    "duration": 183,
    "start_time": "2024-11-15T17:27:42.819Z"
   },
   {
    "duration": 15,
    "start_time": "2024-11-15T17:27:43.004Z"
   },
   {
    "duration": 1147,
    "start_time": "2024-11-15T17:30:46.063Z"
   },
   {
    "duration": 643,
    "start_time": "2024-11-15T17:30:52.628Z"
   },
   {
    "duration": 667,
    "start_time": "2024-11-15T17:31:35.469Z"
   },
   {
    "duration": 725,
    "start_time": "2024-11-15T17:31:39.945Z"
   },
   {
    "duration": 440,
    "start_time": "2024-11-15T17:32:13.007Z"
   },
   {
    "duration": 1038,
    "start_time": "2024-11-15T17:32:13.450Z"
   },
   {
    "duration": 19,
    "start_time": "2024-11-15T17:32:14.490Z"
   },
   {
    "duration": 85,
    "start_time": "2024-11-15T17:32:14.512Z"
   },
   {
    "duration": 12,
    "start_time": "2024-11-15T17:32:14.600Z"
   },
   {
    "duration": 13,
    "start_time": "2024-11-15T17:32:14.614Z"
   },
   {
    "duration": 45,
    "start_time": "2024-11-15T17:32:14.629Z"
   },
   {
    "duration": 494,
    "start_time": "2024-11-15T17:32:14.676Z"
   },
   {
    "duration": 10,
    "start_time": "2024-11-15T17:32:15.172Z"
   },
   {
    "duration": 8,
    "start_time": "2024-11-15T17:32:15.185Z"
   },
   {
    "duration": 10,
    "start_time": "2024-11-15T17:32:15.194Z"
   },
   {
    "duration": 7,
    "start_time": "2024-11-15T17:32:15.206Z"
   },
   {
    "duration": 193,
    "start_time": "2024-11-15T17:32:15.215Z"
   },
   {
    "duration": 8,
    "start_time": "2024-11-15T17:32:15.411Z"
   },
   {
    "duration": 110,
    "start_time": "2024-11-15T17:32:15.420Z"
   },
   {
    "duration": 97,
    "start_time": "2024-11-15T17:32:15.532Z"
   },
   {
    "duration": 54,
    "start_time": "2024-11-15T17:32:15.631Z"
   },
   {
    "duration": 11,
    "start_time": "2024-11-15T17:32:15.687Z"
   },
   {
    "duration": 5,
    "start_time": "2024-11-15T17:32:15.700Z"
   },
   {
    "duration": 20,
    "start_time": "2024-11-15T17:32:15.706Z"
   },
   {
    "duration": 49,
    "start_time": "2024-11-15T17:32:15.728Z"
   },
   {
    "duration": 3,
    "start_time": "2024-11-15T17:32:15.779Z"
   },
   {
    "duration": 4,
    "start_time": "2024-11-15T17:32:15.784Z"
   },
   {
    "duration": 3,
    "start_time": "2024-11-15T17:32:15.790Z"
   },
   {
    "duration": 4,
    "start_time": "2024-11-15T17:32:15.794Z"
   },
   {
    "duration": 794,
    "start_time": "2024-11-15T17:32:15.799Z"
   },
   {
    "duration": 709,
    "start_time": "2024-11-15T17:32:16.594Z"
   },
   {
    "duration": 9,
    "start_time": "2024-11-15T17:32:17.305Z"
   },
   {
    "duration": 3,
    "start_time": "2024-11-15T17:32:17.316Z"
   },
   {
    "duration": 4,
    "start_time": "2024-11-15T17:32:17.320Z"
   },
   {
    "duration": 7,
    "start_time": "2024-11-15T17:32:17.326Z"
   },
   {
    "duration": 37,
    "start_time": "2024-11-15T17:32:17.335Z"
   },
   {
    "duration": 7,
    "start_time": "2024-11-15T17:32:17.373Z"
   },
   {
    "duration": 11,
    "start_time": "2024-11-15T17:32:17.382Z"
   },
   {
    "duration": 6,
    "start_time": "2024-11-15T17:32:17.394Z"
   },
   {
    "duration": 17,
    "start_time": "2024-11-15T17:32:17.401Z"
   },
   {
    "duration": 62,
    "start_time": "2024-11-15T17:32:17.420Z"
   },
   {
    "duration": 12,
    "start_time": "2024-11-15T17:32:17.484Z"
   },
   {
    "duration": 23,
    "start_time": "2024-11-15T17:32:17.498Z"
   },
   {
    "duration": 62,
    "start_time": "2024-11-15T17:32:17.522Z"
   },
   {
    "duration": 6,
    "start_time": "2024-11-15T17:32:17.590Z"
   },
   {
    "duration": 6,
    "start_time": "2024-11-15T17:32:17.597Z"
   },
   {
    "duration": 265,
    "start_time": "2024-11-15T17:32:17.605Z"
   },
   {
    "duration": 176,
    "start_time": "2024-11-15T17:32:17.871Z"
   },
   {
    "duration": 259,
    "start_time": "2024-11-15T17:32:18.049Z"
   },
   {
    "duration": 9,
    "start_time": "2024-11-15T17:32:18.309Z"
   },
   {
    "duration": 6,
    "start_time": "2024-11-15T17:32:18.320Z"
   },
   {
    "duration": 7,
    "start_time": "2024-11-15T17:32:18.328Z"
   },
   {
    "duration": 234,
    "start_time": "2024-11-15T17:32:18.337Z"
   },
   {
    "duration": 46,
    "start_time": "2024-11-15T17:32:18.573Z"
   },
   {
    "duration": 960,
    "start_time": "2024-11-15T17:32:18.622Z"
   },
   {
    "duration": 1008,
    "start_time": "2024-11-15T17:32:19.584Z"
   },
   {
    "duration": 8,
    "start_time": "2024-11-15T17:32:20.593Z"
   },
   {
    "duration": 257,
    "start_time": "2024-11-15T17:32:20.602Z"
   },
   {
    "duration": 245,
    "start_time": "2024-11-15T17:32:20.861Z"
   },
   {
    "duration": 205,
    "start_time": "2024-11-15T17:32:21.108Z"
   },
   {
    "duration": 637,
    "start_time": "2024-11-15T17:32:21.315Z"
   },
   {
    "duration": 9,
    "start_time": "2024-11-15T17:32:21.953Z"
   },
   {
    "duration": 213,
    "start_time": "2024-11-15T17:32:21.969Z"
   },
   {
    "duration": 178,
    "start_time": "2024-11-15T17:32:22.183Z"
   },
   {
    "duration": 20,
    "start_time": "2024-11-15T17:32:22.363Z"
   },
   {
    "duration": 700,
    "start_time": "2024-11-15T17:54:03.970Z"
   },
   {
    "duration": 703,
    "start_time": "2024-11-15T17:54:15.307Z"
   },
   {
    "duration": 716,
    "start_time": "2024-11-15T17:54:44.109Z"
   },
   {
    "duration": 11,
    "start_time": "2024-11-15T17:54:48.805Z"
   },
   {
    "duration": 3,
    "start_time": "2024-11-15T17:55:16.470Z"
   },
   {
    "duration": 887,
    "start_time": "2024-11-15T17:55:16.475Z"
   },
   {
    "duration": 14,
    "start_time": "2024-11-15T17:55:17.364Z"
   },
   {
    "duration": 71,
    "start_time": "2024-11-15T17:55:17.380Z"
   },
   {
    "duration": 29,
    "start_time": "2024-11-15T17:55:17.453Z"
   },
   {
    "duration": 14,
    "start_time": "2024-11-15T17:55:17.484Z"
   },
   {
    "duration": 24,
    "start_time": "2024-11-15T17:55:17.499Z"
   },
   {
    "duration": 516,
    "start_time": "2024-11-15T17:55:17.524Z"
   },
   {
    "duration": 11,
    "start_time": "2024-11-15T17:55:18.043Z"
   },
   {
    "duration": 20,
    "start_time": "2024-11-15T17:55:18.056Z"
   },
   {
    "duration": 10,
    "start_time": "2024-11-15T17:55:18.080Z"
   },
   {
    "duration": 9,
    "start_time": "2024-11-15T17:55:18.092Z"
   },
   {
    "duration": 152,
    "start_time": "2024-11-15T17:55:18.102Z"
   },
   {
    "duration": 15,
    "start_time": "2024-11-15T17:55:18.258Z"
   },
   {
    "duration": 74,
    "start_time": "2024-11-15T17:55:18.274Z"
   },
   {
    "duration": 74,
    "start_time": "2024-11-15T17:55:18.350Z"
   },
   {
    "duration": 47,
    "start_time": "2024-11-15T17:55:18.426Z"
   },
   {
    "duration": 11,
    "start_time": "2024-11-15T17:55:18.475Z"
   },
   {
    "duration": 4,
    "start_time": "2024-11-15T17:55:18.489Z"
   },
   {
    "duration": 20,
    "start_time": "2024-11-15T17:55:18.495Z"
   },
   {
    "duration": 23,
    "start_time": "2024-11-15T17:55:18.517Z"
   },
   {
    "duration": 29,
    "start_time": "2024-11-15T17:55:18.542Z"
   },
   {
    "duration": 4,
    "start_time": "2024-11-15T17:55:18.573Z"
   },
   {
    "duration": 3,
    "start_time": "2024-11-15T17:55:18.580Z"
   },
   {
    "duration": 4,
    "start_time": "2024-11-15T17:55:18.585Z"
   },
   {
    "duration": 753,
    "start_time": "2024-11-15T17:55:18.590Z"
   },
   {
    "duration": 647,
    "start_time": "2024-11-15T17:55:19.345Z"
   },
   {
    "duration": 8,
    "start_time": "2024-11-15T17:55:19.994Z"
   },
   {
    "duration": 4,
    "start_time": "2024-11-15T17:55:20.004Z"
   },
   {
    "duration": 4,
    "start_time": "2024-11-15T17:55:20.009Z"
   },
   {
    "duration": 8,
    "start_time": "2024-11-15T17:55:20.014Z"
   },
   {
    "duration": 8,
    "start_time": "2024-11-15T17:55:20.023Z"
   },
   {
    "duration": 38,
    "start_time": "2024-11-15T17:55:20.033Z"
   },
   {
    "duration": 11,
    "start_time": "2024-11-15T17:55:20.073Z"
   },
   {
    "duration": 6,
    "start_time": "2024-11-15T17:55:20.085Z"
   },
   {
    "duration": 16,
    "start_time": "2024-11-15T17:55:20.093Z"
   },
   {
    "duration": 62,
    "start_time": "2024-11-15T17:55:20.111Z"
   },
   {
    "duration": 13,
    "start_time": "2024-11-15T17:55:20.175Z"
   },
   {
    "duration": 23,
    "start_time": "2024-11-15T17:55:20.190Z"
   },
   {
    "duration": 59,
    "start_time": "2024-11-15T17:55:20.214Z"
   },
   {
    "duration": 6,
    "start_time": "2024-11-15T17:55:20.278Z"
   },
   {
    "duration": 6,
    "start_time": "2024-11-15T17:55:20.286Z"
   },
   {
    "duration": 257,
    "start_time": "2024-11-15T17:55:20.294Z"
   },
   {
    "duration": 175,
    "start_time": "2024-11-15T17:55:20.553Z"
   },
   {
    "duration": 262,
    "start_time": "2024-11-15T17:55:20.730Z"
   },
   {
    "duration": 8,
    "start_time": "2024-11-15T17:55:20.994Z"
   },
   {
    "duration": 5,
    "start_time": "2024-11-15T17:55:21.004Z"
   },
   {
    "duration": 6,
    "start_time": "2024-11-15T17:55:21.011Z"
   },
   {
    "duration": 232,
    "start_time": "2024-11-15T17:55:21.019Z"
   },
   {
    "duration": 53,
    "start_time": "2024-11-15T17:55:21.253Z"
   },
   {
    "duration": 1012,
    "start_time": "2024-11-15T17:55:21.308Z"
   },
   {
    "duration": 971,
    "start_time": "2024-11-15T17:55:22.322Z"
   },
   {
    "duration": 8,
    "start_time": "2024-11-15T17:55:23.295Z"
   },
   {
    "duration": 238,
    "start_time": "2024-11-15T17:55:23.305Z"
   },
   {
    "duration": 247,
    "start_time": "2024-11-15T17:55:23.544Z"
   },
   {
    "duration": 155,
    "start_time": "2024-11-15T17:55:23.792Z"
   },
   {
    "duration": 575,
    "start_time": "2024-11-15T17:55:23.949Z"
   },
   {
    "duration": 9,
    "start_time": "2024-11-15T17:55:24.526Z"
   },
   {
    "duration": 220,
    "start_time": "2024-11-15T17:55:24.537Z"
   },
   {
    "duration": 148,
    "start_time": "2024-11-15T17:55:24.758Z"
   },
   {
    "duration": 14,
    "start_time": "2024-11-15T17:55:24.908Z"
   },
   {
    "duration": 154,
    "start_time": "2024-11-15T18:00:27.909Z"
   },
   {
    "duration": 427,
    "start_time": "2024-11-15T18:00:38.817Z"
   },
   {
    "duration": 1032,
    "start_time": "2024-11-15T18:00:39.246Z"
   },
   {
    "duration": 17,
    "start_time": "2024-11-15T18:00:40.279Z"
   },
   {
    "duration": 82,
    "start_time": "2024-11-15T18:00:40.298Z"
   },
   {
    "duration": 13,
    "start_time": "2024-11-15T18:00:40.383Z"
   },
   {
    "duration": 13,
    "start_time": "2024-11-15T18:00:40.398Z"
   },
   {
    "duration": 26,
    "start_time": "2024-11-15T18:00:40.413Z"
   },
   {
    "duration": 491,
    "start_time": "2024-11-15T18:00:40.469Z"
   },
   {
    "duration": 16,
    "start_time": "2024-11-15T18:00:40.961Z"
   },
   {
    "duration": 8,
    "start_time": "2024-11-15T18:00:40.979Z"
   },
   {
    "duration": 12,
    "start_time": "2024-11-15T18:00:40.988Z"
   },
   {
    "duration": 10,
    "start_time": "2024-11-15T18:00:41.001Z"
   },
   {
    "duration": 202,
    "start_time": "2024-11-15T18:00:41.015Z"
   },
   {
    "duration": 7,
    "start_time": "2024-11-15T18:00:41.220Z"
   },
   {
    "duration": 117,
    "start_time": "2024-11-15T18:00:41.229Z"
   },
   {
    "duration": 96,
    "start_time": "2024-11-15T18:00:41.348Z"
   },
   {
    "duration": 49,
    "start_time": "2024-11-15T18:00:41.446Z"
   },
   {
    "duration": 11,
    "start_time": "2024-11-15T18:00:41.497Z"
   },
   {
    "duration": 4,
    "start_time": "2024-11-15T18:00:41.510Z"
   },
   {
    "duration": 19,
    "start_time": "2024-11-15T18:00:41.516Z"
   },
   {
    "duration": 48,
    "start_time": "2024-11-15T18:00:41.537Z"
   },
   {
    "duration": 3,
    "start_time": "2024-11-15T18:00:41.588Z"
   },
   {
    "duration": 4,
    "start_time": "2024-11-15T18:00:41.592Z"
   },
   {
    "duration": 3,
    "start_time": "2024-11-15T18:00:41.599Z"
   },
   {
    "duration": 4,
    "start_time": "2024-11-15T18:00:41.603Z"
   },
   {
    "duration": 795,
    "start_time": "2024-11-15T18:00:41.608Z"
   },
   {
    "duration": 682,
    "start_time": "2024-11-15T18:00:42.405Z"
   },
   {
    "duration": 11,
    "start_time": "2024-11-15T18:00:43.089Z"
   },
   {
    "duration": 4,
    "start_time": "2024-11-15T18:00:43.102Z"
   },
   {
    "duration": 4,
    "start_time": "2024-11-15T18:00:43.108Z"
   },
   {
    "duration": 9,
    "start_time": "2024-11-15T18:00:43.113Z"
   },
   {
    "duration": 8,
    "start_time": "2024-11-15T18:00:43.124Z"
   },
   {
    "duration": 41,
    "start_time": "2024-11-15T18:00:43.134Z"
   },
   {
    "duration": 10,
    "start_time": "2024-11-15T18:00:43.177Z"
   },
   {
    "duration": 6,
    "start_time": "2024-11-15T18:00:43.189Z"
   },
   {
    "duration": 17,
    "start_time": "2024-11-15T18:00:43.196Z"
   },
   {
    "duration": 55,
    "start_time": "2024-11-15T18:00:43.216Z"
   },
   {
    "duration": 12,
    "start_time": "2024-11-15T18:00:43.273Z"
   },
   {
    "duration": 22,
    "start_time": "2024-11-15T18:00:43.287Z"
   },
   {
    "duration": 61,
    "start_time": "2024-11-15T18:00:43.310Z"
   },
   {
    "duration": 7,
    "start_time": "2024-11-15T18:00:43.375Z"
   },
   {
    "duration": 6,
    "start_time": "2024-11-15T18:00:43.383Z"
   },
   {
    "duration": 260,
    "start_time": "2024-11-15T18:00:43.392Z"
   },
   {
    "duration": 178,
    "start_time": "2024-11-15T18:00:43.654Z"
   },
   {
    "duration": 266,
    "start_time": "2024-11-15T18:00:43.834Z"
   },
   {
    "duration": 9,
    "start_time": "2024-11-15T18:00:44.102Z"
   },
   {
    "duration": 6,
    "start_time": "2024-11-15T18:00:44.112Z"
   },
   {
    "duration": 7,
    "start_time": "2024-11-15T18:00:44.119Z"
   },
   {
    "duration": 242,
    "start_time": "2024-11-15T18:00:44.128Z"
   },
   {
    "duration": 45,
    "start_time": "2024-11-15T18:00:44.372Z"
   },
   {
    "duration": 955,
    "start_time": "2024-11-15T18:00:44.419Z"
   },
   {
    "duration": 1037,
    "start_time": "2024-11-15T18:00:45.376Z"
   },
   {
    "duration": 7,
    "start_time": "2024-11-15T18:00:46.414Z"
   },
   {
    "duration": 263,
    "start_time": "2024-11-15T18:00:46.423Z"
   },
   {
    "duration": 255,
    "start_time": "2024-11-15T18:00:46.689Z"
   },
   {
    "duration": 232,
    "start_time": "2024-11-15T18:00:46.946Z"
   },
   {
    "duration": 627,
    "start_time": "2024-11-15T18:00:47.181Z"
   },
   {
    "duration": 8,
    "start_time": "2024-11-15T18:00:47.812Z"
   },
   {
    "duration": 221,
    "start_time": "2024-11-15T18:00:47.822Z"
   },
   {
    "duration": 186,
    "start_time": "2024-11-15T18:00:48.046Z"
   },
   {
    "duration": 16,
    "start_time": "2024-11-15T18:00:48.234Z"
   },
   {
    "duration": 1066,
    "start_time": "2024-11-15T18:10:25.921Z"
   },
   {
    "duration": 667,
    "start_time": "2024-11-15T18:10:41.156Z"
   },
   {
    "duration": 678,
    "start_time": "2024-11-15T18:24:03.996Z"
   },
   {
    "duration": 619,
    "start_time": "2024-11-15T18:24:10.109Z"
   },
   {
    "duration": 743,
    "start_time": "2024-11-15T18:24:17.833Z"
   },
   {
    "duration": 411,
    "start_time": "2024-11-15T18:25:38.855Z"
   },
   {
    "duration": 1036,
    "start_time": "2024-11-15T18:25:39.268Z"
   },
   {
    "duration": 16,
    "start_time": "2024-11-15T18:25:40.306Z"
   },
   {
    "duration": 83,
    "start_time": "2024-11-15T18:25:40.324Z"
   },
   {
    "duration": 13,
    "start_time": "2024-11-15T18:25:40.408Z"
   },
   {
    "duration": 13,
    "start_time": "2024-11-15T18:25:40.424Z"
   },
   {
    "duration": 46,
    "start_time": "2024-11-15T18:25:40.438Z"
   },
   {
    "duration": 494,
    "start_time": "2024-11-15T18:25:40.486Z"
   },
   {
    "duration": 11,
    "start_time": "2024-11-15T18:25:40.981Z"
   },
   {
    "duration": 8,
    "start_time": "2024-11-15T18:25:40.995Z"
   },
   {
    "duration": 11,
    "start_time": "2024-11-15T18:25:41.005Z"
   },
   {
    "duration": 8,
    "start_time": "2024-11-15T18:25:41.017Z"
   },
   {
    "duration": 197,
    "start_time": "2024-11-15T18:25:41.027Z"
   },
   {
    "duration": 7,
    "start_time": "2024-11-15T18:25:41.228Z"
   },
   {
    "duration": 111,
    "start_time": "2024-11-15T18:25:41.237Z"
   },
   {
    "duration": 99,
    "start_time": "2024-11-15T18:25:41.350Z"
   },
   {
    "duration": 52,
    "start_time": "2024-11-15T18:25:41.450Z"
   },
   {
    "duration": 11,
    "start_time": "2024-11-15T18:25:41.505Z"
   },
   {
    "duration": 5,
    "start_time": "2024-11-15T18:25:41.517Z"
   },
   {
    "duration": 20,
    "start_time": "2024-11-15T18:25:41.523Z"
   },
   {
    "duration": 44,
    "start_time": "2024-11-15T18:25:41.545Z"
   },
   {
    "duration": 4,
    "start_time": "2024-11-15T18:25:41.591Z"
   },
   {
    "duration": 3,
    "start_time": "2024-11-15T18:25:41.597Z"
   },
   {
    "duration": 4,
    "start_time": "2024-11-15T18:25:41.602Z"
   },
   {
    "duration": 4,
    "start_time": "2024-11-15T18:25:41.609Z"
   },
   {
    "duration": 771,
    "start_time": "2024-11-15T18:25:41.615Z"
   },
   {
    "duration": 675,
    "start_time": "2024-11-15T18:25:42.387Z"
   },
   {
    "duration": 8,
    "start_time": "2024-11-15T18:25:43.067Z"
   },
   {
    "duration": 3,
    "start_time": "2024-11-15T18:25:43.076Z"
   },
   {
    "duration": 3,
    "start_time": "2024-11-15T18:25:43.081Z"
   },
   {
    "duration": 8,
    "start_time": "2024-11-15T18:25:43.086Z"
   },
   {
    "duration": 8,
    "start_time": "2024-11-15T18:25:43.095Z"
   },
   {
    "duration": 6,
    "start_time": "2024-11-15T18:25:43.104Z"
   },
   {
    "duration": 10,
    "start_time": "2024-11-15T18:25:43.112Z"
   },
   {
    "duration": 47,
    "start_time": "2024-11-15T18:25:43.124Z"
   },
   {
    "duration": 17,
    "start_time": "2024-11-15T18:25:43.172Z"
   },
   {
    "duration": 31,
    "start_time": "2024-11-15T18:25:43.191Z"
   },
   {
    "duration": 13,
    "start_time": "2024-11-15T18:25:43.224Z"
   },
   {
    "duration": 50,
    "start_time": "2024-11-15T18:25:43.239Z"
   },
   {
    "duration": 37,
    "start_time": "2024-11-15T18:25:43.290Z"
   },
   {
    "duration": 7,
    "start_time": "2024-11-15T18:25:43.329Z"
   },
   {
    "duration": 6,
    "start_time": "2024-11-15T18:25:43.338Z"
   },
   {
    "duration": 269,
    "start_time": "2024-11-15T18:25:43.345Z"
   },
   {
    "duration": 183,
    "start_time": "2024-11-15T18:25:43.616Z"
   },
   {
    "duration": 263,
    "start_time": "2024-11-15T18:25:43.800Z"
   },
   {
    "duration": 13,
    "start_time": "2024-11-15T18:25:44.065Z"
   },
   {
    "duration": 6,
    "start_time": "2024-11-15T18:25:44.079Z"
   },
   {
    "duration": 8,
    "start_time": "2024-11-15T18:25:44.086Z"
   },
   {
    "duration": 224,
    "start_time": "2024-11-15T18:25:44.095Z"
   },
   {
    "duration": 54,
    "start_time": "2024-11-15T18:25:44.321Z"
   },
   {
    "duration": 944,
    "start_time": "2024-11-15T18:25:44.377Z"
   },
   {
    "duration": 1013,
    "start_time": "2024-11-15T18:25:45.322Z"
   },
   {
    "duration": 9,
    "start_time": "2024-11-15T18:25:46.336Z"
   },
   {
    "duration": 311,
    "start_time": "2024-11-15T18:25:46.347Z"
   },
   {
    "duration": 277,
    "start_time": "2024-11-15T18:25:46.660Z"
   },
   {
    "duration": 150,
    "start_time": "2024-11-15T18:25:46.940Z"
   },
   {
    "duration": 630,
    "start_time": "2024-11-15T18:25:47.092Z"
   },
   {
    "duration": 9,
    "start_time": "2024-11-15T18:25:47.723Z"
   },
   {
    "duration": 228,
    "start_time": "2024-11-15T18:25:47.733Z"
   },
   {
    "duration": 179,
    "start_time": "2024-11-15T18:25:47.963Z"
   },
   {
    "duration": 15,
    "start_time": "2024-11-15T18:25:48.144Z"
   },
   {
    "duration": 776,
    "start_time": "2024-11-15T18:26:14.087Z"
   },
   {
    "duration": 9,
    "start_time": "2024-11-15T18:26:18.549Z"
   },
   {
    "duration": 6,
    "start_time": "2024-11-15T18:27:49.999Z"
   },
   {
    "duration": 895,
    "start_time": "2024-11-15T18:27:56.372Z"
   },
   {
    "duration": 802,
    "start_time": "2024-11-15T18:28:58.212Z"
   },
   {
    "duration": 789,
    "start_time": "2024-11-15T18:29:15.515Z"
   },
   {
    "duration": 4,
    "start_time": "2024-11-15T18:29:20.478Z"
   },
   {
    "duration": 9,
    "start_time": "2024-11-15T18:29:24.739Z"
   },
   {
    "duration": 484,
    "start_time": "2024-11-15T18:29:43.585Z"
   },
   {
    "duration": 39,
    "start_time": "2024-11-15T18:30:12.725Z"
   },
   {
    "duration": 37,
    "start_time": "2024-11-15T18:30:49.910Z"
   },
   {
    "duration": 13,
    "start_time": "2024-11-15T18:33:04.081Z"
   },
   {
    "duration": 870,
    "start_time": "2024-11-15T18:33:13.690Z"
   },
   {
    "duration": 791,
    "start_time": "2024-11-15T18:33:59.120Z"
   },
   {
    "duration": 796,
    "start_time": "2024-11-15T18:34:47.748Z"
   },
   {
    "duration": 10,
    "start_time": "2024-11-15T18:34:52.137Z"
   },
   {
    "duration": 39,
    "start_time": "2024-11-15T18:47:25.721Z"
   },
   {
    "duration": 46,
    "start_time": "2024-11-15T18:47:40.828Z"
   },
   {
    "duration": 22,
    "start_time": "2024-11-15T18:48:08.496Z"
   },
   {
    "duration": 526,
    "start_time": "2024-11-15T18:48:17.760Z"
   },
   {
    "duration": 815,
    "start_time": "2024-11-15T18:48:22.239Z"
   },
   {
    "duration": 899,
    "start_time": "2024-11-15T18:48:25.641Z"
   },
   {
    "duration": 4,
    "start_time": "2024-11-15T18:48:37.492Z"
   },
   {
    "duration": 836,
    "start_time": "2024-11-15T18:48:55.999Z"
   },
   {
    "duration": 4,
    "start_time": "2024-11-15T18:48:57.565Z"
   },
   {
    "duration": 882,
    "start_time": "2024-11-15T18:49:08.257Z"
   },
   {
    "duration": 4,
    "start_time": "2024-11-15T18:49:12.295Z"
   },
   {
    "duration": 486,
    "start_time": "2024-11-15T18:50:35.067Z"
   },
   {
    "duration": 4,
    "start_time": "2024-11-15T18:50:37.774Z"
   },
   {
    "duration": 549,
    "start_time": "2024-11-15T18:50:51.007Z"
   },
   {
    "duration": 555,
    "start_time": "2024-11-15T19:34:26.624Z"
   },
   {
    "duration": 492,
    "start_time": "2024-11-15T19:34:41.527Z"
   },
   {
    "duration": 530,
    "start_time": "2024-11-15T19:34:57.976Z"
   },
   {
    "duration": 813,
    "start_time": "2024-11-15T19:45:40.391Z"
   },
   {
    "duration": 780,
    "start_time": "2024-11-15T19:47:38.269Z"
   },
   {
    "duration": 809,
    "start_time": "2024-11-15T19:48:24.171Z"
   },
   {
    "duration": 53,
    "start_time": "2024-11-15T19:48:26.218Z"
   },
   {
    "duration": 51,
    "start_time": "2024-11-15T19:48:37.565Z"
   },
   {
    "duration": 53,
    "start_time": "2024-11-15T19:49:18.117Z"
   },
   {
    "duration": 53,
    "start_time": "2024-11-15T19:49:47.921Z"
   },
   {
    "duration": 2,
    "start_time": "2024-11-15T19:49:53.567Z"
   },
   {
    "duration": 831,
    "start_time": "2024-11-15T19:49:53.573Z"
   },
   {
    "duration": 13,
    "start_time": "2024-11-15T19:49:54.406Z"
   },
   {
    "duration": 79,
    "start_time": "2024-11-15T19:49:54.421Z"
   },
   {
    "duration": 17,
    "start_time": "2024-11-15T19:49:54.501Z"
   },
   {
    "duration": 14,
    "start_time": "2024-11-15T19:49:54.521Z"
   },
   {
    "duration": 45,
    "start_time": "2024-11-15T19:49:54.536Z"
   },
   {
    "duration": 502,
    "start_time": "2024-11-15T19:49:54.583Z"
   },
   {
    "duration": 12,
    "start_time": "2024-11-15T19:49:55.087Z"
   },
   {
    "duration": 8,
    "start_time": "2024-11-15T19:49:55.100Z"
   },
   {
    "duration": 11,
    "start_time": "2024-11-15T19:49:55.110Z"
   },
   {
    "duration": 8,
    "start_time": "2024-11-15T19:49:55.122Z"
   },
   {
    "duration": 164,
    "start_time": "2024-11-15T19:49:55.132Z"
   },
   {
    "duration": 8,
    "start_time": "2024-11-15T19:49:55.298Z"
   },
   {
    "duration": 90,
    "start_time": "2024-11-15T19:49:55.310Z"
   },
   {
    "duration": 73,
    "start_time": "2024-11-15T19:49:55.402Z"
   },
   {
    "duration": 36,
    "start_time": "2024-11-15T19:49:55.477Z"
   },
   {
    "duration": 12,
    "start_time": "2024-11-15T19:49:55.514Z"
   },
   {
    "duration": 4,
    "start_time": "2024-11-15T19:49:55.528Z"
   },
   {
    "duration": 49,
    "start_time": "2024-11-15T19:49:55.534Z"
   },
   {
    "duration": 24,
    "start_time": "2024-11-15T19:49:55.585Z"
   },
   {
    "duration": 4,
    "start_time": "2024-11-15T19:49:55.610Z"
   },
   {
    "duration": 3,
    "start_time": "2024-11-15T19:49:55.615Z"
   },
   {
    "duration": 3,
    "start_time": "2024-11-15T19:49:55.620Z"
   },
   {
    "duration": 3,
    "start_time": "2024-11-15T19:49:55.625Z"
   },
   {
    "duration": 800,
    "start_time": "2024-11-15T19:49:55.630Z"
   },
   {
    "duration": 714,
    "start_time": "2024-11-15T19:49:56.431Z"
   },
   {
    "duration": 8,
    "start_time": "2024-11-15T19:49:57.147Z"
   },
   {
    "duration": 22,
    "start_time": "2024-11-15T19:49:57.157Z"
   },
   {
    "duration": 4,
    "start_time": "2024-11-15T19:49:57.181Z"
   },
   {
    "duration": 9,
    "start_time": "2024-11-15T19:49:57.187Z"
   },
   {
    "duration": 9,
    "start_time": "2024-11-15T19:49:57.197Z"
   },
   {
    "duration": 8,
    "start_time": "2024-11-15T19:49:57.207Z"
   },
   {
    "duration": 10,
    "start_time": "2024-11-15T19:49:57.216Z"
   },
   {
    "duration": 6,
    "start_time": "2024-11-15T19:49:57.228Z"
   },
   {
    "duration": 50,
    "start_time": "2024-11-15T19:49:57.235Z"
   },
   {
    "duration": 30,
    "start_time": "2024-11-15T19:49:57.287Z"
   },
   {
    "duration": 12,
    "start_time": "2024-11-15T19:49:57.319Z"
   },
   {
    "duration": 48,
    "start_time": "2024-11-15T19:49:57.333Z"
   },
   {
    "duration": 36,
    "start_time": "2024-11-15T19:49:57.382Z"
   },
   {
    "duration": 7,
    "start_time": "2024-11-15T19:49:57.421Z"
   },
   {
    "duration": 7,
    "start_time": "2024-11-15T19:49:57.432Z"
   },
   {
    "duration": 317,
    "start_time": "2024-11-15T19:49:57.441Z"
   },
   {
    "duration": 178,
    "start_time": "2024-11-15T19:49:57.760Z"
   },
   {
    "duration": 264,
    "start_time": "2024-11-15T19:49:57.941Z"
   },
   {
    "duration": 9,
    "start_time": "2024-11-15T19:49:58.207Z"
   },
   {
    "duration": 6,
    "start_time": "2024-11-15T19:49:58.217Z"
   },
   {
    "duration": 7,
    "start_time": "2024-11-15T19:49:58.225Z"
   },
   {
    "duration": 226,
    "start_time": "2024-11-15T19:49:58.234Z"
   },
   {
    "duration": 49,
    "start_time": "2024-11-15T19:49:58.462Z"
   },
   {
    "duration": 962,
    "start_time": "2024-11-15T19:49:58.512Z"
   },
   {
    "duration": 980,
    "start_time": "2024-11-15T19:49:59.476Z"
   },
   {
    "duration": 14,
    "start_time": "2024-11-15T19:50:00.458Z"
   },
   {
    "duration": 228,
    "start_time": "2024-11-15T19:50:00.474Z"
   },
   {
    "duration": 263,
    "start_time": "2024-11-15T19:50:00.704Z"
   },
   {
    "duration": 156,
    "start_time": "2024-11-15T19:50:00.968Z"
   },
   {
    "duration": 610,
    "start_time": "2024-11-15T19:50:01.126Z"
   },
   {
    "duration": 10,
    "start_time": "2024-11-15T19:50:01.738Z"
   },
   {
    "duration": 233,
    "start_time": "2024-11-15T19:50:01.749Z"
   },
   {
    "duration": 140,
    "start_time": "2024-11-15T19:50:01.984Z"
   },
   {
    "duration": 15,
    "start_time": "2024-11-15T19:50:02.126Z"
   },
   {
    "duration": 736,
    "start_time": "2024-11-15T19:50:07.361Z"
   },
   {
    "duration": 52,
    "start_time": "2024-11-15T19:50:12.000Z"
   },
   {
    "duration": 717,
    "start_time": "2024-11-15T19:59:01.119Z"
   },
   {
    "duration": 54,
    "start_time": "2024-11-15T19:59:03.934Z"
   },
   {
    "duration": 52,
    "start_time": "2024-11-15T20:00:44.739Z"
   },
   {
    "duration": 714,
    "start_time": "2024-11-15T20:00:46.833Z"
   },
   {
    "duration": 461,
    "start_time": "2024-11-15T20:06:01.343Z"
   },
   {
    "duration": 490,
    "start_time": "2024-11-15T20:06:30.084Z"
   },
   {
    "duration": 437,
    "start_time": "2024-11-15T20:06:35.004Z"
   },
   {
    "duration": 493,
    "start_time": "2024-11-15T20:06:45.057Z"
   },
   {
    "duration": 459,
    "start_time": "2024-11-15T20:07:30.419Z"
   },
   {
    "duration": 495,
    "start_time": "2024-11-15T20:07:34.431Z"
   },
   {
    "duration": 446,
    "start_time": "2024-11-15T20:07:53.275Z"
   },
   {
    "duration": 471,
    "start_time": "2024-11-15T20:08:17.193Z"
   },
   {
    "duration": 684,
    "start_time": "2024-11-15T20:44:00.386Z"
   },
   {
    "duration": 3,
    "start_time": "2024-11-15T21:49:14.070Z"
   },
   {
    "duration": 795,
    "start_time": "2024-11-15T21:49:14.075Z"
   },
   {
    "duration": 14,
    "start_time": "2024-11-15T21:49:14.872Z"
   },
   {
    "duration": 69,
    "start_time": "2024-11-15T21:49:14.888Z"
   },
   {
    "duration": 14,
    "start_time": "2024-11-15T21:49:14.971Z"
   },
   {
    "duration": 13,
    "start_time": "2024-11-15T21:49:14.987Z"
   },
   {
    "duration": 23,
    "start_time": "2024-11-15T21:49:15.002Z"
   },
   {
    "duration": 529,
    "start_time": "2024-11-15T21:49:15.026Z"
   },
   {
    "duration": 19,
    "start_time": "2024-11-15T21:49:15.557Z"
   },
   {
    "duration": 8,
    "start_time": "2024-11-15T21:49:15.577Z"
   },
   {
    "duration": 11,
    "start_time": "2024-11-15T21:49:15.588Z"
   },
   {
    "duration": 8,
    "start_time": "2024-11-15T21:49:15.601Z"
   },
   {
    "duration": 147,
    "start_time": "2024-11-15T21:49:15.612Z"
   },
   {
    "duration": 8,
    "start_time": "2024-11-15T21:49:15.770Z"
   },
   {
    "duration": 73,
    "start_time": "2024-11-15T21:49:15.780Z"
   },
   {
    "duration": 63,
    "start_time": "2024-11-15T21:49:15.870Z"
   },
   {
    "duration": 44,
    "start_time": "2024-11-15T21:49:15.935Z"
   },
   {
    "duration": 12,
    "start_time": "2024-11-15T21:49:15.980Z"
   },
   {
    "duration": 5,
    "start_time": "2024-11-15T21:49:15.993Z"
   },
   {
    "duration": 21,
    "start_time": "2024-11-15T21:49:15.999Z"
   },
   {
    "duration": 136,
    "start_time": "2024-11-15T21:49:16.022Z"
   },
   {
    "duration": 12,
    "start_time": "2024-11-15T21:49:16.160Z"
   },
   {
    "duration": 3,
    "start_time": "2024-11-15T21:49:16.174Z"
   },
   {
    "duration": 3,
    "start_time": "2024-11-15T21:49:16.179Z"
   },
   {
    "duration": 4,
    "start_time": "2024-11-15T21:49:16.183Z"
   },
   {
    "duration": 729,
    "start_time": "2024-11-15T21:49:16.189Z"
   },
   {
    "duration": 616,
    "start_time": "2024-11-15T21:49:16.919Z"
   },
   {
    "duration": 8,
    "start_time": "2024-11-15T21:49:17.537Z"
   },
   {
    "duration": 3,
    "start_time": "2024-11-15T21:49:17.547Z"
   },
   {
    "duration": 4,
    "start_time": "2024-11-15T21:49:17.570Z"
   },
   {
    "duration": 7,
    "start_time": "2024-11-15T21:49:17.575Z"
   },
   {
    "duration": 7,
    "start_time": "2024-11-15T21:49:17.584Z"
   },
   {
    "duration": 7,
    "start_time": "2024-11-15T21:49:17.593Z"
   },
   {
    "duration": 11,
    "start_time": "2024-11-15T21:49:17.601Z"
   },
   {
    "duration": 6,
    "start_time": "2024-11-15T21:49:17.614Z"
   },
   {
    "duration": 61,
    "start_time": "2024-11-15T21:49:17.622Z"
   },
   {
    "duration": 34,
    "start_time": "2024-11-15T21:49:17.685Z"
   },
   {
    "duration": 12,
    "start_time": "2024-11-15T21:49:17.721Z"
   },
   {
    "duration": 42,
    "start_time": "2024-11-15T21:49:17.735Z"
   },
   {
    "duration": 41,
    "start_time": "2024-11-15T21:49:17.779Z"
   },
   {
    "duration": 7,
    "start_time": "2024-11-15T21:49:17.825Z"
   },
   {
    "duration": 6,
    "start_time": "2024-11-15T21:49:17.833Z"
   },
   {
    "duration": 252,
    "start_time": "2024-11-15T21:49:17.841Z"
   },
   {
    "duration": 174,
    "start_time": "2024-11-15T21:49:18.096Z"
   },
   {
    "duration": 265,
    "start_time": "2024-11-15T21:49:18.272Z"
   },
   {
    "duration": 10,
    "start_time": "2024-11-15T21:49:18.539Z"
   },
   {
    "duration": 5,
    "start_time": "2024-11-15T21:49:18.553Z"
   },
   {
    "duration": 7,
    "start_time": "2024-11-15T21:49:18.571Z"
   },
   {
    "duration": 215,
    "start_time": "2024-11-15T21:49:18.580Z"
   },
   {
    "duration": 44,
    "start_time": "2024-11-15T21:49:18.796Z"
   },
   {
    "duration": 949,
    "start_time": "2024-11-15T21:49:18.842Z"
   },
   {
    "duration": 949,
    "start_time": "2024-11-15T21:49:19.792Z"
   },
   {
    "duration": 8,
    "start_time": "2024-11-15T21:49:20.743Z"
   },
   {
    "duration": 227,
    "start_time": "2024-11-15T21:49:20.753Z"
   },
   {
    "duration": 214,
    "start_time": "2024-11-15T21:49:20.982Z"
   },
   {
    "duration": 156,
    "start_time": "2024-11-15T21:49:21.198Z"
   },
   {
    "duration": 612,
    "start_time": "2024-11-15T21:49:21.356Z"
   },
   {
    "duration": 9,
    "start_time": "2024-11-15T21:49:21.970Z"
   },
   {
    "duration": 221,
    "start_time": "2024-11-15T21:49:21.981Z"
   },
   {
    "duration": 139,
    "start_time": "2024-11-15T21:49:22.203Z"
   },
   {
    "duration": 14,
    "start_time": "2024-11-15T21:49:22.344Z"
   },
   {
    "duration": 18,
    "start_time": "2024-11-15T21:55:42.484Z"
   },
   {
    "duration": 145,
    "start_time": "2024-11-15T21:55:46.902Z"
   },
   {
    "duration": 17,
    "start_time": "2024-11-15T21:55:51.441Z"
   },
   {
    "duration": 737,
    "start_time": "2024-11-15T22:00:08.609Z"
   },
   {
    "duration": 25,
    "start_time": "2024-11-15T22:00:19.430Z"
   },
   {
    "duration": 114,
    "start_time": "2024-11-15T22:07:07.608Z"
   },
   {
    "duration": 59,
    "start_time": "2024-11-15T22:19:26.618Z"
   },
   {
    "duration": 24,
    "start_time": "2024-11-15T22:19:33.791Z"
   },
   {
    "duration": 490,
    "start_time": "2024-11-15T22:41:24.270Z"
   },
   {
    "duration": 484,
    "start_time": "2024-11-15T23:08:03.505Z"
   },
   {
    "duration": 479,
    "start_time": "2024-11-15T23:10:07.306Z"
   },
   {
    "duration": 500,
    "start_time": "2024-11-15T23:10:44.940Z"
   },
   {
    "duration": 494,
    "start_time": "2024-11-15T23:11:51.271Z"
   },
   {
    "duration": 4,
    "start_time": "2024-11-15T23:12:18.580Z"
   },
   {
    "duration": 493,
    "start_time": "2024-11-15T23:12:24.236Z"
   },
   {
    "duration": 471,
    "start_time": "2024-11-15T23:13:23.891Z"
   },
   {
    "duration": 478,
    "start_time": "2024-11-15T23:13:32.416Z"
   },
   {
    "duration": 468,
    "start_time": "2024-11-15T23:13:39.594Z"
   },
   {
    "duration": 104,
    "start_time": "2024-11-15T23:16:27.587Z"
   },
   {
    "duration": 101,
    "start_time": "2024-11-15T23:26:07.213Z"
   },
   {
    "duration": 84,
    "start_time": "2024-11-15T23:26:41.721Z"
   },
   {
    "duration": 13,
    "start_time": "2024-11-15T23:28:35.876Z"
   },
   {
    "duration": 176,
    "start_time": "2024-11-15T23:28:50.199Z"
   },
   {
    "duration": 3,
    "start_time": "2024-11-15T23:36:43.282Z"
   },
   {
    "duration": 823,
    "start_time": "2024-11-15T23:36:43.287Z"
   },
   {
    "duration": 14,
    "start_time": "2024-11-15T23:36:44.112Z"
   },
   {
    "duration": 82,
    "start_time": "2024-11-15T23:36:44.127Z"
   },
   {
    "duration": 14,
    "start_time": "2024-11-15T23:36:44.212Z"
   },
   {
    "duration": 14,
    "start_time": "2024-11-15T23:36:44.227Z"
   },
   {
    "duration": 47,
    "start_time": "2024-11-15T23:36:44.243Z"
   },
   {
    "duration": 497,
    "start_time": "2024-11-15T23:36:44.292Z"
   },
   {
    "duration": 10,
    "start_time": "2024-11-15T23:36:44.792Z"
   },
   {
    "duration": 9,
    "start_time": "2024-11-15T23:36:44.804Z"
   },
   {
    "duration": 10,
    "start_time": "2024-11-15T23:36:44.815Z"
   },
   {
    "duration": 8,
    "start_time": "2024-11-15T23:36:44.827Z"
   },
   {
    "duration": 137,
    "start_time": "2024-11-15T23:36:44.869Z"
   },
   {
    "duration": 6,
    "start_time": "2024-11-15T23:36:45.010Z"
   },
   {
    "duration": 87,
    "start_time": "2024-11-15T23:36:45.018Z"
   },
   {
    "duration": 75,
    "start_time": "2024-11-15T23:36:45.107Z"
   },
   {
    "duration": 37,
    "start_time": "2024-11-15T23:36:45.183Z"
   },
   {
    "duration": 13,
    "start_time": "2024-11-15T23:36:45.222Z"
   },
   {
    "duration": 4,
    "start_time": "2024-11-15T23:36:45.237Z"
   },
   {
    "duration": 42,
    "start_time": "2024-11-15T23:36:45.243Z"
   },
   {
    "duration": 23,
    "start_time": "2024-11-15T23:36:45.287Z"
   },
   {
    "duration": 4,
    "start_time": "2024-11-15T23:36:45.311Z"
   },
   {
    "duration": 3,
    "start_time": "2024-11-15T23:36:45.317Z"
   },
   {
    "duration": 3,
    "start_time": "2024-11-15T23:36:45.322Z"
   },
   {
    "duration": 4,
    "start_time": "2024-11-15T23:36:45.327Z"
   },
   {
    "duration": 714,
    "start_time": "2024-11-15T23:36:45.332Z"
   },
   {
    "duration": 623,
    "start_time": "2024-11-15T23:36:46.048Z"
   },
   {
    "duration": 10,
    "start_time": "2024-11-15T23:36:46.674Z"
   },
   {
    "duration": 4,
    "start_time": "2024-11-15T23:36:46.686Z"
   },
   {
    "duration": 4,
    "start_time": "2024-11-15T23:36:46.691Z"
   },
   {
    "duration": 8,
    "start_time": "2024-11-15T23:36:46.697Z"
   },
   {
    "duration": 9,
    "start_time": "2024-11-15T23:36:46.706Z"
   },
   {
    "duration": 7,
    "start_time": "2024-11-15T23:36:46.716Z"
   },
   {
    "duration": 52,
    "start_time": "2024-11-15T23:36:46.724Z"
   },
   {
    "duration": 6,
    "start_time": "2024-11-15T23:36:46.779Z"
   },
   {
    "duration": 18,
    "start_time": "2024-11-15T23:36:46.786Z"
   },
   {
    "duration": 31,
    "start_time": "2024-11-15T23:36:46.805Z"
   },
   {
    "duration": 41,
    "start_time": "2024-11-15T23:36:46.839Z"
   },
   {
    "duration": 22,
    "start_time": "2024-11-15T23:36:46.882Z"
   },
   {
    "duration": 38,
    "start_time": "2024-11-15T23:36:46.907Z"
   },
   {
    "duration": 10,
    "start_time": "2024-11-15T23:36:46.971Z"
   },
   {
    "duration": 7,
    "start_time": "2024-11-15T23:36:46.983Z"
   },
   {
    "duration": 254,
    "start_time": "2024-11-15T23:36:46.992Z"
   },
   {
    "duration": 177,
    "start_time": "2024-11-15T23:36:47.248Z"
   },
   {
    "duration": 257,
    "start_time": "2024-11-15T23:36:47.427Z"
   },
   {
    "duration": 9,
    "start_time": "2024-11-15T23:36:47.686Z"
   },
   {
    "duration": 5,
    "start_time": "2024-11-15T23:36:47.698Z"
   },
   {
    "duration": 9,
    "start_time": "2024-11-15T23:36:47.705Z"
   },
   {
    "duration": 229,
    "start_time": "2024-11-15T23:36:47.716Z"
   },
   {
    "duration": 52,
    "start_time": "2024-11-15T23:36:47.947Z"
   },
   {
    "duration": 937,
    "start_time": "2024-11-15T23:36:48.001Z"
   },
   {
    "duration": 925,
    "start_time": "2024-11-15T23:36:48.940Z"
   },
   {
    "duration": 6,
    "start_time": "2024-11-15T23:36:49.870Z"
   },
   {
    "duration": 228,
    "start_time": "2024-11-15T23:36:49.878Z"
   },
   {
    "duration": 232,
    "start_time": "2024-11-15T23:36:50.108Z"
   },
   {
    "duration": 240,
    "start_time": "2024-11-15T23:36:50.342Z"
   },
   {
    "duration": 562,
    "start_time": "2024-11-15T23:36:50.584Z"
   },
   {
    "duration": 8,
    "start_time": "2024-11-15T23:36:51.149Z"
   },
   {
    "duration": 217,
    "start_time": "2024-11-15T23:36:51.169Z"
   },
   {
    "duration": 135,
    "start_time": "2024-11-15T23:36:51.387Z"
   },
   {
    "duration": 15,
    "start_time": "2024-11-15T23:36:51.524Z"
   },
   {
    "duration": 730,
    "start_time": "2024-11-15T23:36:51.541Z"
   },
   {
    "duration": 25,
    "start_time": "2024-11-15T23:36:52.273Z"
   },
   {
    "duration": 95,
    "start_time": "2024-11-15T23:42:19.650Z"
   }
  ],
  "colab": {
   "provenance": []
  },
  "kernelspec": {
   "display_name": "Python 3",
   "language": "python",
   "name": "python3"
  },
  "language_info": {
   "codemirror_mode": {
    "name": "ipython",
    "version": 3
   },
   "file_extension": ".py",
   "mimetype": "text/x-python",
   "name": "python",
   "nbconvert_exporter": "python",
   "pygments_lexer": "ipython3",
   "version": "3.13.0"
  },
  "toc": {
   "base_numbering": 1,
   "nav_menu": {},
   "number_sections": true,
   "sideBar": true,
   "skip_h1_title": true,
   "title_cell": "Table of Contents",
   "title_sidebar": "Contents",
   "toc_cell": false,
   "toc_position": {},
   "toc_section_display": true,
   "toc_window_display": false
  }
 },
 "nbformat": 4,
 "nbformat_minor": 5
}
